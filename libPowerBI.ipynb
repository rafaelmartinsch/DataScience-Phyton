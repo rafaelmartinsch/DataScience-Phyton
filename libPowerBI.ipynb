{
  "cells": [
    {
      "cell_type": "markdown",
      "metadata": {
        "id": "view-in-github",
        "colab_type": "text"
      },
      "source": [
        "<a href=\"https://colab.research.google.com/github/rafaelmartinsch/DataScience-Phyton/blob/main/libPowerBI.ipynb\" target=\"_parent\"><img src=\"https://colab.research.google.com/assets/colab-badge.svg\" alt=\"Open In Colab\"/></a>"
      ]
    },
    {
      "cell_type": "code",
      "source": [
        "pip install powerbiclient"
      ],
      "metadata": {
        "id": "zGNS1659QZeV",
        "outputId": "287a27bb-f4f5-448b-ec35-b2a945dadaf2",
        "colab": {
          "base_uri": "https://localhost:8080/"
        }
      },
      "execution_count": null,
      "outputs": [
        {
          "output_type": "stream",
          "name": "stdout",
          "text": [
            "Looking in indexes: https://pypi.org/simple, https://us-python.pkg.dev/colab-wheels/public/simple/\n",
            "Collecting powerbiclient\n",
            "  Downloading powerbiclient-3.0.0-py2.py3-none-any.whl (672 kB)\n",
            "\u001b[2K     \u001b[90m━━━━━━━━━━━━━━━━━━━━━━━━━━━━━━━━━━━━━━\u001b[0m \u001b[32m672.9/672.9 kB\u001b[0m \u001b[31m10.3 MB/s\u001b[0m eta \u001b[36m0:00:00\u001b[0m\n",
            "\u001b[?25hRequirement already satisfied: ipywidgets>=7.0.0 in /usr/local/lib/python3.10/dist-packages (from powerbiclient) (7.7.1)\n",
            "Requirement already satisfied: requests>=2.25.1 in /usr/local/lib/python3.10/dist-packages (from powerbiclient) (2.27.1)\n",
            "Collecting msal>=1.8.0\n",
            "  Downloading msal-1.22.0-py2.py3-none-any.whl (90 kB)\n",
            "\u001b[2K     \u001b[90m━━━━━━━━━━━━━━━━━━━━━━━━━━━━━━━━━━━━━━━━\u001b[0m \u001b[32m90.0/90.0 kB\u001b[0m \u001b[31m9.5 MB/s\u001b[0m eta \u001b[36m0:00:00\u001b[0m\n",
            "\u001b[?25hRequirement already satisfied: pandas in /usr/local/lib/python3.10/dist-packages (from powerbiclient) (1.5.3)\n",
            "Collecting jupyter-ui-poll>=0.1.2\n",
            "  Downloading jupyter_ui_poll-0.2.2-py2.py3-none-any.whl (9.0 kB)\n",
            "Requirement already satisfied: jupyterlab-widgets>=1.0.0 in /usr/local/lib/python3.10/dist-packages (from ipywidgets>=7.0.0->powerbiclient) (3.0.7)\n",
            "Requirement already satisfied: widgetsnbextension~=3.6.0 in /usr/local/lib/python3.10/dist-packages (from ipywidgets>=7.0.0->powerbiclient) (3.6.4)\n",
            "Requirement already satisfied: ipython-genutils~=0.2.0 in /usr/local/lib/python3.10/dist-packages (from ipywidgets>=7.0.0->powerbiclient) (0.2.0)\n",
            "Requirement already satisfied: ipython>=4.0.0 in /usr/local/lib/python3.10/dist-packages (from ipywidgets>=7.0.0->powerbiclient) (7.34.0)\n",
            "Requirement already satisfied: traitlets>=4.3.1 in /usr/local/lib/python3.10/dist-packages (from ipywidgets>=7.0.0->powerbiclient) (5.7.1)\n",
            "Requirement already satisfied: ipykernel>=4.5.1 in /usr/local/lib/python3.10/dist-packages (from ipywidgets>=7.0.0->powerbiclient) (5.5.6)\n",
            "Requirement already satisfied: cryptography<43,>=0.6 in /usr/local/lib/python3.10/dist-packages (from msal>=1.8.0->powerbiclient) (40.0.2)\n",
            "Collecting PyJWT[crypto]<3,>=1.0.0\n",
            "  Downloading PyJWT-2.6.0-py3-none-any.whl (20 kB)\n",
            "Requirement already satisfied: charset-normalizer~=2.0.0 in /usr/local/lib/python3.10/dist-packages (from requests>=2.25.1->powerbiclient) (2.0.12)\n",
            "Requirement already satisfied: idna<4,>=2.5 in /usr/local/lib/python3.10/dist-packages (from requests>=2.25.1->powerbiclient) (3.4)\n",
            "Requirement already satisfied: urllib3<1.27,>=1.21.1 in /usr/local/lib/python3.10/dist-packages (from requests>=2.25.1->powerbiclient) (1.26.15)\n",
            "Requirement already satisfied: certifi>=2017.4.17 in /usr/local/lib/python3.10/dist-packages (from requests>=2.25.1->powerbiclient) (2022.12.7)\n",
            "Requirement already satisfied: numpy>=1.21.0 in /usr/local/lib/python3.10/dist-packages (from pandas->powerbiclient) (1.22.4)\n",
            "Requirement already satisfied: python-dateutil>=2.8.1 in /usr/local/lib/python3.10/dist-packages (from pandas->powerbiclient) (2.8.2)\n",
            "Requirement already satisfied: pytz>=2020.1 in /usr/local/lib/python3.10/dist-packages (from pandas->powerbiclient) (2022.7.1)\n",
            "Requirement already satisfied: cffi>=1.12 in /usr/local/lib/python3.10/dist-packages (from cryptography<43,>=0.6->msal>=1.8.0->powerbiclient) (1.15.1)\n",
            "Requirement already satisfied: tornado>=4.2 in /usr/local/lib/python3.10/dist-packages (from ipykernel>=4.5.1->ipywidgets>=7.0.0->powerbiclient) (6.2)\n",
            "Requirement already satisfied: jupyter-client in /usr/local/lib/python3.10/dist-packages (from ipykernel>=4.5.1->ipywidgets>=7.0.0->powerbiclient) (6.1.12)\n",
            "Requirement already satisfied: pexpect>4.3 in /usr/local/lib/python3.10/dist-packages (from ipython>=4.0.0->ipywidgets>=7.0.0->powerbiclient) (4.8.0)\n",
            "Requirement already satisfied: pickleshare in /usr/local/lib/python3.10/dist-packages (from ipython>=4.0.0->ipywidgets>=7.0.0->powerbiclient) (0.7.5)\n",
            "Requirement already satisfied: pygments in /usr/local/lib/python3.10/dist-packages (from ipython>=4.0.0->ipywidgets>=7.0.0->powerbiclient) (2.14.0)\n",
            "Requirement already satisfied: backcall in /usr/local/lib/python3.10/dist-packages (from ipython>=4.0.0->ipywidgets>=7.0.0->powerbiclient) (0.2.0)\n",
            "Requirement already satisfied: matplotlib-inline in /usr/local/lib/python3.10/dist-packages (from ipython>=4.0.0->ipywidgets>=7.0.0->powerbiclient) (0.1.6)\n",
            "Collecting jedi>=0.16\n",
            "  Downloading jedi-0.18.2-py2.py3-none-any.whl (1.6 MB)\n",
            "\u001b[2K     \u001b[90m━━━━━━━━━━━━━━━━━━━━━━━━━━━━━━━━━━━━━━━━\u001b[0m \u001b[32m1.6/1.6 MB\u001b[0m \u001b[31m41.9 MB/s\u001b[0m eta \u001b[36m0:00:00\u001b[0m\n",
            "\u001b[?25hRequirement already satisfied: setuptools>=18.5 in /usr/local/lib/python3.10/dist-packages (from ipython>=4.0.0->ipywidgets>=7.0.0->powerbiclient) (67.7.2)\n",
            "Requirement already satisfied: prompt-toolkit!=3.0.0,!=3.0.1,<3.1.0,>=2.0.0 in /usr/local/lib/python3.10/dist-packages (from ipython>=4.0.0->ipywidgets>=7.0.0->powerbiclient) (3.0.38)\n",
            "Requirement already satisfied: decorator in /usr/local/lib/python3.10/dist-packages (from ipython>=4.0.0->ipywidgets>=7.0.0->powerbiclient) (4.4.2)\n",
            "Requirement already satisfied: six>=1.5 in /usr/local/lib/python3.10/dist-packages (from python-dateutil>=2.8.1->pandas->powerbiclient) (1.16.0)\n",
            "Requirement already satisfied: notebook>=4.4.1 in /usr/local/lib/python3.10/dist-packages (from widgetsnbextension~=3.6.0->ipywidgets>=7.0.0->powerbiclient) (6.4.8)\n",
            "Requirement already satisfied: pycparser in /usr/local/lib/python3.10/dist-packages (from cffi>=1.12->cryptography<43,>=0.6->msal>=1.8.0->powerbiclient) (2.21)\n",
            "Requirement already satisfied: parso<0.9.0,>=0.8.0 in /usr/local/lib/python3.10/dist-packages (from jedi>=0.16->ipython>=4.0.0->ipywidgets>=7.0.0->powerbiclient) (0.8.3)\n",
            "Requirement already satisfied: nbconvert in /usr/local/lib/python3.10/dist-packages (from notebook>=4.4.1->widgetsnbextension~=3.6.0->ipywidgets>=7.0.0->powerbiclient) (6.5.4)\n",
            "Requirement already satisfied: pyzmq>=17 in /usr/local/lib/python3.10/dist-packages (from notebook>=4.4.1->widgetsnbextension~=3.6.0->ipywidgets>=7.0.0->powerbiclient) (23.2.1)\n",
            "Requirement already satisfied: nest-asyncio>=1.5 in /usr/local/lib/python3.10/dist-packages (from notebook>=4.4.1->widgetsnbextension~=3.6.0->ipywidgets>=7.0.0->powerbiclient) (1.5.6)\n",
            "Requirement already satisfied: Send2Trash>=1.8.0 in /usr/local/lib/python3.10/dist-packages (from notebook>=4.4.1->widgetsnbextension~=3.6.0->ipywidgets>=7.0.0->powerbiclient) (1.8.0)\n",
            "Requirement already satisfied: prometheus-client in /usr/local/lib/python3.10/dist-packages (from notebook>=4.4.1->widgetsnbextension~=3.6.0->ipywidgets>=7.0.0->powerbiclient) (0.16.0)\n",
            "Requirement already satisfied: argon2-cffi in /usr/local/lib/python3.10/dist-packages (from notebook>=4.4.1->widgetsnbextension~=3.6.0->ipywidgets>=7.0.0->powerbiclient) (21.3.0)\n",
            "Requirement already satisfied: nbformat in /usr/local/lib/python3.10/dist-packages (from notebook>=4.4.1->widgetsnbextension~=3.6.0->ipywidgets>=7.0.0->powerbiclient) (5.8.0)\n",
            "Requirement already satisfied: jupyter-core>=4.6.1 in /usr/local/lib/python3.10/dist-packages (from notebook>=4.4.1->widgetsnbextension~=3.6.0->ipywidgets>=7.0.0->powerbiclient) (5.3.0)\n",
            "Requirement already satisfied: terminado>=0.8.3 in /usr/local/lib/python3.10/dist-packages (from notebook>=4.4.1->widgetsnbextension~=3.6.0->ipywidgets>=7.0.0->powerbiclient) (0.17.1)\n",
            "Requirement already satisfied: jinja2 in /usr/local/lib/python3.10/dist-packages (from notebook>=4.4.1->widgetsnbextension~=3.6.0->ipywidgets>=7.0.0->powerbiclient) (3.1.2)\n",
            "Requirement already satisfied: ptyprocess>=0.5 in /usr/local/lib/python3.10/dist-packages (from pexpect>4.3->ipython>=4.0.0->ipywidgets>=7.0.0->powerbiclient) (0.7.0)\n",
            "Requirement already satisfied: wcwidth in /usr/local/lib/python3.10/dist-packages (from prompt-toolkit!=3.0.0,!=3.0.1,<3.1.0,>=2.0.0->ipython>=4.0.0->ipywidgets>=7.0.0->powerbiclient) (0.2.6)\n",
            "Requirement already satisfied: platformdirs>=2.5 in /usr/local/lib/python3.10/dist-packages (from jupyter-core>=4.6.1->notebook>=4.4.1->widgetsnbextension~=3.6.0->ipywidgets>=7.0.0->powerbiclient) (3.3.0)\n",
            "Requirement already satisfied: argon2-cffi-bindings in /usr/local/lib/python3.10/dist-packages (from argon2-cffi->notebook>=4.4.1->widgetsnbextension~=3.6.0->ipywidgets>=7.0.0->powerbiclient) (21.2.0)\n",
            "Requirement already satisfied: MarkupSafe>=2.0 in /usr/local/lib/python3.10/dist-packages (from jinja2->notebook>=4.4.1->widgetsnbextension~=3.6.0->ipywidgets>=7.0.0->powerbiclient) (2.1.2)\n",
            "Requirement already satisfied: lxml in /usr/local/lib/python3.10/dist-packages (from nbconvert->notebook>=4.4.1->widgetsnbextension~=3.6.0->ipywidgets>=7.0.0->powerbiclient) (4.9.2)\n",
            "Requirement already satisfied: pandocfilters>=1.4.1 in /usr/local/lib/python3.10/dist-packages (from nbconvert->notebook>=4.4.1->widgetsnbextension~=3.6.0->ipywidgets>=7.0.0->powerbiclient) (1.5.0)\n",
            "Requirement already satisfied: nbclient>=0.5.0 in /usr/local/lib/python3.10/dist-packages (from nbconvert->notebook>=4.4.1->widgetsnbextension~=3.6.0->ipywidgets>=7.0.0->powerbiclient) (0.7.4)\n",
            "Requirement already satisfied: tinycss2 in /usr/local/lib/python3.10/dist-packages (from nbconvert->notebook>=4.4.1->widgetsnbextension~=3.6.0->ipywidgets>=7.0.0->powerbiclient) (1.2.1)\n",
            "Requirement already satisfied: jupyterlab-pygments in /usr/local/lib/python3.10/dist-packages (from nbconvert->notebook>=4.4.1->widgetsnbextension~=3.6.0->ipywidgets>=7.0.0->powerbiclient) (0.2.2)\n",
            "Requirement already satisfied: entrypoints>=0.2.2 in /usr/local/lib/python3.10/dist-packages (from nbconvert->notebook>=4.4.1->widgetsnbextension~=3.6.0->ipywidgets>=7.0.0->powerbiclient) (0.4)\n",
            "Requirement already satisfied: defusedxml in /usr/local/lib/python3.10/dist-packages (from nbconvert->notebook>=4.4.1->widgetsnbextension~=3.6.0->ipywidgets>=7.0.0->powerbiclient) (0.7.1)\n",
            "Requirement already satisfied: bleach in /usr/local/lib/python3.10/dist-packages (from nbconvert->notebook>=4.4.1->widgetsnbextension~=3.6.0->ipywidgets>=7.0.0->powerbiclient) (6.0.0)\n",
            "Requirement already satisfied: beautifulsoup4 in /usr/local/lib/python3.10/dist-packages (from nbconvert->notebook>=4.4.1->widgetsnbextension~=3.6.0->ipywidgets>=7.0.0->powerbiclient) (4.11.2)\n",
            "Requirement already satisfied: packaging in /usr/local/lib/python3.10/dist-packages (from nbconvert->notebook>=4.4.1->widgetsnbextension~=3.6.0->ipywidgets>=7.0.0->powerbiclient) (23.1)\n",
            "Requirement already satisfied: mistune<2,>=0.8.1 in /usr/local/lib/python3.10/dist-packages (from nbconvert->notebook>=4.4.1->widgetsnbextension~=3.6.0->ipywidgets>=7.0.0->powerbiclient) (0.8.4)\n",
            "Requirement already satisfied: jsonschema>=2.6 in /usr/local/lib/python3.10/dist-packages (from nbformat->notebook>=4.4.1->widgetsnbextension~=3.6.0->ipywidgets>=7.0.0->powerbiclient) (4.3.3)\n",
            "Requirement already satisfied: fastjsonschema in /usr/local/lib/python3.10/dist-packages (from nbformat->notebook>=4.4.1->widgetsnbextension~=3.6.0->ipywidgets>=7.0.0->powerbiclient) (2.16.3)\n",
            "Requirement already satisfied: attrs>=17.4.0 in /usr/local/lib/python3.10/dist-packages (from jsonschema>=2.6->nbformat->notebook>=4.4.1->widgetsnbextension~=3.6.0->ipywidgets>=7.0.0->powerbiclient) (23.1.0)\n",
            "Requirement already satisfied: pyrsistent!=0.17.0,!=0.17.1,!=0.17.2,>=0.14.0 in /usr/local/lib/python3.10/dist-packages (from jsonschema>=2.6->nbformat->notebook>=4.4.1->widgetsnbextension~=3.6.0->ipywidgets>=7.0.0->powerbiclient) (0.19.3)\n",
            "Requirement already satisfied: soupsieve>1.2 in /usr/local/lib/python3.10/dist-packages (from beautifulsoup4->nbconvert->notebook>=4.4.1->widgetsnbextension~=3.6.0->ipywidgets>=7.0.0->powerbiclient) (2.4.1)\n",
            "Requirement already satisfied: webencodings in /usr/local/lib/python3.10/dist-packages (from bleach->nbconvert->notebook>=4.4.1->widgetsnbextension~=3.6.0->ipywidgets>=7.0.0->powerbiclient) (0.5.1)\n",
            "Installing collected packages: PyJWT, jedi, jupyter-ui-poll, msal, powerbiclient\n",
            "Successfully installed PyJWT-2.6.0 jedi-0.18.2 jupyter-ui-poll-0.2.2 msal-1.22.0 powerbiclient-3.0.0\n"
          ]
        }
      ]
    },
    {
      "cell_type": "code",
      "source": [
        "from powerbiclient import QuickVisualize, get_dataset_config, Report \n",
        "from powerbiclient.authentication import DeviceCodeLoginAuthentication\n",
        "\n",
        "device_auth = DeviceCodeLoginAuthentication()"
      ],
      "metadata": {
        "id": "kbJUvWSUQcgv",
        "outputId": "9f4136b1-2732-4e35-b723-4fad73190cd6",
        "colab": {
          "base_uri": "https://localhost:8080/"
        }
      },
      "execution_count": null,
      "outputs": [
        {
          "output_type": "stream",
          "name": "stdout",
          "text": [
            "Performing device flow authentication. Please follow the instructions below.\n",
            "To sign in, use a web browser to open the page https://microsoft.com/devicelogin and enter the code RZH2FR45L to authenticate.\n",
            "\n",
            "Device flow authentication successfully completed.\n",
            "You are now logged in .\n",
            "\n",
            "The result should be passed only to trusted code in your notebook.\n"
          ]
        }
      ]
    },
    {
      "cell_type": "code",
      "source": [
        "import pandas as pd\n",
        "df = pd.read_excel('/content/dados.xlsx')\n",
        "df.head()"
      ],
      "metadata": {
        "id": "0IfZQzy1Q0nu",
        "outputId": "c049f481-7f77-488f-c6e7-6b9542c83576",
        "colab": {
          "base_uri": "https://localhost:8080/",
          "height": 206
        }
      },
      "execution_count": null,
      "outputs": [
        {
          "output_type": "execute_result",
          "data": {
            "text/plain": [
              "                 Pin  ...  Last Called In\n",
              "0  1BM5090ECL6004229  ...    Last 15 days\n",
              "1  1BM6115JAJD000900  ...       365+ days\n",
              "2  1BM6135JHJD000443  ...  61 to 365 days\n",
              "3  1BM6150MAL3000106  ...    Last 15 days\n",
              "4  1BM6150MALH000206  ...    Last 15 days\n",
              "\n",
              "[5 rows x 5 columns]"
            ],
            "text/html": [
              "\n",
              "  <div id=\"df-9378eba4-ee5e-43b6-8558-46e19615fee3\">\n",
              "    <div class=\"colab-df-container\">\n",
              "      <div>\n",
              "<style scoped>\n",
              "    .dataframe tbody tr th:only-of-type {\n",
              "        vertical-align: middle;\n",
              "    }\n",
              "\n",
              "    .dataframe tbody tr th {\n",
              "        vertical-align: top;\n",
              "    }\n",
              "\n",
              "    .dataframe thead th {\n",
              "        text-align: right;\n",
              "    }\n",
              "</style>\n",
              "<table border=\"1\" class=\"dataframe\">\n",
              "  <thead>\n",
              "    <tr style=\"text-align: right;\">\n",
              "      <th></th>\n",
              "      <th>Pin</th>\n",
              "      <th>Dealer</th>\n",
              "      <th>Last Called In Date</th>\n",
              "      <th>Machine Hour In Period</th>\n",
              "      <th>Last Called In</th>\n",
              "    </tr>\n",
              "  </thead>\n",
              "  <tbody>\n",
              "    <tr>\n",
              "      <th>0</th>\n",
              "      <td>1BM5090ECL6004229</td>\n",
              "      <td>CIARAMA MAQUINAS LTDA</td>\n",
              "      <td>4/24/2023</td>\n",
              "      <td>6510.40</td>\n",
              "      <td>Last 15 days</td>\n",
              "    </tr>\n",
              "    <tr>\n",
              "      <th>1</th>\n",
              "      <td>1BM6115JAJD000900</td>\n",
              "      <td>CIARAMA MAQUINAS LTDA</td>\n",
              "      <td>4/3/2019</td>\n",
              "      <td>NaN</td>\n",
              "      <td>365+ days</td>\n",
              "    </tr>\n",
              "    <tr>\n",
              "      <th>2</th>\n",
              "      <td>1BM6135JHJD000443</td>\n",
              "      <td>CIARAMA MAQUINAS LTDA</td>\n",
              "      <td>10/24/2022</td>\n",
              "      <td>NaN</td>\n",
              "      <td>61 to 365 days</td>\n",
              "    </tr>\n",
              "    <tr>\n",
              "      <th>3</th>\n",
              "      <td>1BM6150MAL3000106</td>\n",
              "      <td>CIARAMA MAQUINAS LTDA</td>\n",
              "      <td>4/24/2023</td>\n",
              "      <td>2943.45</td>\n",
              "      <td>Last 15 days</td>\n",
              "    </tr>\n",
              "    <tr>\n",
              "      <th>4</th>\n",
              "      <td>1BM6150MALH000206</td>\n",
              "      <td>CIARAMA MAQUINAS LTDA</td>\n",
              "      <td>4/13/2023</td>\n",
              "      <td>NaN</td>\n",
              "      <td>Last 15 days</td>\n",
              "    </tr>\n",
              "  </tbody>\n",
              "</table>\n",
              "</div>\n",
              "      <button class=\"colab-df-convert\" onclick=\"convertToInteractive('df-9378eba4-ee5e-43b6-8558-46e19615fee3')\"\n",
              "              title=\"Convert this dataframe to an interactive table.\"\n",
              "              style=\"display:none;\">\n",
              "        \n",
              "  <svg xmlns=\"http://www.w3.org/2000/svg\" height=\"24px\"viewBox=\"0 0 24 24\"\n",
              "       width=\"24px\">\n",
              "    <path d=\"M0 0h24v24H0V0z\" fill=\"none\"/>\n",
              "    <path d=\"M18.56 5.44l.94 2.06.94-2.06 2.06-.94-2.06-.94-.94-2.06-.94 2.06-2.06.94zm-11 1L8.5 8.5l.94-2.06 2.06-.94-2.06-.94L8.5 2.5l-.94 2.06-2.06.94zm10 10l.94 2.06.94-2.06 2.06-.94-2.06-.94-.94-2.06-.94 2.06-2.06.94z\"/><path d=\"M17.41 7.96l-1.37-1.37c-.4-.4-.92-.59-1.43-.59-.52 0-1.04.2-1.43.59L10.3 9.45l-7.72 7.72c-.78.78-.78 2.05 0 2.83L4 21.41c.39.39.9.59 1.41.59.51 0 1.02-.2 1.41-.59l7.78-7.78 2.81-2.81c.8-.78.8-2.07 0-2.86zM5.41 20L4 18.59l7.72-7.72 1.47 1.35L5.41 20z\"/>\n",
              "  </svg>\n",
              "      </button>\n",
              "      \n",
              "  <style>\n",
              "    .colab-df-container {\n",
              "      display:flex;\n",
              "      flex-wrap:wrap;\n",
              "      gap: 12px;\n",
              "    }\n",
              "\n",
              "    .colab-df-convert {\n",
              "      background-color: #E8F0FE;\n",
              "      border: none;\n",
              "      border-radius: 50%;\n",
              "      cursor: pointer;\n",
              "      display: none;\n",
              "      fill: #1967D2;\n",
              "      height: 32px;\n",
              "      padding: 0 0 0 0;\n",
              "      width: 32px;\n",
              "    }\n",
              "\n",
              "    .colab-df-convert:hover {\n",
              "      background-color: #E2EBFA;\n",
              "      box-shadow: 0px 1px 2px rgba(60, 64, 67, 0.3), 0px 1px 3px 1px rgba(60, 64, 67, 0.15);\n",
              "      fill: #174EA6;\n",
              "    }\n",
              "\n",
              "    [theme=dark] .colab-df-convert {\n",
              "      background-color: #3B4455;\n",
              "      fill: #D2E3FC;\n",
              "    }\n",
              "\n",
              "    [theme=dark] .colab-df-convert:hover {\n",
              "      background-color: #434B5C;\n",
              "      box-shadow: 0px 1px 3px 1px rgba(0, 0, 0, 0.15);\n",
              "      filter: drop-shadow(0px 1px 2px rgba(0, 0, 0, 0.3));\n",
              "      fill: #FFFFFF;\n",
              "    }\n",
              "  </style>\n",
              "\n",
              "      <script>\n",
              "        const buttonEl =\n",
              "          document.querySelector('#df-9378eba4-ee5e-43b6-8558-46e19615fee3 button.colab-df-convert');\n",
              "        buttonEl.style.display =\n",
              "          google.colab.kernel.accessAllowed ? 'block' : 'none';\n",
              "\n",
              "        async function convertToInteractive(key) {\n",
              "          const element = document.querySelector('#df-9378eba4-ee5e-43b6-8558-46e19615fee3');\n",
              "          const dataTable =\n",
              "            await google.colab.kernel.invokeFunction('convertToInteractive',\n",
              "                                                     [key], {});\n",
              "          if (!dataTable) return;\n",
              "\n",
              "          const docLinkHtml = 'Like what you see? Visit the ' +\n",
              "            '<a target=\"_blank\" href=https://colab.research.google.com/notebooks/data_table.ipynb>data table notebook</a>'\n",
              "            + ' to learn more about interactive tables.';\n",
              "          element.innerHTML = '';\n",
              "          dataTable['output_type'] = 'display_data';\n",
              "          await google.colab.output.renderOutput(dataTable, element);\n",
              "          const docLink = document.createElement('div');\n",
              "          docLink.innerHTML = docLinkHtml;\n",
              "          element.appendChild(docLink);\n",
              "        }\n",
              "      </script>\n",
              "    </div>\n",
              "  </div>\n",
              "  "
            ]
          },
          "metadata": {},
          "execution_count": 8
        }
      ]
    },
    {
      "cell_type": "code",
      "source": [
        "from google.colab import output\n",
        "output.enable_custom_widget_manager()"
      ],
      "metadata": {
        "id": "TDIJQFSkS_VD"
      },
      "execution_count": null,
      "outputs": []
    },
    {
      "cell_type": "code",
      "source": [
        "PBI_View =  QuickVisualize(get_dataset_config(df), auth=device_auth)\n",
        "\n",
        "PBI_View"
      ],
      "metadata": {
        "id": "zisrFK-fRGaR",
        "outputId": "0c01565e-bad1-4bca-b28c-3ddf7f912ec3",
        "colab": {
          "base_uri": "https://localhost:8080/",
          "height": 529,
          "referenced_widgets": [
            "55c2d9e2decc4ccbb0a653d0237ec9f8",
            "118b511636234711b86a2984d31e2c49"
          ]
        }
      },
      "execution_count": null,
      "outputs": [
        {
          "output_type": "display_data",
          "data": {
            "text/plain": [
              "QuickVisualize()"
            ],
            "application/vnd.jupyter.widget-view+json": {
              "version_major": 2,
              "version_minor": 0,
              "model_id": "55c2d9e2decc4ccbb0a653d0237ec9f8"
            }
          },
          "metadata": {
            "application/vnd.jupyter.widget-view+json": {
              "colab": {
                "custom_widget_manager": {
                  "url": "https://ssl.gstatic.com/colaboratory-static/widgets/colab-cdn-widget-manager/b3e629b1971e1542/manager.min.js"
                }
              }
            }
          }
        }
      ]
    },
    {
      "cell_type": "code",
      "source": [],
      "metadata": {
        "id": "bPR8m67ZRrLB"
      },
      "execution_count": null,
      "outputs": []
    }
  ],
  "metadata": {
    "colab": {
      "toc_visible": true,
      "provenance": [],
      "include_colab_link": true
    },
    "kernelspec": {
      "display_name": "Python 3",
      "name": "python3"
    },
    "widgets": {
      "application/vnd.jupyter.widget-state+json": {
        "55c2d9e2decc4ccbb0a653d0237ec9f8": {
          "model_module": "powerbi-jupyter-client",
          "model_name": "QuickVisualizeModel",
          "model_module_version": "3.0.0",
          "state": {
            "_dom_classes": [],
            "_embed_config": {
              "accessToken": "eyJ0eXAiOiJKV1QiLCJhbGciOiJSUzI1NiIsIng1dCI6Ii1LSTNROW5OUjdiUm9meG1lWm9YcWJIWkdldyIsImtpZCI6Ii1LSTNROW5OUjdiUm9meG1lWm9YcWJIWkdldyJ9.eyJhdWQiOiJodHRwczovL2FuYWx5c2lzLndpbmRvd3MubmV0L3Bvd2VyYmkvYXBpIiwiaXNzIjoiaHR0cHM6Ly9zdHMud2luZG93cy5uZXQvMTg0NjI3NzctMjk1MC00OGQ3LTk4ZjMtYjJkODVhYjFhMTQxLyIsImlhdCI6MTY4MjY5MjEzOSwibmJmIjoxNjgyNjkyMTM5LCJleHAiOjE2ODI2OTY1MTksImFjY3QiOjAsImFjciI6IjEiLCJhaW8iOiJBVFFBeS84VEFBQUFKOHkyV1pIcGRuYnp4WmZua0IwZ3JnWFJqYkVOR0JNcjFyalhzMHZVTzZwMk5zOEpLQUNZSlFUc2U2YUtUSndSIiwiYW1yIjpbInB3ZCJdLCJhcHBpZCI6IjFhZWEzZjk3LWVkYzYtNDQ1My1hNTliLWI4OGIwYjgwMzcxMSIsImFwcGlkYWNyIjoiMCIsImZhbWlseV9uYW1lIjoiQ2lhcmFtYSIsImdpdmVuX25hbWUiOiJEZXNlbnZvbHZpbWVudG8iLCJpcGFkZHIiOiIzNS4xOTYuOTguMjEwIiwibmFtZSI6IkRlc2Vudm9sdmltZW50byBDaWFyYW1hIiwib2lkIjoiYzA4ZTMzOGUtZmQ5Yi00ZDY2LWE1YjAtNzUwNGIxZWRkMWU0IiwicHVpZCI6IjEwMDM3RkZFQUU3NkFGRTciLCJyaCI6IjAuQVNVQWR5ZEdHRkFwMTBpWTg3TFlXckdoUVFrQUFBQUFBQUFBd0FBQUFBQUFBQUFsQU9ZLiIsInNjcCI6IkNvbnRlbnQuQ3JlYXRlIERhdGFzZXQuUmVhZFdyaXRlLkFsbCBSZXBvcnQuUmVhZFdyaXRlLkFsbCBXb3Jrc3BhY2UuUmVhZC5BbGwiLCJzdWIiOiJKYWdQa2hGM0RNdllSaGQxUFNLeDJ6V3ZmeE9wMWtDUXJaOTJ1YnAzSHJZIiwidGlkIjoiMTg0NjI3NzctMjk1MC00OGQ3LTk4ZjMtYjJkODVhYjFhMTQxIiwidW5pcXVlX25hbWUiOiJkZXNlbnZvbHZpbWVudG9AY2lhcmFtYS5jb20uYnIiLCJ1cG4iOiJkZXNlbnZvbHZpbWVudG9AY2lhcmFtYS5jb20uYnIiLCJ1dGkiOiItank0REQwVHMwS1RWclBDRE40Y0FBIiwidmVyIjoiMS4wIiwid2lkcyI6WyJiNzlmYmY0ZC0zZWY5LTQ2ODktODE0My03NmIxOTRlODU1MDkiXSwieG1zX3BsIjoicHQtQlIifQ.WLMyq3WwruQQSq4R-nS1MfZp6vuCEDZ2AnAQtC6U_g94MKNrfi0emLJPstD16bys9pjltyXumiDHT8slbXjnhfXtI9IYhE2jGOb-HiegtV9cHJS5xnDau_MAwr64mIZj_xHrYRiTcSq_oiSf8Z9g8Qah-iihsJOxjkoErGZyS5Yd7kT6nEeklisMKmKDeapR9HwB3n9AMBG4du8Y9PKUVGxyXVBNaSmHGOaphPf9XPFn0rA6sRC-wIbP8sy30nqy1I6sG4n_d_v3FBTY8ipaq8jaRHR8MQhDYP7lWulSuMXcCOY6_wN-W-O5mgoqGLxUQDvu9--Kw-uIlOa4tD-_7Q",
              "datasetCreateConfig": {
                "locale": "en-US",
                "tableSchemaList": [
                  {
                    "name": "Table",
                    "columns": [
                      {
                        "name": "Pin",
                        "dataType": "Text"
                      },
                      {
                        "name": "Dealer",
                        "dataType": "Text"
                      },
                      {
                        "name": "Last Called In Date",
                        "dataType": "Text"
                      },
                      {
                        "name": "Machine Hour In Period",
                        "dataType": "Text"
                      },
                      {
                        "name": "Last Called In",
                        "dataType": "Text"
                      }
                    ]
                  }
                ],
                "data": [
                  {
                    "name": "Table",
                    "rows": [
                      [
                        "1BM5090ECL6004229",
                        "CIARAMA MAQUINAS LTDA",
                        "4/24/2023",
                        "6510.4",
                        "Last 15 days"
                      ],
                      [
                        "1BM6115JAJD000900",
                        "CIARAMA MAQUINAS LTDA",
                        "4/3/2019",
                        "",
                        "365+ days"
                      ],
                      [
                        "1BM6135JHJD000443",
                        "CIARAMA MAQUINAS LTDA",
                        "10/24/2022",
                        "",
                        "61 to 365 days"
                      ],
                      [
                        "1BM6150MAL3000106",
                        "CIARAMA MAQUINAS LTDA",
                        "4/24/2023",
                        "2943.45",
                        "Last 15 days"
                      ],
                      [
                        "1BM6150MALH000206",
                        "CIARAMA MAQUINAS LTDA",
                        "4/13/2023",
                        "",
                        "Last 15 days"
                      ],
                      [
                        "1BM6150MANH000547",
                        "CIARAMA MAQUINAS LTDA",
                        "4/1/2023",
                        "536.15",
                        "16 to 60 days"
                      ],
                      [
                        "1BM6150MLL3000141",
                        "CIARAMA MAQUINAS LTDA",
                        "4/20/2023",
                        "1108.0",
                        "Last 15 days"
                      ],
                      [
                        "1BM6150MLLH000207",
                        "CIARAMA MAQUINAS LTDA",
                        "4/17/2023",
                        "2104.5",
                        "Last 15 days"
                      ],
                      [
                        "1BM6150MLP3000906",
                        "CIARAMA MAQUINAS LTDA",
                        "3/15/2023",
                        "1.6",
                        "16 to 60 days"
                      ],
                      [
                        "1BM6150MPL3000146",
                        "CIARAMA MAQUINAS LTDA",
                        "12/25/2021",
                        "1326.45",
                        "365+ days"
                      ],
                      [
                        "1BM6150MTP3000846",
                        "CIARAMA MAQUINAS LTDA",
                        "3/31/2023",
                        "1.7",
                        "16 to 60 days"
                      ],
                      [
                        "1BM6150MVM3000283",
                        "CIARAMA MAQUINAS LTDA",
                        "4/11/2023",
                        "907.45",
                        "Last 15 days"
                      ],
                      [
                        "1BM6170JCJD000368",
                        "CIARAMA MAQUINAS LTDA",
                        "4/17/2023",
                        "178.633",
                        "Last 15 days"
                      ],
                      [
                        "1BM6170MEMH000191",
                        "CIARAMA MAQUINAS LTDA",
                        "4/29/2022",
                        "592.85",
                        "61 to 365 days"
                      ],
                      [
                        "1BM6170MHM3000185",
                        "CIARAMA MAQUINAS LTDA",
                        "4/24/2023",
                        "948.8",
                        "Last 15 days"
                      ],
                      [
                        "1BM6170MHN3000432",
                        "CIARAMA MAQUINAS LTDA",
                        "3/31/2023",
                        "2.55",
                        "16 to 60 days"
                      ],
                      [
                        "1BM6170MKLH000129",
                        "CIARAMA MAQUINAS LTDA",
                        "4/13/2023",
                        "1617.4",
                        "Last 15 days"
                      ],
                      [
                        "1BM6170MTMH000274",
                        "CIARAMA MAQUINAS LTDA",
                        "4/22/2023",
                        "1421.35",
                        "Last 15 days"
                      ],
                      [
                        "1BM6170MVN3000295",
                        "CIARAMA MAQUINAS LTDA",
                        "3/19/2023",
                        "294.25",
                        "16 to 60 days"
                      ],
                      [
                        "1BM6190MAM3000275",
                        "CIARAMA MAQUINAS LTDA",
                        "9/8/2021",
                        "12.05",
                        "365+ days"
                      ],
                      [
                        "1BM6190MEM3000300",
                        "CIARAMA MAQUINAS LTDA",
                        "11/6/2022",
                        "906.35",
                        "61 to 365 days"
                      ],
                      [
                        "1BM6190MJLH000175",
                        "CIARAMA MAQUINAS LTDA",
                        "4/20/2023",
                        "2290.3",
                        "Last 15 days"
                      ],
                      [
                        "1BM6190MTNH000692",
                        "CIARAMA MAQUINAS LTDA",
                        "4/17/2023",
                        "100.05",
                        "Last 15 days"
                      ],
                      [
                        "1BM6190MVLH000180",
                        "CIARAMA MAQUINAS LTDA",
                        "12/6/2021",
                        "565.2",
                        "365+ days"
                      ],
                      [
                        "1BM6210MAMH000519",
                        "CIARAMA MAQUINAS LTDA",
                        "4/22/2023",
                        "1783.9",
                        "Last 15 days"
                      ],
                      [
                        "1BM6210MCN3000962",
                        "CIARAMA MAQUINAS LTDA",
                        "3/25/2023",
                        "2.35",
                        "16 to 60 days"
                      ],
                      [
                        "1BM6210MHMH000474",
                        "CIARAMA MAQUINAS LTDA",
                        "4/24/2023",
                        "565.8",
                        "Last 15 days"
                      ],
                      [
                        "1BM6210MHN3000697",
                        "CIARAMA MAQUINAS LTDA",
                        "4/4/2023",
                        "350.65",
                        "16 to 60 days"
                      ],
                      [
                        "1BM6210MJLH000188",
                        "CIARAMA MAQUINAS LTDA",
                        "4/6/2023",
                        "2213.75",
                        "16 to 60 days"
                      ],
                      [
                        "1BM6210MJN3000594",
                        "CIARAMA MAQUINAS LTDA",
                        "2/11/2023",
                        "596.0",
                        "61 to 365 days"
                      ],
                      [
                        "1BM6210MLMH000313",
                        "CIARAMA MAQUINAS LTDA",
                        "4/20/2023",
                        "1411.3",
                        "Last 15 days"
                      ],
                      [
                        "1BM6210MLMH000473",
                        "CIARAMA MAQUINAS LTDA",
                        "4/24/2023",
                        "744.75",
                        "Last 15 days"
                      ],
                      [
                        "1BM6210MTLH000171",
                        "CIARAMA MAQUINAS LTDA",
                        "3/13/2022",
                        "619.4",
                        "365+ days"
                      ],
                      [
                        "1BM6210MTNH000593",
                        "CIARAMA MAQUINAS LTDA",
                        "3/4/2023",
                        "1115.1",
                        "16 to 60 days"
                      ],
                      [
                        "1BM6210MVM3000421",
                        "CIARAMA MAQUINAS LTDA",
                        "4/24/2023",
                        "643.4",
                        "Last 15 days"
                      ],
                      [
                        "1BM6210MVNH000682",
                        "CIARAMA MAQUINAS LTDA",
                        "4/15/2023",
                        "806.85",
                        "Last 15 days"
                      ],
                      [
                        "1BM7200JAJH001069",
                        "CIARAMA MAQUINAS LTDA",
                        "9/2/2019",
                        "4426.15",
                        "365+ days"
                      ],
                      [
                        "1BM7200JAJH001072",
                        "CIARAMA MAQUINAS LTDA",
                        "5/16/2020",
                        "1422.15",
                        "365+ days"
                      ],
                      [
                        "1BM7200JAKH001073",
                        "CIARAMA MAQUINAS LTDA",
                        "12/31/2020",
                        "5502.55",
                        "365+ days"
                      ],
                      [
                        "1BM7200JAKH001333",
                        "CIARAMA MAQUINAS LTDA",
                        "6/27/2022",
                        "1962.3",
                        "61 to 365 days"
                      ],
                      [
                        "1BM7200JAMH002159",
                        "CIARAMA MAQUINAS LTDA",
                        "8/29/2022",
                        "971.55",
                        "61 to 365 days"
                      ],
                      [
                        "1BM7200JAMH002274",
                        "CIARAMA MAQUINAS LTDA",
                        "8/6/2022",
                        "320.7",
                        "61 to 365 days"
                      ],
                      [
                        "1BM7200JCHH000472",
                        "CIARAMA MAQUINAS LTDA",
                        "9/16/2020",
                        "2037.7",
                        "365+ days"
                      ],
                      [
                        "1BM7200JCJH001059",
                        "CIARAMA MAQUINAS LTDA",
                        "7/22/2021",
                        "1970.7",
                        "365+ days"
                      ],
                      [
                        "1BM7200JCJH001062",
                        "CIARAMA MAQUINAS LTDA",
                        "10/20/2020",
                        "3040.75",
                        "365+ days"
                      ],
                      [
                        "1BM7200JCJH001067",
                        "CIARAMA MAQUINAS LTDA",
                        "9/5/2019",
                        "4656.9",
                        "365+ days"
                      ],
                      [
                        "1BM7200JCJH001070",
                        "CIARAMA MAQUINAS LTDA",
                        "9/30/2019",
                        "4491.7",
                        "365+ days"
                      ],
                      [
                        "1BM7200JCKH001337",
                        "CIARAMA MAQUINAS LTDA",
                        "4/10/2023",
                        "3496.7",
                        "Last 15 days"
                      ],
                      [
                        "1BM7200JCMH002420",
                        "CIARAMA MAQUINAS LTDA",
                        "4/24/2023",
                        "1041.25",
                        "Last 15 days"
                      ],
                      [
                        "1BM7200JEJH000959",
                        "CIARAMA MAQUINAS LTDA",
                        "8/19/2020",
                        "576.1",
                        "365+ days"
                      ],
                      [
                        "1BM7200JEJH001061",
                        "CIARAMA MAQUINAS LTDA",
                        "9/21/2019",
                        "1757.15",
                        "365+ days"
                      ],
                      [
                        "1BM7200JELH001905",
                        "CIARAMA MAQUINAS LTDA",
                        "4/24/2023",
                        "1728.55",
                        "Last 15 days"
                      ],
                      [
                        "1BM7200JEMH002411",
                        "CIARAMA MAQUINAS LTDA",
                        "10/8/2022",
                        "709.4",
                        "61 to 365 days"
                      ],
                      [
                        "1BM7200JENH003012",
                        "CIARAMA MAQUINAS LTDA",
                        "4/16/2023",
                        "687.85",
                        "Last 15 days"
                      ],
                      [
                        "1BM7200JEPH003398",
                        "CIARAMA MAQUINAS LTDA",
                        "4/17/2023",
                        "5.85",
                        "Last 15 days"
                      ],
                      [
                        "1BM7200JHJH001060",
                        "CIARAMA MAQUINAS LTDA",
                        "9/28/2020",
                        "3054.8",
                        "365+ days"
                      ],
                      [
                        "1BM7200JHKH001139",
                        "CIARAMA MAQUINAS LTDA",
                        "4/24/2023",
                        "3263.65",
                        "Last 15 days"
                      ],
                      [
                        "1BM7200JHNH002988",
                        "CIARAMA MAQUINAS LTDA",
                        "4/7/2023",
                        "826.45",
                        "16 to 60 days"
                      ],
                      [
                        "1BM7200JJHH000283",
                        "CIARAMA MAQUINAS LTDA",
                        "3/28/2020",
                        "1466.5",
                        "365+ days"
                      ],
                      [
                        "1BM7200JJJH001066",
                        "CIARAMA MAQUINAS LTDA",
                        "5/14/2020",
                        "3540.05",
                        "365+ days"
                      ],
                      [
                        "1BM7200JJKH001246",
                        "CIARAMA MAQUINAS LTDA",
                        "4/24/2023",
                        "2195.6",
                        "Last 15 days"
                      ],
                      [
                        "1BM7200JKHH000458",
                        "CIARAMA MAQUINAS LTDA",
                        "6/29/2022",
                        "14489.05",
                        "61 to 365 days"
                      ],
                      [
                        "1BM7200JKJH001065",
                        "CIARAMA MAQUINAS LTDA",
                        "5/15/2020",
                        "4442.35",
                        "365+ days"
                      ],
                      [
                        "1BM7200JKMH002334",
                        "CIARAMA MAQUINAS LTDA",
                        "3/2/2023",
                        "608.5",
                        "16 to 60 days"
                      ],
                      [
                        "1BM7200JKNH002951",
                        "CIARAMA MAQUINAS LTDA",
                        "7/5/2022",
                        "2.9",
                        "61 to 365 days"
                      ],
                      [
                        "1BM7200JLKH001074",
                        "CIARAMA MAQUINAS LTDA",
                        "1/1/2021",
                        "5194.9",
                        "365+ days"
                      ],
                      [
                        "1BM7200JLNH003153",
                        "CIARAMA MAQUINAS LTDA",
                        "3/28/2023",
                        "7.8",
                        "16 to 60 days"
                      ],
                      [
                        "1BM7200JPJH001064",
                        "CIARAMA MAQUINAS LTDA",
                        "5/20/2020",
                        "4087.4",
                        "365+ days"
                      ],
                      [
                        "1BM7200JPLH002024",
                        "CIARAMA MAQUINAS LTDA",
                        "2/20/2023",
                        "",
                        "61 to 365 days"
                      ],
                      [
                        "1BM7200JPNH002947",
                        "CIARAMA MAQUINAS LTDA",
                        "1/12/2023",
                        "307.85",
                        "61 to 365 days"
                      ],
                      [
                        "1BM7200JPNH003029",
                        "CIARAMA MAQUINAS LTDA",
                        "4/24/2023",
                        "1030.0",
                        "Last 15 days"
                      ],
                      [
                        "1BM7200JTJH001063",
                        "CIARAMA MAQUINAS LTDA",
                        "9/3/2019",
                        "4057.9",
                        "365+ days"
                      ],
                      [
                        "1BM7200JTLH001826",
                        "CIARAMA MAQUINAS LTDA",
                        "3/31/2023",
                        "1887.2",
                        "16 to 60 days"
                      ],
                      [
                        "1BM7200JTLH001857",
                        "CIARAMA MAQUINAS LTDA",
                        "4/21/2023",
                        "2276.9",
                        "Last 15 days"
                      ],
                      [
                        "1BM7200JTPH003422",
                        "CIARAMA MAQUINAS LTDA",
                        "4/23/2023",
                        "4.5",
                        "Last 15 days"
                      ],
                      [
                        "1BM7200JVJH001068",
                        "CIARAMA MAQUINAS LTDA",
                        "4/6/2022",
                        "4335.9",
                        "365+ days"
                      ],
                      [
                        "1BM7200JVJH001071",
                        "CIARAMA MAQUINAS LTDA",
                        "7/23/2021",
                        "1179.4",
                        "365+ days"
                      ],
                      [
                        "1BM7200JVLH001669",
                        "CIARAMA MAQUINAS LTDA",
                        "2/10/2023",
                        "1082.55",
                        "61 to 365 days"
                      ],
                      [
                        "1BM7200JVMH002290",
                        "CIARAMA MAQUINAS LTDA",
                        "3/26/2023",
                        "848.6",
                        "16 to 60 days"
                      ],
                      [
                        "1BM7200JVPH003508",
                        "CIARAMA MAQUINAS LTDA",
                        "3/30/2023",
                        "2.85",
                        "16 to 60 days"
                      ],
                      [
                        "1BM7210JCD0000686",
                        "CIARAMA MAQUINAS LTDA",
                        "1/18/2023",
                        "9639.5",
                        "61 to 365 days"
                      ],
                      [
                        "1BM7215JAJH000860",
                        "CIARAMA MAQUINAS LTDA",
                        "10/17/2020",
                        "6563.3",
                        "365+ days"
                      ],
                      [
                        "1BM7215JAMH001172",
                        "CIARAMA MAQUINAS LTDA",
                        "3/11/2023",
                        "689.25",
                        "16 to 60 days"
                      ],
                      [
                        "1BM7215JAMH001236",
                        "CIARAMA MAQUINAS LTDA",
                        "3/10/2023",
                        "2304.05",
                        "16 to 60 days"
                      ],
                      [
                        "1BM7215JANH001349",
                        "CIARAMA MAQUINAS LTDA",
                        "4/24/2023",
                        "3767.6",
                        "Last 15 days"
                      ],
                      [
                        "1BM7215JANH001352",
                        "CIARAMA MAQUINAS LTDA",
                        "4/23/2023",
                        "4090.35",
                        "Last 15 days"
                      ],
                      [
                        "1BM7215JANH001366",
                        "CIARAMA MAQUINAS LTDA",
                        "11/8/2022",
                        "2257.45",
                        "61 to 365 days"
                      ],
                      [
                        "1BM7215JANH001383",
                        "CIARAMA MAQUINAS LTDA",
                        "4/22/2023",
                        "3695.85",
                        "Last 15 days"
                      ],
                      [
                        "1BM7215JAPH001564",
                        "CIARAMA MAQUINAS LTDA",
                        "4/24/2023",
                        "5.55",
                        "Last 15 days"
                      ],
                      [
                        "1BM7215JCJH000864",
                        "CIARAMA MAQUINAS LTDA",
                        "10/20/2020",
                        "5850.35",
                        "365+ days"
                      ],
                      [
                        "1BM7215JCJH000869",
                        "CIARAMA MAQUINAS LTDA",
                        "6/19/2022",
                        "6758.0",
                        "61 to 365 days"
                      ],
                      [
                        "1BM7215JCMH001203",
                        "CIARAMA MAQUINAS LTDA",
                        "4/27/2022",
                        "",
                        "61 to 365 days"
                      ],
                      [
                        "1BM7215JCMH001209",
                        "CIARAMA MAQUINAS LTDA",
                        "4/27/2022",
                        "",
                        "61 to 365 days"
                      ],
                      [
                        "1BM7215JCNH001339",
                        "CIARAMA MAQUINAS LTDA",
                        "3/3/2022",
                        "",
                        "365+ days"
                      ],
                      [
                        "1BM7215JCNH001350",
                        "CIARAMA MAQUINAS LTDA",
                        "4/24/2023",
                        "3412.55",
                        "Last 15 days"
                      ],
                      [
                        "1BM7215JCNH001364",
                        "CIARAMA MAQUINAS LTDA",
                        "4/24/2023",
                        "4142.55",
                        "Last 15 days"
                      ],
                      [
                        "1BM7215JCNH001378",
                        "CIARAMA MAQUINAS LTDA",
                        "4/22/2023",
                        "3592.35",
                        "Last 15 days"
                      ],
                      [
                        "1BM7215JCNH001381",
                        "CIARAMA MAQUINAS LTDA",
                        "5/30/2022",
                        "",
                        "61 to 365 days"
                      ],
                      [
                        "1BM7215JCPH001554",
                        "CIARAMA MAQUINAS LTDA",
                        "4/21/2023",
                        "3.25",
                        "Last 15 days"
                      ],
                      [
                        "1BM7215JCPH001559",
                        "CIARAMA MAQUINAS LTDA",
                        "4/24/2023",
                        "4.35",
                        "Last 15 days"
                      ],
                      [
                        "1BM7215JCPH001568",
                        "CIARAMA MAQUINAS LTDA",
                        "4/20/2023",
                        "3.95",
                        "Last 15 days"
                      ],
                      [
                        "1BM7215JEJH000863",
                        "CIARAMA MAQUINAS LTDA",
                        "8/17/2022",
                        "8796.3",
                        "61 to 365 days"
                      ],
                      [
                        "1BM7215JEMH001189",
                        "CIARAMA MAQUINAS LTDA",
                        "4/27/2022",
                        "",
                        "61 to 365 days"
                      ],
                      [
                        "1BM7215JEMH001239",
                        "CIARAMA MAQUINAS LTDA",
                        "4/6/2022",
                        "10.4",
                        "365+ days"
                      ],
                      [
                        "1BM7215JENH001338",
                        "CIARAMA MAQUINAS LTDA",
                        "4/23/2023",
                        "3195.75",
                        "Last 15 days"
                      ],
                      [
                        "1BM7215JENH001341",
                        "CIARAMA MAQUINAS LTDA",
                        "4/24/2023",
                        "3422.9",
                        "Last 15 days"
                      ],
                      [
                        "1BM7215JENH001355",
                        "CIARAMA MAQUINAS LTDA",
                        "4/23/2023",
                        "3805.25",
                        "Last 15 days"
                      ],
                      [
                        "1BM7215JENH001369",
                        "CIARAMA MAQUINAS LTDA",
                        "4/23/2023",
                        "4234.2",
                        "Last 15 days"
                      ],
                      [
                        "1BM7215JEPH001567",
                        "CIARAMA MAQUINAS LTDA",
                        "4/23/2023",
                        "3.1",
                        "Last 15 days"
                      ],
                      [
                        "1BM7215JEPH001570",
                        "CIARAMA MAQUINAS LTDA",
                        "4/12/2023",
                        "3.7",
                        "Last 15 days"
                      ],
                      [
                        "1BM7215JHJH000862",
                        "CIARAMA MAQUINAS LTDA",
                        "2/13/2020",
                        "3157.0",
                        "365+ days"
                      ],
                      [
                        "1BM7215JHLH001092",
                        "CIARAMA MAQUINAS LTDA",
                        "4/11/2023",
                        "1656.1",
                        "Last 15 days"
                      ],
                      [
                        "1BM7215JHMH001207",
                        "CIARAMA MAQUINAS LTDA",
                        "4/27/2022",
                        "",
                        "61 to 365 days"
                      ],
                      [
                        "1BM7215JHMH001210",
                        "CIARAMA MAQUINAS LTDA",
                        "4/29/2022",
                        "",
                        "61 to 365 days"
                      ],
                      [
                        "1BM7215JHMH001269",
                        "CIARAMA MAQUINAS LTDA",
                        "7/7/2021",
                        "",
                        "365+ days"
                      ],
                      [
                        "1BM7215JHNH001340",
                        "CIARAMA MAQUINAS LTDA",
                        "4/24/2023",
                        "3313.1",
                        "Last 15 days"
                      ],
                      [
                        "1BM7215JHNH001354",
                        "CIARAMA MAQUINAS LTDA",
                        "4/23/2023",
                        "4326.2",
                        "Last 15 days"
                      ],
                      [
                        "1BM7215JHPH001566",
                        "CIARAMA MAQUINAS LTDA",
                        "4/24/2023",
                        "24.65",
                        "Last 15 days"
                      ],
                      [
                        "1BM7215JJJH000868",
                        "CIARAMA MAQUINAS LTDA",
                        "7/22/2021",
                        "1978.0",
                        "365+ days"
                      ],
                      [
                        "1BM7215JJNH001363",
                        "CIARAMA MAQUINAS LTDA",
                        "4/23/2023",
                        "3169.45",
                        "Last 15 days"
                      ],
                      [
                        "1BM7215JJPH001558",
                        "CIARAMA MAQUINAS LTDA",
                        "4/24/2023",
                        "50.45",
                        "Last 15 days"
                      ],
                      [
                        "1BM7215JKHH000202",
                        "CIARAMA MAQUINAS LTDA",
                        "10/13/2020",
                        "10313.75",
                        "365+ days"
                      ],
                      [
                        "1BM7215JKJH000867",
                        "CIARAMA MAQUINAS LTDA",
                        "5/20/2020",
                        "3766.1",
                        "365+ days"
                      ],
                      [
                        "1BM7215JKKH000871",
                        "CIARAMA MAQUINAS LTDA",
                        "5/21/2020",
                        "3566.85",
                        "365+ days"
                      ],
                      [
                        "1BM7215JKMH001196",
                        "CIARAMA MAQUINAS LTDA",
                        "4/27/2022",
                        "",
                        "61 to 365 days"
                      ],
                      [
                        "1BM7215JKMH001229",
                        "CIARAMA MAQUINAS LTDA",
                        "4/2/2023",
                        "2241.1",
                        "16 to 60 days"
                      ],
                      [
                        "1BM7215JKMH001246",
                        "CIARAMA MAQUINAS LTDA",
                        "4/22/2023",
                        "2644.5",
                        "Last 15 days"
                      ],
                      [
                        "1BM7215JKNH001345",
                        "CIARAMA MAQUINAS LTDA",
                        "4/17/2023",
                        "4086.2",
                        "Last 15 days"
                      ],
                      [
                        "1BM7215JKNH001359",
                        "CIARAMA MAQUINAS LTDA",
                        "4/16/2023",
                        "3578.45",
                        "Last 15 days"
                      ],
                      [
                        "1BM7215JKNH001362",
                        "CIARAMA MAQUINAS LTDA",
                        "4/16/2023",
                        "4139.3",
                        "Last 15 days"
                      ],
                      [
                        "1BM7215JKPH001557",
                        "CIARAMA MAQUINAS LTDA",
                        "4/24/2023",
                        "103.4",
                        "Last 15 days"
                      ],
                      [
                        "1BM7215JKPH001560",
                        "CIARAMA MAQUINAS LTDA",
                        "4/23/2023",
                        "3.4",
                        "Last 15 days"
                      ],
                      [
                        "1BM7215JKPH001574",
                        "CIARAMA MAQUINAS LTDA",
                        "4/11/2023",
                        "4.25",
                        "Last 15 days"
                      ],
                      [
                        "1BM7215JLJH000861",
                        "CIARAMA MAQUINAS LTDA",
                        "8/23/2022",
                        "11901.7",
                        "61 to 365 days"
                      ],
                      [
                        "1BM7215JLMH001240",
                        "CIARAMA MAQUINAS LTDA",
                        "9/19/2022",
                        "1833.1",
                        "61 to 365 days"
                      ],
                      [
                        "1BM7215JLNH001353",
                        "CIARAMA MAQUINAS LTDA",
                        "3/31/2023",
                        "4385.3",
                        "16 to 60 days"
                      ],
                      [
                        "1BM7215JLNH001529",
                        "CIARAMA MAQUINAS LTDA",
                        "3/25/2023",
                        "2.95",
                        "16 to 60 days"
                      ],
                      [
                        "1BM7215JLPH001565",
                        "CIARAMA MAQUINAS LTDA",
                        "4/24/2023",
                        "97.2",
                        "Last 15 days"
                      ],
                      [
                        "1BM7215JPJH000866",
                        "CIARAMA MAQUINAS LTDA",
                        "6/16/2020",
                        "4012.8",
                        "365+ days"
                      ],
                      [
                        "1BM7215JPKH000870",
                        "CIARAMA MAQUINAS LTDA",
                        "8/28/2019",
                        "",
                        "365+ days"
                      ],
                      [
                        "1BM7215JPMH001178",
                        "CIARAMA MAQUINAS LTDA",
                        "4/27/2022",
                        "",
                        "61 to 365 days"
                      ],
                      [
                        "1BM7215JPMH001181",
                        "CIARAMA MAQUINAS LTDA",
                        "4/27/2022",
                        "",
                        "61 to 365 days"
                      ],
                      [
                        "1BM7215JPNH001344",
                        "CIARAMA MAQUINAS LTDA",
                        "4/24/2023",
                        "3779.55",
                        "Last 15 days"
                      ],
                      [
                        "1BM7215JPPH001556",
                        "CIARAMA MAQUINAS LTDA",
                        "4/11/2023",
                        "2.55",
                        "Last 15 days"
                      ],
                      [
                        "1BM7215JTHH000486",
                        "CIARAMA MAQUINAS LTDA",
                        "9/15/2019",
                        "1480.95",
                        "365+ days"
                      ],
                      [
                        "1BM7215JTJH000865",
                        "CIARAMA MAQUINAS LTDA",
                        "4/27/2022",
                        "3362.7",
                        "61 to 365 days"
                      ],
                      [
                        "1BM7215JTLH001114",
                        "CIARAMA MAQUINAS LTDA",
                        "3/28/2023",
                        "1736.1",
                        "16 to 60 days"
                      ],
                      [
                        "1BM7215JTMH001213",
                        "CIARAMA MAQUINAS LTDA",
                        "4/27/2022",
                        "",
                        "61 to 365 days"
                      ],
                      [
                        "1BM7215JTNH001343",
                        "CIARAMA MAQUINAS LTDA",
                        "4/24/2023",
                        "4446.55",
                        "Last 15 days"
                      ],
                      [
                        "1BM7215JTNH001357",
                        "CIARAMA MAQUINAS LTDA",
                        "4/20/2023",
                        "2930.6",
                        "Last 15 days"
                      ],
                      [
                        "1BM7215JTNH001360",
                        "CIARAMA MAQUINAS LTDA",
                        "4/17/2023",
                        "4249.45",
                        "Last 15 days"
                      ],
                      [
                        "1BM7215JTPH001555",
                        "CIARAMA MAQUINAS LTDA",
                        "4/24/2023",
                        "134.3",
                        "Last 15 days"
                      ],
                      [
                        "1BM7215JTPH001569",
                        "CIARAMA MAQUINAS LTDA",
                        "4/24/2023",
                        "136.8",
                        "Last 15 days"
                      ],
                      [
                        "1BM7215JVNH001334",
                        "CIARAMA MAQUINAS LTDA",
                        "4/24/2023",
                        "561.25",
                        "Last 15 days"
                      ],
                      [
                        "1BM7215JVNH001365",
                        "CIARAMA MAQUINAS LTDA",
                        "4/28/2022",
                        "",
                        "61 to 365 days"
                      ],
                      [
                        "1BM7215JVNH001382",
                        "CIARAMA MAQUINAS LTDA",
                        "4/22/2023",
                        "3498.4",
                        "Last 15 days"
                      ],
                      [
                        "1BM7215JVPH001563",
                        "CIARAMA MAQUINAS LTDA",
                        "4/24/2023",
                        "74.25",
                        "Last 15 days"
                      ],
                      [
                        "1BM7225JCCH001268",
                        "CIARAMA MAQUINAS LTDA",
                        "3/12/2023",
                        "15607.35",
                        "16 to 60 days"
                      ],
                      [
                        "1BM7225JHD0001924",
                        "CIARAMA MAQUINAS LTDA",
                        "3/28/2023",
                        "12471.5",
                        "16 to 60 days"
                      ],
                      [
                        "1BM7225JJAH000004",
                        "CIARAMA MAQUINAS LTDA",
                        "6/7/2022",
                        "14014.75",
                        "61 to 365 days"
                      ],
                      [
                        "1BM7225JLEH003836",
                        "CIARAMA MAQUINAS LTDA",
                        "3/6/2023",
                        "7620.3",
                        "16 to 60 days"
                      ],
                      [
                        "1BM7225JLFH004101",
                        "CIARAMA MAQUINAS LTDA",
                        "4/21/2023",
                        "8326.2",
                        "Last 15 days"
                      ],
                      [
                        "1BM7225JPEH002841",
                        "CIARAMA MAQUINAS LTDA",
                        "12/28/2022",
                        "14043.5",
                        "61 to 365 days"
                      ],
                      [
                        "1BM7225JPEH003407",
                        "CIARAMA MAQUINAS LTDA",
                        "4/23/2023",
                        "6930.45",
                        "Last 15 days"
                      ],
                      [
                        "1BM7230JAHH000421",
                        "CIARAMA MAQUINAS LTDA",
                        "10/4/2022",
                        "4149.65",
                        "61 to 365 days"
                      ],
                      [
                        "1BM7230JAHH001150",
                        "CIARAMA MAQUINAS LTDA",
                        "8/15/2022",
                        "6474.75",
                        "61 to 365 days"
                      ],
                      [
                        "1BM7230JAJH001946",
                        "CIARAMA MAQUINAS LTDA",
                        "9/29/2021",
                        "2180.6",
                        "365+ days"
                      ],
                      [
                        "1BM7230JAJH002188",
                        "CIARAMA MAQUINAS LTDA",
                        "3/26/2023",
                        "5058.75",
                        "16 to 60 days"
                      ],
                      [
                        "1BM7230JAJH002336",
                        "CIARAMA MAQUINAS LTDA",
                        "10/11/2019",
                        "976.8",
                        "365+ days"
                      ],
                      [
                        "1BM7230JAKH002841",
                        "CIARAMA MAQUINAS LTDA",
                        "2/14/2022",
                        "2879.25",
                        "365+ days"
                      ],
                      [
                        "1BM7230JAKH003052",
                        "CIARAMA MAQUINAS LTDA",
                        "3/3/2021",
                        "2593.9",
                        "365+ days"
                      ],
                      [
                        "1BM7230JAKH003696",
                        "CIARAMA MAQUINAS LTDA",
                        "4/24/2023",
                        "1913.9",
                        "Last 15 days"
                      ],
                      [
                        "1BM7230JALH004302",
                        "CIARAMA MAQUINAS LTDA",
                        "12/28/2022",
                        "3895.95",
                        "61 to 365 days"
                      ],
                      [
                        "1BM7230JALH004378",
                        "CIARAMA MAQUINAS LTDA",
                        "12/1/2020",
                        "",
                        "365+ days"
                      ],
                      [
                        "1BM7230JAMH005810",
                        "CIARAMA MAQUINAS LTDA",
                        "3/7/2023",
                        "4383.5",
                        "16 to 60 days"
                      ],
                      [
                        "1BM7230JAMH005872",
                        "CIARAMA MAQUINAS LTDA",
                        "4/16/2023",
                        "1478.95",
                        "Last 15 days"
                      ],
                      [
                        "1BM7230JAMH005886",
                        "CIARAMA MAQUINAS LTDA",
                        "4/17/2023",
                        "1478.6",
                        "Last 15 days"
                      ],
                      [
                        "1BM7230JAMH006598",
                        "CIARAMA MAQUINAS LTDA",
                        "4/21/2023",
                        "",
                        "Last 15 days"
                      ],
                      [
                        "1BM7230JAMH006603",
                        "CIARAMA MAQUINAS LTDA",
                        "4/23/2023",
                        "1599.6",
                        "Last 15 days"
                      ],
                      [
                        "1BM7230JAMH006875",
                        "CIARAMA MAQUINAS LTDA",
                        "4/17/2023",
                        "258.55",
                        "Last 15 days"
                      ],
                      [
                        "1BM7230JANH007414",
                        "CIARAMA MAQUINAS LTDA",
                        "4/24/2023",
                        "1547.85",
                        "Last 15 days"
                      ],
                      [
                        "1BM7230JANH007669",
                        "CIARAMA MAQUINAS LTDA",
                        "6/29/2022",
                        "",
                        "61 to 365 days"
                      ],
                      [
                        "1BM7230JANH007820",
                        "CIARAMA MAQUINAS LTDA",
                        "4/4/2023",
                        "371.75",
                        "16 to 60 days"
                      ],
                      [
                        "1BM7230JANH008532",
                        "CIARAMA MAQUINAS LTDA",
                        "4/24/2023",
                        "140.05",
                        "Last 15 days"
                      ],
                      [
                        "1BM7230JAPH009215",
                        "CIARAMA MAQUINAS LTDA",
                        "3/18/2023",
                        "105.65",
                        "16 to 60 days"
                      ],
                      [
                        "1BM7230JCHH000263",
                        "CIARAMA MAQUINAS LTDA",
                        "4/17/2023",
                        "4693.5",
                        "Last 15 days"
                      ],
                      [
                        "1BM7230JCHH001047",
                        "CIARAMA MAQUINAS LTDA",
                        "12/4/2022",
                        "6008.4",
                        "61 to 365 days"
                      ],
                      [
                        "1BM7230JCJH001838",
                        "CIARAMA MAQUINAS LTDA",
                        "2/9/2020",
                        "1629.65",
                        "365+ days"
                      ],
                      [
                        "1BM7230JCJH001998",
                        "CIARAMA MAQUINAS LTDA",
                        "4/17/2023",
                        "5544.5",
                        "Last 15 days"
                      ],
                      [
                        "1BM7230JCJH002222",
                        "CIARAMA MAQUINAS LTDA",
                        "10/17/2019",
                        "",
                        "365+ days"
                      ],
                      [
                        "1BM7230JCJH002438",
                        "CIARAMA MAQUINAS LTDA",
                        "9/17/2019",
                        "",
                        "365+ days"
                      ],
                      [
                        "1BM7230JCJH002441",
                        "CIARAMA MAQUINAS LTDA",
                        "4/15/2023",
                        "3088.0",
                        "Last 15 days"
                      ],
                      [
                        "1BM7230JCKH003087",
                        "CIARAMA MAQUINAS LTDA",
                        "4/24/2023",
                        "5285.8",
                        "Last 15 days"
                      ],
                      [
                        "1BM7230JCKH003090",
                        "CIARAMA MAQUINAS LTDA",
                        "3/16/2023",
                        "1550.95",
                        "16 to 60 days"
                      ],
                      [
                        "1BM7230JCKH003218",
                        "CIARAMA MAQUINAS LTDA",
                        "9/24/2022",
                        "1334.65",
                        "61 to 365 days"
                      ],
                      [
                        "1BM7230JCKH003324",
                        "CIARAMA MAQUINAS LTDA",
                        "4/10/2023",
                        "3818.85",
                        "Last 15 days"
                      ],
                      [
                        "1BM7230JCLH003969",
                        "CIARAMA MAQUINAS LTDA",
                        "8/22/2021",
                        "1735.1",
                        "365+ days"
                      ],
                      [
                        "1BM7230JCLH003995",
                        "CIARAMA MAQUINAS LTDA",
                        "4/24/2023",
                        "3412.05",
                        "Last 15 days"
                      ],
                      [
                        "1BM7230JCLH004023",
                        "CIARAMA MAQUINAS LTDA",
                        "4/19/2023",
                        "2876.0",
                        "Last 15 days"
                      ],
                      [
                        "1BM7230JCLH004077",
                        "CIARAMA MAQUINAS LTDA",
                        "12/23/2022",
                        "2350.75",
                        "61 to 365 days"
                      ],
                      [
                        "1BM7230JCLH004166",
                        "CIARAMA MAQUINAS LTDA",
                        "4/24/2023",
                        "10163.7",
                        "Last 15 days"
                      ],
                      [
                        "1BM7230JCLH004175",
                        "CIARAMA MAQUINAS LTDA",
                        "3/10/2023",
                        "2911.55",
                        "16 to 60 days"
                      ],
                      [
                        "1BM7230JCLH004362",
                        "CIARAMA MAQUINAS LTDA",
                        "4/24/2023",
                        "1675.5",
                        "Last 15 days"
                      ],
                      [
                        "1BM7230JCLH004449",
                        "CIARAMA MAQUINAS LTDA",
                        "10/19/2020",
                        "",
                        "365+ days"
                      ],
                      [
                        "1BM7230JCLH005021",
                        "CIARAMA MAQUINAS LTDA",
                        "4/1/2023",
                        "1032.05",
                        "16 to 60 days"
                      ],
                      [
                        "1BM7230JCMH005089",
                        "CIARAMA MAQUINAS LTDA",
                        "4/24/2023",
                        "4555.8",
                        "Last 15 days"
                      ],
                      [
                        "1BM7230JCMH005092",
                        "CIARAMA MAQUINAS LTDA",
                        "4/23/2023",
                        "3187.1",
                        "Last 15 days"
                      ],
                      [
                        "1BM7230JCMH005120",
                        "CIARAMA MAQUINAS LTDA",
                        "9/25/2022",
                        "1060.1",
                        "61 to 365 days"
                      ],
                      [
                        "1BM7230JCMH005867",
                        "CIARAMA MAQUINAS LTDA",
                        "11/14/2022",
                        "1359.5",
                        "61 to 365 days"
                      ],
                      [
                        "1BM7230JCMH005951",
                        "CIARAMA MAQUINAS LTDA",
                        "3/26/2023",
                        "1473.55",
                        "16 to 60 days"
                      ],
                      [
                        "1BM7230JCMH005960",
                        "CIARAMA MAQUINAS LTDA",
                        "4/17/2023",
                        "2548.6",
                        "Last 15 days"
                      ],
                      [
                        "1BM7230JCMH006016",
                        "CIARAMA MAQUINAS LTDA",
                        "4/24/2023",
                        "3500.1",
                        "Last 15 days"
                      ],
                      [
                        "1BM7230JCMH006078",
                        "CIARAMA MAQUINAS LTDA",
                        "4/1/2023",
                        "2960.9",
                        "16 to 60 days"
                      ],
                      [
                        "1BM7230JCMH006162",
                        "CIARAMA MAQUINAS LTDA",
                        "4/24/2023",
                        "1424.05",
                        "Last 15 days"
                      ],
                      [
                        "1BM7230JCMH006274",
                        "CIARAMA MAQUINAS LTDA",
                        "4/24/2023",
                        "2569.25",
                        "Last 15 days"
                      ],
                      [
                        "1BM7230JCMH006297",
                        "CIARAMA MAQUINAS LTDA",
                        "3/27/2023",
                        "1554.3",
                        "16 to 60 days"
                      ],
                      [
                        "1BM7230JCNH007337",
                        "CIARAMA MAQUINAS LTDA",
                        "4/24/2023",
                        "716.5",
                        "Last 15 days"
                      ],
                      [
                        "1BM7230JCNH007662",
                        "CIARAMA MAQUINAS LTDA",
                        "3/7/2023",
                        "2082.6",
                        "16 to 60 days"
                      ],
                      [
                        "1BM7230JCNH007815",
                        "CIARAMA MAQUINAS LTDA",
                        "4/19/2023",
                        "456.15",
                        "Last 15 days"
                      ],
                      [
                        "1BM7230JCNH007905",
                        "CIARAMA MAQUINAS LTDA",
                        "3/26/2023",
                        "667.05",
                        "16 to 60 days"
                      ],
                      [
                        "1BM7230JCNH007936",
                        "CIARAMA MAQUINAS LTDA",
                        "3/9/2023",
                        "522.7",
                        "16 to 60 days"
                      ],
                      [
                        "1BM7230JCNH008021",
                        "CIARAMA MAQUINAS LTDA",
                        "7/25/2022",
                        "3.1",
                        "61 to 365 days"
                      ],
                      [
                        "1BM7230JCNH008284",
                        "CIARAMA MAQUINAS LTDA",
                        "3/27/2023",
                        "326.4",
                        "16 to 60 days"
                      ],
                      [
                        "1BM7230JCNH008908",
                        "CIARAMA MAQUINAS LTDA",
                        "4/20/2023",
                        "4.1",
                        "Last 15 days"
                      ],
                      [
                        "1BM7230JCPH009527",
                        "CIARAMA MAQUINAS LTDA",
                        "4/21/2023",
                        "139.8",
                        "Last 15 days"
                      ],
                      [
                        "1BM7230JEJH001594",
                        "CIARAMA MAQUINAS LTDA",
                        "8/11/2022",
                        "1305.6",
                        "61 to 365 days"
                      ],
                      [
                        "1BM7230JEJH001627",
                        "CIARAMA MAQUINAS LTDA",
                        "7/5/2022",
                        "1943.95",
                        "61 to 365 days"
                      ],
                      [
                        "1BM7230JEJH002230",
                        "CIARAMA MAQUINAS LTDA",
                        "11/9/2021",
                        "2429.45",
                        "365+ days"
                      ],
                      [
                        "1BM7230JEJH002342",
                        "CIARAMA MAQUINAS LTDA",
                        "7/10/2021",
                        "2695.45",
                        "365+ days"
                      ],
                      [
                        "1BM7230JEJH002468",
                        "CIARAMA MAQUINAS LTDA",
                        "2/7/2023",
                        "4744.4",
                        "61 to 365 days"
                      ],
                      [
                        "1BM7230JEKH002827",
                        "CIARAMA MAQUINAS LTDA",
                        "4/24/2023",
                        "5442.65",
                        "Last 15 days"
                      ],
                      [
                        "1BM7230JEKH002858",
                        "CIARAMA MAQUINAS LTDA",
                        "4/6/2023",
                        "4270.7",
                        "16 to 60 days"
                      ],
                      [
                        "1BM7230JEKH003329",
                        "CIARAMA MAQUINAS LTDA",
                        "11/8/2019",
                        "2.95",
                        "365+ days"
                      ],
                      [
                        "1BM7230JEKH003475",
                        "CIARAMA MAQUINAS LTDA",
                        "4/4/2023",
                        "2764.45",
                        "16 to 60 days"
                      ],
                      [
                        "1BM7230JELH003980",
                        "CIARAMA MAQUINAS LTDA",
                        "4/24/2023",
                        "3832.9",
                        "Last 15 days"
                      ],
                      [
                        "1BM7230JELH004448",
                        "CIARAMA MAQUINAS LTDA",
                        "4/23/2023",
                        "3416.65",
                        "Last 15 days"
                      ],
                      [
                        "1BM7230JELH004482",
                        "CIARAMA MAQUINAS LTDA",
                        "2/19/2023",
                        "938.75",
                        "61 to 365 days"
                      ],
                      [
                        "1BM7230JELH004496",
                        "CIARAMA MAQUINAS LTDA",
                        "4/24/2023",
                        "1711.6",
                        "Last 15 days"
                      ],
                      [
                        "1BM7230JELH004742",
                        "CIARAMA MAQUINAS LTDA",
                        "4/24/2023",
                        "5165.55",
                        "Last 15 days"
                      ],
                      [
                        "1BM7230JELH004904",
                        "CIARAMA MAQUINAS LTDA",
                        "4/11/2023",
                        "2259.3",
                        "Last 15 days"
                      ],
                      [
                        "1BM7230JEMH005102",
                        "CIARAMA MAQUINAS LTDA",
                        "4/1/2023",
                        "7146.95",
                        "16 to 60 days"
                      ],
                      [
                        "1BM7230JEMH005830",
                        "CIARAMA MAQUINAS LTDA",
                        "4/1/2023",
                        "2785.3",
                        "16 to 60 days"
                      ],
                      [
                        "1BM7230JEMH006489",
                        "CIARAMA MAQUINAS LTDA",
                        "4/24/2023",
                        "1604.65",
                        "Last 15 days"
                      ],
                      [
                        "1BM7230JENH006932",
                        "CIARAMA MAQUINAS LTDA",
                        "3/15/2023",
                        "1160.15",
                        "16 to 60 days"
                      ],
                      [
                        "1BM7230JENH007241",
                        "CIARAMA MAQUINAS LTDA",
                        "11/14/2022",
                        "420.75",
                        "61 to 365 days"
                      ],
                      [
                        "1BM7230JENH007644",
                        "CIARAMA MAQUINAS LTDA",
                        "6/21/2022",
                        "",
                        "61 to 365 days"
                      ],
                      [
                        "1BM7230JENH007935",
                        "CIARAMA MAQUINAS LTDA",
                        "1/24/2023",
                        "1538.25",
                        "61 to 365 days"
                      ],
                      [
                        "1BM7230JENH008292",
                        "CIARAMA MAQUINAS LTDA",
                        "3/12/2023",
                        "187.1",
                        "16 to 60 days"
                      ],
                      [
                        "1BM7230JENH009099",
                        "CIARAMA MAQUINAS LTDA",
                        "4/23/2023",
                        "412.3",
                        "Last 15 days"
                      ],
                      [
                        "1BM7230JENH009104",
                        "CIARAMA MAQUINAS LTDA",
                        "4/17/2023",
                        "257.35",
                        "Last 15 days"
                      ],
                      [
                        "1BM7230JHJH002100",
                        "CIARAMA MAQUINAS LTDA",
                        "3/9/2021",
                        "2386.85",
                        "365+ days"
                      ],
                      [
                        "1BM7230JHKH002874",
                        "CIARAMA MAQUINAS LTDA",
                        "4/24/2023",
                        "6008.35",
                        "Last 15 days"
                      ],
                      [
                        "1BM7230JHKH002972",
                        "CIARAMA MAQUINAS LTDA",
                        "4/19/2021",
                        "1218.95",
                        "365+ days"
                      ],
                      [
                        "1BM7230JHLH003914",
                        "CIARAMA MAQUINAS LTDA",
                        "4/27/2022",
                        "",
                        "61 to 365 days"
                      ],
                      [
                        "1BM7230JHLH004450",
                        "CIARAMA MAQUINAS LTDA",
                        "4/23/2023",
                        "4957.05",
                        "Last 15 days"
                      ],
                      [
                        "1BM7230JHLH004481",
                        "CIARAMA MAQUINAS LTDA",
                        "4/17/2023",
                        "",
                        "Last 15 days"
                      ],
                      [
                        "1BM7230JHLH005016",
                        "CIARAMA MAQUINAS LTDA",
                        "4/13/2023",
                        "1370.55",
                        "Last 15 days"
                      ],
                      [
                        "1BM7230JHMH005115",
                        "CIARAMA MAQUINAS LTDA",
                        "3/5/2023",
                        "4605.35",
                        "16 to 60 days"
                      ],
                      [
                        "1BM7230JHMH005132",
                        "CIARAMA MAQUINAS LTDA",
                        "11/30/2022",
                        "963.45",
                        "61 to 365 days"
                      ],
                      [
                        "1BM7230JHMH005597",
                        "CIARAMA MAQUINAS LTDA",
                        "4/24/2023",
                        "1009.85",
                        "Last 15 days"
                      ],
                      [
                        "1BM7230JHMH005647",
                        "CIARAMA MAQUINAS LTDA",
                        "4/24/2023",
                        "1337.75",
                        "Last 15 days"
                      ],
                      [
                        "1BM7230JHMH005812",
                        "CIARAMA MAQUINAS LTDA",
                        "7/22/2021",
                        "58.85",
                        "365+ days"
                      ],
                      [
                        "1BM7230JHMH006202",
                        "CIARAMA MAQUINAS LTDA",
                        "4/8/2023",
                        "2081.5",
                        "16 to 60 days"
                      ],
                      [
                        "1BM7230JHMH006314",
                        "CIARAMA MAQUINAS LTDA",
                        "4/24/2023",
                        "1729.45",
                        "Last 15 days"
                      ],
                      [
                        "1BM7230JHMH006491",
                        "CIARAMA MAQUINAS LTDA",
                        "4/24/2023",
                        "2824.65",
                        "Last 15 days"
                      ],
                      [
                        "1BM7230JHMH006880",
                        "CIARAMA MAQUINAS LTDA",
                        "3/31/2022",
                        "5.65",
                        "365+ days"
                      ],
                      [
                        "1BM7230JHNH007349",
                        "CIARAMA MAQUINAS LTDA",
                        "4/1/2023",
                        "465.8",
                        "16 to 60 days"
                      ],
                      [
                        "1BM7230JHNH007366",
                        "CIARAMA MAQUINAS LTDA",
                        "4/9/2023",
                        "51.8",
                        "Last 15 days"
                      ],
                      [
                        "1BM7230JHNH007657",
                        "CIARAMA MAQUINAS LTDA",
                        "6/18/2022",
                        "",
                        "61 to 365 days"
                      ],
                      [
                        "1BM7230JHNH007903",
                        "CIARAMA MAQUINAS LTDA",
                        "4/12/2023",
                        "476.5",
                        "Last 15 days"
                      ],
                      [
                        "1BM7230JHNH008257",
                        "CIARAMA MAQUINAS LTDA",
                        "4/24/2023",
                        "1105.95",
                        "Last 15 days"
                      ],
                      [
                        "1BM7230JHNH008307",
                        "CIARAMA MAQUINAS LTDA",
                        "3/13/2023",
                        "153.4",
                        "16 to 60 days"
                      ],
                      [
                        "1BM7230JHNH008890",
                        "CIARAMA MAQUINAS LTDA",
                        "4/17/2023",
                        "216.8",
                        "Last 15 days"
                      ],
                      [
                        "1BM7230JHPH009556",
                        "CIARAMA MAQUINAS LTDA",
                        "4/18/2023",
                        "2.85",
                        "Last 15 days"
                      ],
                      [
                        "1BM7230JJHH001144",
                        "CIARAMA MAQUINAS LTDA",
                        "9/30/2019",
                        "2548.15",
                        "365+ days"
                      ],
                      [
                        "1BM7230JJJH002140",
                        "CIARAMA MAQUINAS LTDA",
                        "7/17/2021",
                        "4849.7",
                        "365+ days"
                      ],
                      [
                        "1BM7230JJJH002252",
                        "CIARAMA MAQUINAS LTDA",
                        "10/13/2019",
                        "1160.15",
                        "365+ days"
                      ],
                      [
                        "1BM7230JJKH002804",
                        "CIARAMA MAQUINAS LTDA",
                        "7/6/2021",
                        "1003.45",
                        "365+ days"
                      ],
                      [
                        "1BM7230JJKH003094",
                        "CIARAMA MAQUINAS LTDA",
                        "4/21/2023",
                        "2157.55",
                        "Last 15 days"
                      ],
                      [
                        "1BM7230JJKH003693",
                        "CIARAMA MAQUINAS LTDA",
                        "4/24/2023",
                        "3838.25",
                        "Last 15 days"
                      ],
                      [
                        "1BM7230JJLH003968",
                        "CIARAMA MAQUINAS LTDA",
                        "7/19/2022",
                        "2484.35",
                        "61 to 365 days"
                      ],
                      [
                        "1BM7230JJLH004361",
                        "CIARAMA MAQUINAS LTDA",
                        "10/7/2022",
                        "",
                        "61 to 365 days"
                      ],
                      [
                        "1BM7230JJLH004568",
                        "CIARAMA MAQUINAS LTDA",
                        "4/24/2023",
                        "3334.0",
                        "Last 15 days"
                      ],
                      [
                        "1BM7230JJLH004778",
                        "CIARAMA MAQUINAS LTDA",
                        "2/8/2023",
                        "3505.4",
                        "61 to 365 days"
                      ],
                      [
                        "1BM7230JJMH005107",
                        "CIARAMA MAQUINAS LTDA",
                        "4/24/2023",
                        "3078.65",
                        "Last 15 days"
                      ],
                      [
                        "1BM7230JJMH006127",
                        "CIARAMA MAQUINAS LTDA",
                        "6/16/2022",
                        "617.4",
                        "61 to 365 days"
                      ],
                      [
                        "1BM7230JJMH006354",
                        "CIARAMA MAQUINAS LTDA",
                        "4/23/2023",
                        "2334.0",
                        "Last 15 days"
                      ],
                      [
                        "1BM7230JJMH006452",
                        "CIARAMA MAQUINAS LTDA",
                        "4/14/2023",
                        "1232.0",
                        "Last 15 days"
                      ],
                      [
                        "1BM7230JJNH007022",
                        "CIARAMA MAQUINAS LTDA",
                        "3/16/2022",
                        "41.75",
                        "365+ days"
                      ],
                      [
                        "1BM7230JJNH007313",
                        "CIARAMA MAQUINAS LTDA",
                        "4/24/2023",
                        "1498.05",
                        "Last 15 days"
                      ],
                      [
                        "1BM7230JJNH007327",
                        "CIARAMA MAQUINAS LTDA",
                        "3/4/2023",
                        "405.3",
                        "16 to 60 days"
                      ],
                      [
                        "1BM7230JJNH007764",
                        "CIARAMA MAQUINAS LTDA",
                        "4/24/2023",
                        "701.9",
                        "Last 15 days"
                      ],
                      [
                        "1BM7230JJNH008574",
                        "CIARAMA MAQUINAS LTDA",
                        "3/27/2023",
                        "598.85",
                        "16 to 60 days"
                      ],
                      [
                        "1BM7230JJNH008638",
                        "CIARAMA MAQUINAS LTDA",
                        "4/19/2023",
                        "156.8",
                        "Last 15 days"
                      ],
                      [
                        "1BM7230JJNH008641",
                        "CIARAMA MAQUINAS LTDA",
                        "4/24/2023",
                        "6.15",
                        "Last 15 days"
                      ],
                      [
                        "1BM7230JJPH009324",
                        "CIARAMA MAQUINAS LTDA",
                        "4/21/2023",
                        "87.55",
                        "Last 15 days"
                      ],
                      [
                        "1BM7230JJPH009484",
                        "CIARAMA MAQUINAS LTDA",
                        "3/25/2023",
                        "2.9",
                        "16 to 60 days"
                      ],
                      [
                        "1BM7230JKHH000591",
                        "CIARAMA MAQUINAS LTDA",
                        "6/24/2022",
                        "4972.45",
                        "61 to 365 days"
                      ],
                      [
                        "1BM7230JKHH000977",
                        "CIARAMA MAQUINAS LTDA",
                        "3/7/2021",
                        "2272.3",
                        "365+ days"
                      ],
                      [
                        "1BM7230JKHH001143",
                        "CIARAMA MAQUINAS LTDA",
                        "9/16/2021",
                        "3634.5",
                        "365+ days"
                      ],
                      [
                        "1BM7230JKHH001160",
                        "CIARAMA MAQUINAS LTDA",
                        "7/9/2022",
                        "2639.55",
                        "61 to 365 days"
                      ],
                      [
                        "1BM7230JKJH002427",
                        "CIARAMA MAQUINAS LTDA",
                        "4/14/2023",
                        "7151.05",
                        "Last 15 days"
                      ],
                      [
                        "1BM7230JKJH002587",
                        "CIARAMA MAQUINAS LTDA",
                        "3/9/2021",
                        "2757.55",
                        "365+ days"
                      ],
                      [
                        "1BM7230JKKH002722",
                        "CIARAMA MAQUINAS LTDA",
                        "4/24/2023",
                        "4407.3",
                        "Last 15 days"
                      ],
                      [
                        "1BM7230JKKH003093",
                        "CIARAMA MAQUINAS LTDA",
                        "2/26/2022",
                        "1946.4",
                        "365+ days"
                      ],
                      [
                        "1BM7230JKLH004276",
                        "CIARAMA MAQUINAS LTDA",
                        "3/31/2023",
                        "2401.55",
                        "16 to 60 days"
                      ],
                      [
                        "1BM7230JKLH004357",
                        "CIARAMA MAQUINAS LTDA",
                        "1/21/2023",
                        "3624.55",
                        "61 to 365 days"
                      ],
                      [
                        "1BM7230JKLH004441",
                        "CIARAMA MAQUINAS LTDA",
                        "3/25/2023",
                        "782.75",
                        "16 to 60 days"
                      ],
                      [
                        "1BM7230JKLH004732",
                        "CIARAMA MAQUINAS LTDA",
                        "4/24/2023",
                        "3889.15",
                        "Last 15 days"
                      ],
                      [
                        "1BM7230JKMH005607",
                        "CIARAMA MAQUINAS LTDA",
                        "4/24/2023",
                        "810.4",
                        "Last 15 days"
                      ],
                      [
                        "1BM7230JKMH005851",
                        "CIARAMA MAQUINAS LTDA",
                        "8/8/2022",
                        "404.85",
                        "61 to 365 days"
                      ],
                      [
                        "1BM7230JKMH006479",
                        "CIARAMA MAQUINAS LTDA",
                        "4/1/2023",
                        "1840.9",
                        "16 to 60 days"
                      ],
                      [
                        "1BM7230JKMH006658",
                        "CIARAMA MAQUINAS LTDA",
                        "4/24/2023",
                        "1056.35",
                        "Last 15 days"
                      ],
                      [
                        "1BM7230JKNH006936",
                        "CIARAMA MAQUINAS LTDA",
                        "4/24/2023",
                        "1286.3",
                        "Last 15 days"
                      ],
                      [
                        "1BM7230JKNH007391",
                        "CIARAMA MAQUINAS LTDA",
                        "7/10/2022",
                        "4.25",
                        "61 to 365 days"
                      ],
                      [
                        "1BM7230JKNH008198",
                        "CIARAMA MAQUINAS LTDA",
                        "4/3/2023",
                        "295.7",
                        "16 to 60 days"
                      ],
                      [
                        "1BM7230JKNH008850",
                        "CIARAMA MAQUINAS LTDA",
                        "3/9/2023",
                        "5.15",
                        "16 to 60 days"
                      ],
                      [
                        "1BM7230JKPH009550",
                        "CIARAMA MAQUINAS LTDA",
                        "4/17/2023",
                        "4.05",
                        "Last 15 days"
                      ],
                      [
                        "1BM7230JKPH009581",
                        "CIARAMA MAQUINAS LTDA",
                        "4/24/2023",
                        "3.25",
                        "Last 15 days"
                      ],
                      [
                        "1BM7230JLHH000873",
                        "CIARAMA MAQUINAS LTDA",
                        "4/15/2023",
                        "1143.65",
                        "Last 15 days"
                      ],
                      [
                        "1BM7230JLJH002452",
                        "CIARAMA MAQUINAS LTDA",
                        "11/26/2019",
                        "319.3",
                        "365+ days"
                      ],
                      [
                        "1BM7230JLKH003697",
                        "CIARAMA MAQUINAS LTDA",
                        "2/25/2023",
                        "3219.2",
                        "16 to 60 days"
                      ],
                      [
                        "1BM7230JLLH003975",
                        "CIARAMA MAQUINAS LTDA",
                        "3/11/2023",
                        "1580.2",
                        "16 to 60 days"
                      ],
                      [
                        "1BM7230JLLH004155",
                        "CIARAMA MAQUINAS LTDA",
                        "2/16/2021",
                        "693.05",
                        "365+ days"
                      ],
                      [
                        "1BM7230JLLH004320",
                        "CIARAMA MAQUINAS LTDA",
                        "4/24/2023",
                        "1194.8",
                        "Last 15 days"
                      ],
                      [
                        "1BM7230JLMH005095",
                        "CIARAMA MAQUINAS LTDA",
                        "4/14/2023",
                        "2172.15",
                        "Last 15 days"
                      ],
                      [
                        "1BM7230JLMH005906",
                        "CIARAMA MAQUINAS LTDA",
                        "10/29/2021",
                        "471.65",
                        "365+ days"
                      ],
                      [
                        "1BM7230JLMH005923",
                        "CIARAMA MAQUINAS LTDA",
                        "12/26/2022",
                        "512.3",
                        "61 to 365 days"
                      ],
                      [
                        "1BM7230JLMH006084",
                        "CIARAMA MAQUINAS LTDA",
                        "4/24/2023",
                        "2373.55",
                        "Last 15 days"
                      ],
                      [
                        "1BM7230JLMH006599",
                        "CIARAMA MAQUINAS LTDA",
                        "1/28/2023",
                        "860.3",
                        "61 to 365 days"
                      ],
                      [
                        "1BM7230JLNH007916",
                        "CIARAMA MAQUINAS LTDA",
                        "4/21/2023",
                        "715.7",
                        "Last 15 days"
                      ],
                      [
                        "1BM7230JLNH008550",
                        "CIARAMA MAQUINAS LTDA",
                        "4/24/2023",
                        "390.4",
                        "Last 15 days"
                      ],
                      [
                        "1BM7230JLNH008645",
                        "CIARAMA MAQUINAS LTDA",
                        "4/24/2023",
                        "545.9",
                        "Last 15 days"
                      ],
                      [
                        "1BM7230JLNH008676",
                        "CIARAMA MAQUINAS LTDA",
                        "3/4/2023",
                        "497.65",
                        "16 to 60 days"
                      ],
                      [
                        "1BM7230JLPH009202",
                        "CIARAMA MAQUINAS LTDA",
                        "3/11/2023",
                        "128.4",
                        "16 to 60 days"
                      ],
                      [
                        "1BM7230JLPH009491",
                        "CIARAMA MAQUINAS LTDA",
                        "3/25/2023",
                        "2.3",
                        "16 to 60 days"
                      ],
                      [
                        "1BM7230JPJH001938",
                        "CIARAMA MAQUINAS LTDA",
                        "3/22/2023",
                        "4771.9",
                        "16 to 60 days"
                      ],
                      [
                        "1BM7230JPJH002412",
                        "CIARAMA MAQUINAS LTDA",
                        "4/24/2023",
                        "1294.3",
                        "Last 15 days"
                      ],
                      [
                        "1BM7230JPJH002474",
                        "CIARAMA MAQUINAS LTDA",
                        "9/11/2019",
                        "",
                        "365+ days"
                      ],
                      [
                        "1BM7230JPJH002488",
                        "CIARAMA MAQUINAS LTDA",
                        "11/2/2020",
                        "2543.05",
                        "365+ days"
                      ],
                      [
                        "1BM7230JPJH002538",
                        "CIARAMA MAQUINAS LTDA",
                        "2/28/2023",
                        "2781.3",
                        "16 to 60 days"
                      ],
                      [
                        "1BM7230JPKH002833",
                        "CIARAMA MAQUINAS LTDA",
                        "6/9/2019",
                        "231.25",
                        "365+ days"
                      ],
                      [
                        "1BM7230JPKH002895",
                        "CIARAMA MAQUINAS LTDA",
                        "4/24/2023",
                        "3541.15",
                        "Last 15 days"
                      ],
                      [
                        "1BM7230JPLH003918",
                        "CIARAMA MAQUINAS LTDA",
                        "4/28/2022",
                        "",
                        "61 to 365 days"
                      ],
                      [
                        "1BM7230JPLH004471",
                        "CIARAMA MAQUINAS LTDA",
                        "4/24/2023",
                        "4434.95",
                        "Last 15 days"
                      ],
                      [
                        "1BM7230JPLH005023",
                        "CIARAMA MAQUINAS LTDA",
                        "4/23/2023",
                        "2709.65",
                        "Last 15 days"
                      ],
                      [
                        "1BM7230JPMH005251",
                        "CIARAMA MAQUINAS LTDA",
                        "4/1/2023",
                        "7993.1",
                        "16 to 60 days"
                      ],
                      [
                        "1BM7230JPMH005881",
                        "CIARAMA MAQUINAS LTDA",
                        "4/24/2023",
                        "1388.65",
                        "Last 15 days"
                      ],
                      [
                        "1BM7230JPNH007485",
                        "CIARAMA MAQUINAS LTDA",
                        "4/20/2023",
                        "683.4",
                        "Last 15 days"
                      ],
                      [
                        "1BM7230JPNH007504",
                        "CIARAMA MAQUINAS LTDA",
                        "3/13/2023",
                        "63.5",
                        "16 to 60 days"
                      ],
                      [
                        "1BM7230JPNH007664",
                        "CIARAMA MAQUINAS LTDA",
                        "6/18/2022",
                        "",
                        "61 to 365 days"
                      ],
                      [
                        "1BM7230JPNH008250",
                        "CIARAMA MAQUINAS LTDA",
                        "1/12/2023",
                        "733.3",
                        "61 to 365 days"
                      ],
                      [
                        "1BM7230JPNH008653",
                        "CIARAMA MAQUINAS LTDA",
                        "3/6/2023",
                        "10.15",
                        "16 to 60 days"
                      ],
                      [
                        "1BM7230JPNH008877",
                        "CIARAMA MAQUINAS LTDA",
                        "4/20/2023",
                        "487.05",
                        "Last 15 days"
                      ],
                      [
                        "1BM7230JPNH009107",
                        "CIARAMA MAQUINAS LTDA",
                        "4/24/2023",
                        "506.55",
                        "Last 15 days"
                      ],
                      [
                        "1BM7230JTJH001937",
                        "CIARAMA MAQUINAS LTDA",
                        "5/13/2021",
                        "5.0",
                        "365+ days"
                      ],
                      [
                        "1BM7230JTJH002327",
                        "CIARAMA MAQUINAS LTDA",
                        "4/13/2023",
                        "2840.05",
                        "Last 15 days"
                      ],
                      [
                        "1BM7230JTJH002473",
                        "CIARAMA MAQUINAS LTDA",
                        "2/20/2023",
                        "3282.05",
                        "61 to 365 days"
                      ],
                      [
                        "1BM7230JTJH002487",
                        "CIARAMA MAQUINAS LTDA",
                        "7/7/2021",
                        "2922.75",
                        "365+ days"
                      ],
                      [
                        "1BM7230JTJH002537",
                        "CIARAMA MAQUINAS LTDA",
                        "7/3/2020",
                        "2556.25",
                        "365+ days"
                      ],
                      [
                        "1BM7230JTKH003527",
                        "CIARAMA MAQUINAS LTDA",
                        "7/14/2020",
                        "685.4",
                        "365+ days"
                      ],
                      [
                        "1BM7230JTLH003917",
                        "CIARAMA MAQUINAS LTDA",
                        "4/27/2022",
                        "",
                        "61 to 365 days"
                      ],
                      [
                        "1BM7230JTLH004548",
                        "CIARAMA MAQUINAS LTDA",
                        "5/23/2022",
                        "2050.8",
                        "61 to 365 days"
                      ],
                      [
                        "1BM7230JTLH005022",
                        "CIARAMA MAQUINAS LTDA",
                        "2/15/2023",
                        "1267.5",
                        "61 to 365 days"
                      ],
                      [
                        "1BM7230JTMH005202",
                        "CIARAMA MAQUINAS LTDA",
                        "10/14/2021",
                        "357.4",
                        "365+ days"
                      ],
                      [
                        "1BM7230JTMH005846",
                        "CIARAMA MAQUINAS LTDA",
                        "4/22/2023",
                        "2297.4",
                        "Last 15 days"
                      ],
                      [
                        "1BM7230JTMH005880",
                        "CIARAMA MAQUINAS LTDA",
                        "4/17/2023",
                        "2920.8",
                        "Last 15 days"
                      ],
                      [
                        "1BM7230JTMH006267",
                        "CIARAMA MAQUINAS LTDA",
                        "4/24/2023",
                        "1925.4",
                        "Last 15 days"
                      ],
                      [
                        "1BM7230JTMH006494",
                        "CIARAMA MAQUINAS LTDA",
                        "3/11/2022",
                        "133.25",
                        "365+ days"
                      ],
                      [
                        "1BM7230JTMH006608",
                        "CIARAMA MAQUINAS LTDA",
                        "4/20/2023",
                        "637.95",
                        "Last 15 days"
                      ],
                      [
                        "1BM7230JTMH006625",
                        "CIARAMA MAQUINAS LTDA",
                        "4/24/2023",
                        "1607.35",
                        "Last 15 days"
                      ],
                      [
                        "1BM7230JTMH006768",
                        "CIARAMA MAQUINAS LTDA",
                        "9/29/2022",
                        "233.4",
                        "61 to 365 days"
                      ],
                      [
                        "1BM7230JTNH007212",
                        "CIARAMA MAQUINAS LTDA",
                        "6/1/2022",
                        "",
                        "61 to 365 days"
                      ],
                      [
                        "1BM7230JTNH007582",
                        "CIARAMA MAQUINAS LTDA",
                        "3/27/2023",
                        "670.25",
                        "16 to 60 days"
                      ],
                      [
                        "1BM7230JTNH007713",
                        "CIARAMA MAQUINAS LTDA",
                        "4/11/2023",
                        "336.45",
                        "Last 15 days"
                      ],
                      [
                        "1BM7230JTNH007758",
                        "CIARAMA MAQUINAS LTDA",
                        "4/14/2023",
                        "345.7",
                        "Last 15 days"
                      ],
                      [
                        "1BM7230JTNH008537",
                        "CIARAMA MAQUINAS LTDA",
                        "4/24/2023",
                        "332.95",
                        "Last 15 days"
                      ],
                      [
                        "1BM7230JTNH008909",
                        "CIARAMA MAQUINAS LTDA",
                        "4/24/2023",
                        "399.25",
                        "Last 15 days"
                      ],
                      [
                        "1BM7230JTPH009819",
                        "CIARAMA MAQUINAS LTDA",
                        "4/23/2023",
                        "2.25",
                        "Last 15 days"
                      ],
                      [
                        "1BM7230JVHH001180",
                        "CIARAMA MAQUINAS LTDA",
                        "11/1/2020",
                        "4281.7",
                        "365+ days"
                      ],
                      [
                        "1BM7230JVJH001511",
                        "CIARAMA MAQUINAS LTDA",
                        "7/26/2022",
                        "5394.5",
                        "61 to 365 days"
                      ],
                      [
                        "1BM7230JVJH002030",
                        "CIARAMA MAQUINAS LTDA",
                        "3/9/2021",
                        "4928.85",
                        "365+ days"
                      ],
                      [
                        "1BM7230JVJH002108",
                        "CIARAMA MAQUINAS LTDA",
                        "8/27/2022",
                        "3361.85",
                        "61 to 365 days"
                      ],
                      [
                        "1BM7230JVJH002447",
                        "CIARAMA MAQUINAS LTDA",
                        "7/24/2020",
                        "403.5",
                        "365+ days"
                      ],
                      [
                        "1BM7230JVKH002711",
                        "CIARAMA MAQUINAS LTDA",
                        "4/24/2023",
                        "5096.9",
                        "Last 15 days"
                      ],
                      [
                        "1BM7230JVKH003096",
                        "CIARAMA MAQUINAS LTDA",
                        "4/20/2023",
                        "5269.2",
                        "Last 15 days"
                      ],
                      [
                        "1BM7230JVKH003261",
                        "CIARAMA MAQUINAS LTDA",
                        "10/13/2021",
                        "1761.8",
                        "365+ days"
                      ],
                      [
                        "1BM7230JVLH004010",
                        "CIARAMA MAQUINAS LTDA",
                        "4/14/2023",
                        "3174.65",
                        "Last 15 days"
                      ],
                      [
                        "1BM7230JVLH004301",
                        "CIARAMA MAQUINAS LTDA",
                        "4/22/2023",
                        "3183.05",
                        "Last 15 days"
                      ],
                      [
                        "1BM7230JVLH004377",
                        "CIARAMA MAQUINAS LTDA",
                        "9/3/2022",
                        "969.85",
                        "61 to 365 days"
                      ],
                      [
                        "1BM7230JVLH004573",
                        "CIARAMA MAQUINAS LTDA",
                        "4/24/2023",
                        "2530.1",
                        "Last 15 days"
                      ],
                      [
                        "1BM7230JVLH004931",
                        "CIARAMA MAQUINAS LTDA",
                        "4/21/2023",
                        "651.65",
                        "Last 15 days"
                      ],
                      [
                        "1BM7230JVMH005093",
                        "CIARAMA MAQUINAS LTDA",
                        "3/11/2023",
                        "2525.15",
                        "16 to 60 days"
                      ],
                      [
                        "1BM7230JVMH005238",
                        "CIARAMA MAQUINAS LTDA",
                        "3/20/2023",
                        "7172.8",
                        "16 to 60 days"
                      ],
                      [
                        "1BM7230JVMH005725",
                        "CIARAMA MAQUINAS LTDA",
                        "4/24/2023",
                        "752.2",
                        "Last 15 days"
                      ],
                      [
                        "1BM7230JVMH005918",
                        "CIARAMA MAQUINAS LTDA",
                        "4/11/2023",
                        "482.0",
                        "Last 15 days"
                      ],
                      [
                        "1BM7230JVMH006308",
                        "CIARAMA MAQUINAS LTDA",
                        "4/24/2023",
                        "1912.8",
                        "Last 15 days"
                      ],
                      [
                        "1BM7230JVMH006874",
                        "CIARAMA MAQUINAS LTDA",
                        "4/24/2023",
                        "984.6",
                        "Last 15 days"
                      ],
                      [
                        "1BM7230JVNH007346",
                        "CIARAMA MAQUINAS LTDA",
                        "4/5/2023",
                        "749.4",
                        "16 to 60 days"
                      ],
                      [
                        "1BM7230JVNH007573",
                        "CIARAMA MAQUINAS LTDA",
                        "4/24/2023",
                        "710.15",
                        "Last 15 days"
                      ],
                      [
                        "1BM7230JVNH007900",
                        "CIARAMA MAQUINAS LTDA",
                        "4/24/2023",
                        "627.95",
                        "Last 15 days"
                      ],
                      [
                        "1BM7230JVNH008268",
                        "CIARAMA MAQUINAS LTDA",
                        "4/22/2023",
                        "678.55",
                        "Last 15 days"
                      ],
                      [
                        "1BM7230JVNH009100",
                        "CIARAMA MAQUINAS LTDA",
                        "4/5/2023",
                        "371.3",
                        "16 to 60 days"
                      ],
                      [
                        "1BM8270RCJS100275",
                        "CIARAMA MAQUINAS LTDA",
                        "4/16/2023",
                        "1803.8",
                        "Last 15 days"
                      ],
                      [
                        "1BM8270RCMS100658",
                        "CIARAMA MAQUINAS LTDA",
                        "4/24/2023",
                        "3217.8",
                        "Last 15 days"
                      ],
                      [
                        "1BM8270REKS100311",
                        "CIARAMA MAQUINAS LTDA",
                        "6/24/2022",
                        "2904.4",
                        "61 to 365 days"
                      ],
                      [
                        "1BM8270RJKS100333",
                        "CIARAMA MAQUINAS LTDA",
                        "4/24/2023",
                        "4432.85",
                        "Last 15 days"
                      ],
                      [
                        "1BM8270RJMS100688",
                        "CIARAMA MAQUINAS LTDA",
                        "4/19/2023",
                        "3329.2",
                        "Last 15 days"
                      ],
                      [
                        "1BM8270RJNS100885",
                        "CIARAMA MAQUINAS LTDA",
                        "4/24/2023",
                        "513.15",
                        "Last 15 days"
                      ],
                      [
                        "1BM8270RKJS100295",
                        "CIARAMA MAQUINAS LTDA",
                        "4/18/2023",
                        "5910.15",
                        "Last 15 days"
                      ],
                      [
                        "1BM8270RLLS100565",
                        "CIARAMA MAQUINAS LTDA",
                        "3/28/2022",
                        "899.1",
                        "365+ days"
                      ],
                      [
                        "1BM8270RLNS100827",
                        "CIARAMA MAQUINAS LTDA",
                        "3/19/2023",
                        "503.9",
                        "16 to 60 days"
                      ],
                      [
                        "1BM8270RPNS100768",
                        "CIARAMA MAQUINAS LTDA",
                        "4/24/2023",
                        "1262.6",
                        "Last 15 days"
                      ],
                      [
                        "1BM8295RAMS100277",
                        "CIARAMA MAQUINAS LTDA",
                        "4/13/2023",
                        "1449.9",
                        "Last 15 days"
                      ],
                      [
                        "1BM8295RANS100412",
                        "CIARAMA MAQUINAS LTDA",
                        "4/22/2023",
                        "207.7",
                        "Last 15 days"
                      ],
                      [
                        "1BM8295RCJ0100056",
                        "CIARAMA MAQUINAS LTDA",
                        "6/15/2022",
                        "3075.15",
                        "61 to 365 days"
                      ],
                      [
                        "1BM8295RCKP100138",
                        "CIARAMA MAQUINAS LTDA",
                        "10/18/2020",
                        "992.1",
                        "365+ days"
                      ],
                      [
                        "1BM8295RCLS100204",
                        "CIARAMA MAQUINAS LTDA",
                        "3/10/2023",
                        "2488.0",
                        "16 to 60 days"
                      ],
                      [
                        "1BM8295REMS100266",
                        "CIARAMA MAQUINAS LTDA",
                        "4/24/2023",
                        "728.35",
                        "Last 15 days"
                      ],
                      [
                        "1BM8295RJMS100338",
                        "CIARAMA MAQUINAS LTDA",
                        "10/25/2022",
                        "",
                        "61 to 365 days"
                      ],
                      [
                        "1BM8295RJNS100387",
                        "CIARAMA MAQUINAS LTDA",
                        "4/23/2023",
                        "667.15",
                        "Last 15 days"
                      ],
                      [
                        "1BM8295RKMS100337",
                        "CIARAMA MAQUINAS LTDA",
                        "2/2/2023",
                        "975.95",
                        "61 to 365 days"
                      ],
                      [
                        "1BM8295RLNS100363",
                        "CIARAMA MAQUINAS LTDA",
                        "4/18/2023",
                        "474.85",
                        "Last 15 days"
                      ],
                      [
                        "1BM8295RLNS100380",
                        "CIARAMA MAQUINAS LTDA",
                        "3/21/2023",
                        "426.9",
                        "16 to 60 days"
                      ],
                      [
                        "1BM8320RCPS100706",
                        "CIARAMA MAQUINAS LTDA",
                        "4/24/2023",
                        "59.167",
                        "Last 15 days"
                      ],
                      [
                        "1BM8320REMS100439",
                        "CIARAMA MAQUINAS LTDA",
                        "4/12/2023",
                        "1704.4",
                        "Last 15 days"
                      ],
                      [
                        "1BM8320REMS100473",
                        "CIARAMA MAQUINAS LTDA",
                        "10/23/2022",
                        "771.5",
                        "61 to 365 days"
                      ],
                      [
                        "1BM8320RKJS100149",
                        "CIARAMA MAQUINAS LTDA",
                        "4/3/2023",
                        "5723.4",
                        "16 to 60 days"
                      ],
                      [
                        "1BM8320RKKS100234",
                        "CIARAMA MAQUINAS LTDA",
                        "4/22/2023",
                        "1682.4",
                        "Last 15 days"
                      ],
                      [
                        "1BM8320RLKS100256",
                        "CIARAMA MAQUINAS LTDA",
                        "1/16/2023",
                        "1329.4",
                        "61 to 365 days"
                      ],
                      [
                        "1BM8320RTKS100229",
                        "CIARAMA MAQUINAS LTDA",
                        "4/22/2023",
                        "3396.6",
                        "Last 15 days"
                      ],
                      [
                        "1BM8320RVMS100449",
                        "CIARAMA MAQUINAS LTDA",
                        "4/23/2023",
                        "3771.95",
                        "Last 15 days"
                      ],
                      [
                        "1BM8345RAJ0100125",
                        "CIARAMA MAQUINAS LTDA",
                        "7/16/2021",
                        "4271.55",
                        "365+ days"
                      ],
                      [
                        "1BM8345RALS100536",
                        "CIARAMA MAQUINAS LTDA",
                        "3/29/2023",
                        "11926.0",
                        "16 to 60 days"
                      ],
                      [
                        "1BM8345RCJS100281",
                        "CIARAMA MAQUINAS LTDA",
                        "4/17/2023",
                        "14888.25",
                        "Last 15 days"
                      ],
                      [
                        "1BM8345RCJS100286",
                        "CIARAMA MAQUINAS LTDA",
                        "4/24/2023",
                        "15791.8",
                        "Last 15 days"
                      ],
                      [
                        "1BM8345RCLS100534",
                        "CIARAMA MAQUINAS LTDA",
                        "4/23/2023",
                        "11245.3",
                        "Last 15 days"
                      ],
                      [
                        "1BM8345RCNS100973",
                        "CIARAMA MAQUINAS LTDA",
                        "4/10/2023",
                        "704.0",
                        "Last 15 days"
                      ],
                      [
                        "1BM8345REJ0100128",
                        "CIARAMA MAQUINAS LTDA",
                        "4/24/2023",
                        "1263.15",
                        "Last 15 days"
                      ],
                      [
                        "1BM8345REJS100280",
                        "CIARAMA MAQUINAS LTDA",
                        "4/21/2023",
                        "14777.3",
                        "Last 15 days"
                      ],
                      [
                        "1BM8345REKS100328",
                        "CIARAMA MAQUINAS LTDA",
                        "4/21/2023",
                        "6021.45",
                        "Last 15 days"
                      ],
                      [
                        "1BM8345RHJ0100127",
                        "CIARAMA MAQUINAS LTDA",
                        "4/22/2023",
                        "1224.55",
                        "Last 15 days"
                      ],
                      [
                        "1BM8345RHKS100358",
                        "CIARAMA MAQUINAS LTDA",
                        "9/15/2020",
                        "1004.95",
                        "365+ days"
                      ],
                      [
                        "1BM8345RJJS100304",
                        "CIARAMA MAQUINAS LTDA",
                        "4/19/2023",
                        "15031.5",
                        "Last 15 days"
                      ],
                      [
                        "1BM8345RJKS100305",
                        "CIARAMA MAQUINAS LTDA",
                        "11/15/2020",
                        "6290.3",
                        "365+ days"
                      ],
                      [
                        "1BM8345RJKS100529",
                        "CIARAMA MAQUINAS LTDA",
                        "4/21/2023",
                        "12274.2",
                        "Last 15 days"
                      ],
                      [
                        "1BM8345RLJ0100126",
                        "CIARAMA MAQUINAS LTDA",
                        "1/13/2021",
                        "2450.4",
                        "365+ days"
                      ],
                      [
                        "1BM8345RPJ0100120",
                        "CIARAMA MAQUINAS LTDA",
                        "5/23/2022",
                        "2736.2",
                        "61 to 365 days"
                      ],
                      [
                        "1BM8345RPKS100530",
                        "CIARAMA MAQUINAS LTDA",
                        "4/22/2023",
                        "13119.2",
                        "Last 15 days"
                      ],
                      [
                        "1BM8345RPMS100675",
                        "CIARAMA MAQUINAS LTDA",
                        "8/6/2021",
                        "587.9",
                        "365+ days"
                      ],
                      [
                        "1BM8345RTKS100462",
                        "CIARAMA MAQUINAS LTDA",
                        "5/19/2020",
                        "165.25",
                        "365+ days"
                      ],
                      [
                        "1BM8345RVLS100535",
                        "CIARAMA MAQUINAS LTDA",
                        "4/22/2023",
                        "11898.95",
                        "Last 15 days"
                      ],
                      [
                        "1BM8345RVLS100549",
                        "CIARAMA MAQUINAS LTDA",
                        "3/8/2023",
                        "2966.55",
                        "16 to 60 days"
                      ],
                      [
                        "1BM8370RAPS100843",
                        "CIARAMA MAQUINAS LTDA",
                        "4/14/2023",
                        "266.1",
                        "Last 15 days"
                      ],
                      [
                        "1BM8370RCFS000116",
                        "CIARAMA MAQUINAS LTDA",
                        "2/9/2023",
                        "3534.85",
                        "61 to 365 days"
                      ],
                      [
                        "1BM8370RCJS100306",
                        "CIARAMA MAQUINAS LTDA",
                        "4/24/2023",
                        "4327.15",
                        "Last 15 days"
                      ],
                      [
                        "1BM8370RCLS100518",
                        "CIARAMA MAQUINAS LTDA",
                        "4/23/2023",
                        "2931.3",
                        "Last 15 days"
                      ],
                      [
                        "1BM8370RCMS100611",
                        "CIARAMA MAQUINAS LTDA",
                        "4/23/2023",
                        "1245.6",
                        "Last 15 days"
                      ],
                      [
                        "1BM8370RCNS100750",
                        "CIARAMA MAQUINAS LTDA",
                        "6/25/2022",
                        "191.4",
                        "61 to 365 days"
                      ],
                      [
                        "1BM8370REKS100421",
                        "CIARAMA MAQUINAS LTDA",
                        "4/24/2023",
                        "4617.35",
                        "Last 15 days"
                      ],
                      [
                        "1BM8370RHLS100564",
                        "CIARAMA MAQUINAS LTDA",
                        "3/10/2023",
                        "2020.2",
                        "16 to 60 days"
                      ],
                      [
                        "1BM8370RHLS100578",
                        "CIARAMA MAQUINAS LTDA",
                        "4/24/2023",
                        "2135.5",
                        "Last 15 days"
                      ],
                      [
                        "1BM8370RJKS100393",
                        "CIARAMA MAQUINAS LTDA",
                        "4/22/2023",
                        "3477.15",
                        "Last 15 days"
                      ],
                      [
                        "1BM8370RJKS100412",
                        "CIARAMA MAQUINAS LTDA",
                        "4/20/2023",
                        "4203.05",
                        "Last 15 days"
                      ],
                      [
                        "1BM8370RJLS100508",
                        "CIARAMA MAQUINAS LTDA",
                        "4/5/2023",
                        "2669.75",
                        "16 to 60 days"
                      ],
                      [
                        "1BM8370RJLS100511",
                        "CIARAMA MAQUINAS LTDA",
                        "10/17/2022",
                        "2958.35",
                        "61 to 365 days"
                      ],
                      [
                        "1BM8370RKJS100357",
                        "CIARAMA MAQUINAS LTDA",
                        "4/20/2023",
                        "5039.65",
                        "Last 15 days"
                      ],
                      [
                        "1BM8370RKLS100507",
                        "CIARAMA MAQUINAS LTDA",
                        "4/10/2023",
                        "1758.7",
                        "Last 15 days"
                      ],
                      [
                        "1BM8370RKNS100767",
                        "CIARAMA MAQUINAS LTDA",
                        "4/24/2023",
                        "1870.1",
                        "Last 15 days"
                      ],
                      [
                        "1BM8370RLNS100744",
                        "CIARAMA MAQUINAS LTDA",
                        "4/15/2023",
                        "2723.5",
                        "Last 15 days"
                      ],
                      [
                        "1BM8370RLNS100792",
                        "CIARAMA MAQUINAS LTDA",
                        "3/29/2023",
                        "359.95",
                        "16 to 60 days"
                      ],
                      [
                        "1BM8370RLNS100825",
                        "CIARAMA MAQUINAS LTDA",
                        "3/23/2023",
                        "132.3",
                        "16 to 60 days"
                      ],
                      [
                        "1BM8370RPLS100599",
                        "CIARAMA MAQUINAS LTDA",
                        "9/20/2022",
                        "1257.1",
                        "61 to 365 days"
                      ],
                      [
                        "1BM8370RPMS100670",
                        "CIARAMA MAQUINAS LTDA",
                        "12/27/2022",
                        "379.0",
                        "61 to 365 days"
                      ],
                      [
                        "1BM8370RPNS100752",
                        "CIARAMA MAQUINAS LTDA",
                        "4/22/2023",
                        "795.7",
                        "Last 15 days"
                      ],
                      [
                        "1BM8370RTNS100765",
                        "CIARAMA MAQUINAS LTDA",
                        "3/30/2023",
                        "288.5",
                        "16 to 60 days"
                      ],
                      [
                        "1BM8370RVGS000255",
                        "CIARAMA MAQUINAS LTDA",
                        "4/12/2023",
                        "3119.1",
                        "Last 15 days"
                      ],
                      [
                        "1BM8370RVKS100395",
                        "CIARAMA MAQUINAS LTDA",
                        "7/15/2021",
                        "532.65",
                        "365+ days"
                      ],
                      [
                        "1BM8370RVLS100575",
                        "CIARAMA MAQUINAS LTDA",
                        "12/10/2021",
                        "1504.95",
                        "365+ days"
                      ],
                      [
                        "1BM8400RAJS100191",
                        "CIARAMA MAQUINAS LTDA",
                        "10/27/2022",
                        "2132.8",
                        "61 to 365 days"
                      ],
                      [
                        "1BM8400RALS100436",
                        "CIARAMA MAQUINAS LTDA",
                        "4/16/2023",
                        "1865.95",
                        "Last 15 days"
                      ],
                      [
                        "1BM8400RALS100520",
                        "CIARAMA MAQUINAS LTDA",
                        "4/12/2023",
                        "4444.2",
                        "Last 15 days"
                      ],
                      [
                        "1BM8400RAMS100972",
                        "CIARAMA MAQUINAS LTDA",
                        "4/21/2023",
                        "671.65",
                        "Last 15 days"
                      ],
                      [
                        "1BM8400RANS101315",
                        "CIARAMA MAQUINAS LTDA",
                        "4/20/2023",
                        "315.0",
                        "Last 15 days"
                      ],
                      [
                        "1BM8400RCHS100005",
                        "CIARAMA MAQUINAS LTDA",
                        "6/20/2022",
                        "3280.2",
                        "61 to 365 days"
                      ],
                      [
                        "1BM8400RCLS100420",
                        "CIARAMA MAQUINAS LTDA",
                        "4/19/2023",
                        "1525.6",
                        "Last 15 days"
                      ],
                      [
                        "1BM8400RCLS100532",
                        "CIARAMA MAQUINAS LTDA",
                        "8/3/2022",
                        "3748.65",
                        "61 to 365 days"
                      ],
                      [
                        "1BM8400RCMS100693",
                        "CIARAMA MAQUINAS LTDA",
                        "4/12/2023",
                        "2189.75",
                        "Last 15 days"
                      ],
                      [
                        "1BM8400RCNS101134",
                        "CIARAMA MAQUINAS LTDA",
                        "4/24/2023",
                        "2027.15",
                        "Last 15 days"
                      ],
                      [
                        "1BM8400RCNS101160",
                        "CIARAMA MAQUINAS LTDA",
                        "4/21/2023",
                        "468.5",
                        "Last 15 days"
                      ],
                      [
                        "1BM8400REHS100013",
                        "CIARAMA MAQUINAS LTDA",
                        "8/8/2022",
                        "2868.45",
                        "61 to 365 days"
                      ],
                      [
                        "1BM8400REMS100619",
                        "CIARAMA MAQUINAS LTDA",
                        "4/12/2022",
                        "843.1",
                        "365+ days"
                      ],
                      [
                        "1BM8400REMS100863",
                        "CIARAMA MAQUINAS LTDA",
                        "3/21/2023",
                        "952.6",
                        "16 to 60 days"
                      ],
                      [
                        "1BM8400RHNS101026",
                        "CIARAMA MAQUINAS LTDA",
                        "2/10/2023",
                        "233.7",
                        "61 to 365 days"
                      ],
                      [
                        "1BM8400RHNS101169",
                        "CIARAMA MAQUINAS LTDA",
                        "4/24/2023",
                        "362.7",
                        "Last 15 days"
                      ],
                      [
                        "1BM8400RHNS101205",
                        "CIARAMA MAQUINAS LTDA",
                        "3/25/2023",
                        "210.25",
                        "16 to 60 days"
                      ],
                      [
                        "1BM8400RJKS100253",
                        "CIARAMA MAQUINAS LTDA",
                        "11/1/2019",
                        "226.7",
                        "365+ days"
                      ],
                      [
                        "1BM8400RJMS100773",
                        "CIARAMA MAQUINAS LTDA",
                        "4/23/2023",
                        "1965.8",
                        "Last 15 days"
                      ],
                      [
                        "1BM8400RKLS100477",
                        "CIARAMA MAQUINAS LTDA",
                        "3/6/2023",
                        "4183.4",
                        "16 to 60 days"
                      ],
                      [
                        "1BM8400RKMS100898",
                        "CIARAMA MAQUINAS LTDA",
                        "4/17/2023",
                        "422.75",
                        "Last 15 days"
                      ],
                      [
                        "1BM8400RKMS100920",
                        "CIARAMA MAQUINAS LTDA",
                        "4/21/2023",
                        "1969.85",
                        "Last 15 days"
                      ],
                      [
                        "1BM8400RKMS100948",
                        "CIARAMA MAQUINAS LTDA",
                        "4/23/2023",
                        "1255.1",
                        "Last 15 days"
                      ],
                      [
                        "1BM8400RKNS101423",
                        "CIARAMA MAQUINAS LTDA",
                        "11/21/2022",
                        "",
                        "61 to 365 days"
                      ],
                      [
                        "1BM8400RLLS100390",
                        "CIARAMA MAQUINAS LTDA",
                        "4/17/2020",
                        "2.3",
                        "365+ days"
                      ],
                      [
                        "1BM8400RLMS100651",
                        "CIARAMA MAQUINAS LTDA",
                        "4/24/2023",
                        "2915.9",
                        "Last 15 days"
                      ],
                      [
                        "1BM8400RPLS100476",
                        "CIARAMA MAQUINAS LTDA",
                        "2/22/2023",
                        "3887.75",
                        "61 to 365 days"
                      ],
                      [
                        "1BM8400RTLS100413",
                        "CIARAMA MAQUINAS LTDA",
                        "2/6/2023",
                        "1725.45",
                        "61 to 365 days"
                      ],
                      [
                        "1BM8400RTNS101063",
                        "CIARAMA MAQUINAS LTDA",
                        "4/21/2023",
                        "1257.8",
                        "Last 15 days"
                      ],
                      [
                        "1BM8400RTNS101399",
                        "CIARAMA MAQUINAS LTDA",
                        "4/21/2023",
                        "59.35",
                        "Last 15 days"
                      ],
                      [
                        "1BM8400RVKS100305",
                        "CIARAMA MAQUINAS LTDA",
                        "4/12/2023",
                        "3048.15",
                        "Last 15 days"
                      ],
                      [
                        "1CQDB50EVM0135136",
                        "CIARAMA MAQUINAS LTDA",
                        "4/3/2023",
                        "338.067",
                        "16 to 60 days"
                      ],
                      [
                        "1CQS430ACK0130297",
                        "CIARAMA MAQUINAS LTDA",
                        "4/3/2023",
                        "1133.15",
                        "16 to 60 days"
                      ],
                      [
                        "1CQS430AJL0135216",
                        "CIARAMA MAQUINAS LTDA",
                        "3/25/2023",
                        "1091.25",
                        "16 to 60 days"
                      ],
                      [
                        "1CQS430AKM0140156",
                        "CIARAMA MAQUINAS LTDA",
                        "7/27/2022",
                        "318.35",
                        "61 to 365 days"
                      ],
                      [
                        "1CQS440AAK0130185",
                        "CIARAMA MAQUINAS LTDA",
                        "4/10/2023",
                        "696.6",
                        "Last 15 days"
                      ],
                      [
                        "1CQS440AAM0140329",
                        "CIARAMA MAQUINAS LTDA",
                        "3/5/2023",
                        "449.05",
                        "16 to 60 days"
                      ],
                      [
                        "1CQS440ACJ0125122",
                        "CIARAMA MAQUINAS LTDA",
                        "4/23/2023",
                        "3123.2",
                        "Last 15 days"
                      ],
                      [
                        "1CQS440ACK0130233",
                        "CIARAMA MAQUINAS LTDA",
                        "2/18/2022",
                        "667.55",
                        "365+ days"
                      ],
                      [
                        "1CQS440AEM0135359",
                        "CIARAMA MAQUINAS LTDA",
                        "3/30/2021",
                        "4.5",
                        "365+ days"
                      ],
                      [
                        "1CQS440AEM0135393",
                        "CIARAMA MAQUINAS LTDA",
                        "3/26/2023",
                        "507.85",
                        "16 to 60 days"
                      ],
                      [
                        "1CQS440AHM0140303",
                        "CIARAMA MAQUINAS LTDA",
                        "4/24/2023",
                        "640.3",
                        "Last 15 days"
                      ],
                      [
                        "1CQS440AHN0145292",
                        "CIARAMA MAQUINAS LTDA",
                        "4/23/2023",
                        "101.7",
                        "Last 15 days"
                      ],
                      [
                        "1CQS440AHN0145325",
                        "CIARAMA MAQUINAS LTDA",
                        "4/23/2023",
                        "403.25",
                        "Last 15 days"
                      ],
                      [
                        "1CQS440AJM0135255",
                        "CIARAMA MAQUINAS LTDA",
                        "4/17/2023",
                        "823.75",
                        "Last 15 days"
                      ],
                      [
                        "1CQS440AJM0135286",
                        "CIARAMA MAQUINAS LTDA",
                        "2/9/2022",
                        "412.3",
                        "365+ days"
                      ],
                      [
                        "1CQS440AJM0140195",
                        "CIARAMA MAQUINAS LTDA",
                        "4/4/2023",
                        "543.9",
                        "16 to 60 days"
                      ],
                      [
                        "1CQS440AKK0130231",
                        "CIARAMA MAQUINAS LTDA",
                        "3/29/2023",
                        "1507.1",
                        "16 to 60 days"
                      ],
                      [
                        "1CQS440AKM0140227",
                        "CIARAMA MAQUINAS LTDA",
                        "1/11/2023",
                        "153.0",
                        "61 to 365 days"
                      ],
                      [
                        "1CQS440AKN0140388",
                        "CIARAMA MAQUINAS LTDA",
                        "1/25/2023",
                        "9.0",
                        "61 to 365 days"
                      ],
                      [
                        "1CQS440AKN0140486",
                        "CIARAMA MAQUINAS LTDA",
                        "2/9/2023",
                        "7.55",
                        "61 to 365 days"
                      ],
                      [
                        "1CQS440AKP0145612",
                        "CIARAMA MAQUINAS LTDA",
                        "4/20/2023",
                        "2.7",
                        "Last 15 days"
                      ],
                      [
                        "1CQS440ALM0140199",
                        "CIARAMA MAQUINAS LTDA",
                        "4/7/2022",
                        "151.9",
                        "365+ days"
                      ],
                      [
                        "1CQS440ATK0130212",
                        "CIARAMA MAQUINAS LTDA",
                        "3/2/2022",
                        "459.15",
                        "365+ days"
                      ],
                      [
                        "1CQS440ATP0145607",
                        "CIARAMA MAQUINAS LTDA",
                        "4/20/2023",
                        "2.5",
                        "Last 15 days"
                      ],
                      [
                        "1CQS440AVL0135192",
                        "CIARAMA MAQUINAS LTDA",
                        "10/7/2021",
                        "",
                        "365+ days"
                      ],
                      [
                        "1CQS440AVN0145207",
                        "CIARAMA MAQUINAS LTDA",
                        "4/16/2023",
                        "305.8",
                        "Last 15 days"
                      ],
                      [
                        "1CQS440AVN0145272",
                        "CIARAMA MAQUINAS LTDA",
                        "3/24/2023",
                        "168.2",
                        "16 to 60 days"
                      ],
                      [
                        "1CQS550AAK0130142",
                        "CIARAMA MAQUINAS LTDA",
                        "4/22/2023",
                        "1488.0",
                        "Last 15 days"
                      ],
                      [
                        "1CQS550AAK0130321",
                        "CIARAMA MAQUINAS LTDA",
                        "4/21/2023",
                        "1001.7",
                        "Last 15 days"
                      ],
                      [
                        "1CQS550AAM0135487",
                        "CIARAMA MAQUINAS LTDA",
                        "4/4/2023",
                        "861.65",
                        "16 to 60 days"
                      ],
                      [
                        "1CQS550AAM0135599",
                        "CIARAMA MAQUINAS LTDA",
                        "3/23/2023",
                        "964.85",
                        "16 to 60 days"
                      ],
                      [
                        "1CQS550AAM0140298",
                        "CIARAMA MAQUINAS LTDA",
                        "4/20/2023",
                        "993.6",
                        "Last 15 days"
                      ],
                      [
                        "1CQS550AAM0140320",
                        "CIARAMA MAQUINAS LTDA",
                        "4/11/2023",
                        "570.3",
                        "Last 15 days"
                      ],
                      [
                        "1CQS550AAN0140867",
                        "CIARAMA MAQUINAS LTDA",
                        "4/16/2023",
                        "380.25",
                        "Last 15 days"
                      ],
                      [
                        "1CQS550AAN0145275",
                        "CIARAMA MAQUINAS LTDA",
                        "4/22/2023",
                        "142.3",
                        "Last 15 days"
                      ],
                      [
                        "1CQS550ACH0120149",
                        "CIARAMA MAQUINAS LTDA",
                        "9/21/2022",
                        "1193.15",
                        "61 to 365 days"
                      ],
                      [
                        "1CQS550ACH0120331",
                        "CIARAMA MAQUINAS LTDA",
                        "2/19/2022",
                        "2429.05",
                        "365+ days"
                      ],
                      [
                        "1CQS550ACJ0120528",
                        "CIARAMA MAQUINAS LTDA",
                        "9/4/2022",
                        "1057.2",
                        "61 to 365 days"
                      ],
                      [
                        "1CQS550ACJ0125454",
                        "CIARAMA MAQUINAS LTDA",
                        "7/21/2020",
                        "780.05",
                        "365+ days"
                      ],
                      [
                        "1CQS550ACK0130106",
                        "CIARAMA MAQUINAS LTDA",
                        "4/24/2023",
                        "1950.15",
                        "Last 15 days"
                      ],
                      [
                        "1CQS550ACK0130146",
                        "CIARAMA MAQUINAS LTDA",
                        "4/24/2023",
                        "2347.3",
                        "Last 15 days"
                      ],
                      [
                        "1CQS550ACK0130154",
                        "CIARAMA MAQUINAS LTDA",
                        "4/24/2023",
                        "1987.65",
                        "Last 15 days"
                      ],
                      [
                        "1CQS550ACL0135338",
                        "CIARAMA MAQUINAS LTDA",
                        "4/24/2023",
                        "1165.45",
                        "Last 15 days"
                      ],
                      [
                        "1CQS550ACM0135561",
                        "CIARAMA MAQUINAS LTDA",
                        "3/16/2021",
                        "57.65",
                        "365+ days"
                      ],
                      [
                        "1CQS550ACM0140122",
                        "CIARAMA MAQUINAS LTDA",
                        "8/9/2021",
                        "",
                        "365+ days"
                      ],
                      [
                        "1CQS550ACM0140377",
                        "CIARAMA MAQUINAS LTDA",
                        "4/3/2023",
                        "968.9",
                        "16 to 60 days"
                      ],
                      [
                        "1CQS550ACM0140394",
                        "CIARAMA MAQUINAS LTDA",
                        "3/31/2023",
                        "417.7",
                        "16 to 60 days"
                      ],
                      [
                        "1CQS550ACM0140436",
                        "CIARAMA MAQUINAS LTDA",
                        "1/15/2022",
                        "7.3",
                        "365+ days"
                      ],
                      [
                        "1CQS550ACM0140565",
                        "CIARAMA MAQUINAS LTDA",
                        "4/5/2022",
                        "7.65",
                        "365+ days"
                      ],
                      [
                        "1CQS550ACM0140596",
                        "CIARAMA MAQUINAS LTDA",
                        "4/21/2023",
                        "1047.8",
                        "Last 15 days"
                      ],
                      [
                        "1CQS550ACN0140719",
                        "CIARAMA MAQUINAS LTDA",
                        "4/23/2023",
                        "624.9",
                        "Last 15 days"
                      ],
                      [
                        "1CQS550ACN0140834",
                        "CIARAMA MAQUINAS LTDA",
                        "4/21/2023",
                        "726.2",
                        "Last 15 days"
                      ],
                      [
                        "1CQS550ACN0145368",
                        "CIARAMA MAQUINAS LTDA",
                        "3/27/2023",
                        "118.55",
                        "16 to 60 days"
                      ],
                      [
                        "1CQS550ACN0145645",
                        "CIARAMA MAQUINAS LTDA",
                        "4/19/2023",
                        "266.0",
                        "Last 15 days"
                      ],
                      [
                        "1CQS550ACP0145690",
                        "CIARAMA MAQUINAS LTDA",
                        "4/18/2023",
                        "260.65",
                        "Last 15 days"
                      ],
                      [
                        "1CQS550AEJ0120505",
                        "CIARAMA MAQUINAS LTDA",
                        "5/2/2022",
                        "2446.3",
                        "61 to 365 days"
                      ],
                      [
                        "1CQS550AEL0135301",
                        "CIARAMA MAQUINAS LTDA",
                        "4/24/2023",
                        "2127.0",
                        "Last 15 days"
                      ],
                      [
                        "1CQS550AEM0135459",
                        "CIARAMA MAQUINAS LTDA",
                        "5/24/2021",
                        "278.35",
                        "365+ days"
                      ],
                      [
                        "1CQS550AEM0140225",
                        "CIARAMA MAQUINAS LTDA",
                        "4/24/2023",
                        "612.4",
                        "Last 15 days"
                      ],
                      [
                        "1CQS550AEM0140399",
                        "CIARAMA MAQUINAS LTDA",
                        "4/21/2023",
                        "1219.2",
                        "Last 15 days"
                      ],
                      [
                        "1CQS550AEN0145507",
                        "CIARAMA MAQUINAS LTDA",
                        "3/29/2023",
                        "131.25",
                        "16 to 60 days"
                      ],
                      [
                        "1CQS550AEN0145605",
                        "CIARAMA MAQUINAS LTDA",
                        "3/17/2023",
                        "114.25",
                        "16 to 60 days"
                      ],
                      [
                        "1CQS550AHJ0120518",
                        "CIARAMA MAQUINAS LTDA",
                        "2/20/2022",
                        "2837.85",
                        "365+ days"
                      ],
                      [
                        "1CQS550AHJ0125251",
                        "CIARAMA MAQUINAS LTDA",
                        "4/19/2023",
                        "3860.45",
                        "Last 15 days"
                      ],
                      [
                        "1CQS550AHL0130355",
                        "CIARAMA MAQUINAS LTDA",
                        "8/12/2020",
                        "6.85",
                        "365+ days"
                      ],
                      [
                        "1CQS550AHL0135264",
                        "CIARAMA MAQUINAS LTDA",
                        "4/22/2023",
                        "1375.5",
                        "Last 15 days"
                      ],
                      [
                        "1CQS550AHM0135461",
                        "CIARAMA MAQUINAS LTDA",
                        "4/11/2023",
                        "473.3",
                        "Last 15 days"
                      ],
                      [
                        "1CQS550AHM0140479",
                        "CIARAMA MAQUINAS LTDA",
                        "3/16/2023",
                        "837.8",
                        "16 to 60 days"
                      ],
                      [
                        "1CQS550AHN0140726",
                        "CIARAMA MAQUINAS LTDA",
                        "4/24/2023",
                        "921.85",
                        "Last 15 days"
                      ],
                      [
                        "1CQS550AHN0145490",
                        "CIARAMA MAQUINAS LTDA",
                        "4/17/2023",
                        "220.9",
                        "Last 15 days"
                      ],
                      [
                        "1CQS550AHP0145699",
                        "CIARAMA MAQUINAS LTDA",
                        "4/19/2023",
                        "37.1",
                        "Last 15 days"
                      ],
                      [
                        "1CQS550AJF0090212",
                        "CIARAMA MAQUINAS LTDA",
                        "3/27/2023",
                        "0.0",
                        "16 to 60 days"
                      ],
                      [
                        "1CQS550AJJ0120513",
                        "CIARAMA MAQUINAS LTDA",
                        "2/25/2023",
                        "",
                        "16 to 60 days"
                      ],
                      [
                        "1CQS550AJJ0125114",
                        "CIARAMA MAQUINAS LTDA",
                        "4/10/2023",
                        "1765.2",
                        "Last 15 days"
                      ],
                      [
                        "1CQS550AJJ0125467",
                        "CIARAMA MAQUINAS LTDA",
                        "3/24/2023",
                        "1869.0",
                        "16 to 60 days"
                      ],
                      [
                        "1CQS550AJK0130329",
                        "CIARAMA MAQUINAS LTDA",
                        "4/17/2023",
                        "1299.45",
                        "Last 15 days"
                      ],
                      [
                        "1CQS550AJL0135421",
                        "CIARAMA MAQUINAS LTDA",
                        "3/29/2023",
                        "1839.05",
                        "16 to 60 days"
                      ],
                      [
                        "1CQS550AJM0135484",
                        "CIARAMA MAQUINAS LTDA",
                        "3/13/2023",
                        "1049.8",
                        "16 to 60 days"
                      ],
                      [
                        "1CQS550AJN0140864",
                        "CIARAMA MAQUINAS LTDA",
                        "4/11/2023",
                        "386.95",
                        "Last 15 days"
                      ],
                      [
                        "1CQS550AJN0140878",
                        "CIARAMA MAQUINAS LTDA",
                        "3/6/2023",
                        "138.3",
                        "16 to 60 days"
                      ],
                      [
                        "1CQS550AJN0145174",
                        "CIARAMA MAQUINAS LTDA",
                        "4/19/2023",
                        "201.2",
                        "Last 15 days"
                      ],
                      [
                        "1CQS550AJN0145269",
                        "CIARAMA MAQUINAS LTDA",
                        "3/3/2023",
                        "5.75",
                        "16 to 60 days"
                      ],
                      [
                        "1CQS550AKL0135305",
                        "CIARAMA MAQUINAS LTDA",
                        "6/25/2022",
                        "",
                        "61 to 365 days"
                      ],
                      [
                        "1CQS550AKL0135367",
                        "CIARAMA MAQUINAS LTDA",
                        "4/24/2023",
                        "1001.65",
                        "Last 15 days"
                      ],
                      [
                        "1CQS550AKM0135466",
                        "CIARAMA MAQUINAS LTDA",
                        "4/21/2023",
                        "1396.25",
                        "Last 15 days"
                      ],
                      [
                        "1CQS550AKM0135502",
                        "CIARAMA MAQUINAS LTDA",
                        "4/24/2023",
                        "1745.3",
                        "Last 15 days"
                      ],
                      [
                        "1CQS550AKN0145285",
                        "CIARAMA MAQUINAS LTDA",
                        "4/16/2023",
                        "284.25",
                        "Last 15 days"
                      ],
                      [
                        "1CQS550AKN0145643",
                        "CIARAMA MAQUINAS LTDA",
                        "4/3/2023",
                        "228.1",
                        "16 to 60 days"
                      ],
                      [
                        "1CQS550AKP0145824",
                        "CIARAMA MAQUINAS LTDA",
                        "4/6/2023",
                        "122.2",
                        "16 to 60 days"
                      ],
                      [
                        "1CQS550ALE0090022",
                        "CIARAMA MAQUINAS LTDA",
                        "7/20/2021",
                        "",
                        "365+ days"
                      ],
                      [
                        "1CQS550ALJ0120498",
                        "CIARAMA MAQUINAS LTDA",
                        "4/6/2022",
                        "2153.8",
                        "365+ days"
                      ],
                      [
                        "1CQS550ALJ0125359",
                        "CIARAMA MAQUINAS LTDA",
                        "4/24/2023",
                        "1652.55",
                        "Last 15 days"
                      ],
                      [
                        "1CQS550ALJ0125412",
                        "CIARAMA MAQUINAS LTDA",
                        "3/12/2023",
                        "2099.2",
                        "16 to 60 days"
                      ],
                      [
                        "1CQS550ALK0130272",
                        "CIARAMA MAQUINAS LTDA",
                        "3/21/2023",
                        "1631.45",
                        "16 to 60 days"
                      ],
                      [
                        "1CQS550ALK0130319",
                        "CIARAMA MAQUINAS LTDA",
                        "4/22/2023",
                        "1935.05",
                        "Last 15 days"
                      ],
                      [
                        "1CQS550ALK0130322",
                        "CIARAMA MAQUINAS LTDA",
                        "3/28/2020",
                        "5.95",
                        "365+ days"
                      ],
                      [
                        "1CQS550ALL0135229",
                        "CIARAMA MAQUINAS LTDA",
                        "4/20/2023",
                        "770.3",
                        "Last 15 days"
                      ],
                      [
                        "1CQS550ALM0135698",
                        "CIARAMA MAQUINAS LTDA",
                        "3/31/2023",
                        "400.45",
                        "16 to 60 days"
                      ],
                      [
                        "1CQS550ALM0140108",
                        "CIARAMA MAQUINAS LTDA",
                        "4/21/2023",
                        "928.95",
                        "Last 15 days"
                      ],
                      [
                        "1CQS550ALN0145102",
                        "CIARAMA MAQUINAS LTDA",
                        "4/9/2023",
                        "231.7",
                        "Last 15 days"
                      ],
                      [
                        "1CQS550ALN0145276",
                        "CIARAMA MAQUINAS LTDA",
                        "4/12/2023",
                        "414.7",
                        "Last 15 days"
                      ],
                      [
                        "1CQS550ALN0145438",
                        "CIARAMA MAQUINAS LTDA",
                        "3/28/2023",
                        "293.3",
                        "16 to 60 days"
                      ],
                      [
                        "1CQS550APK0125550",
                        "CIARAMA MAQUINAS LTDA",
                        "4/21/2023",
                        "1136.15",
                        "Last 15 days"
                      ],
                      [
                        "1CQS550APK0130148",
                        "CIARAMA MAQUINAS LTDA",
                        "3/28/2023",
                        "1370.8",
                        "16 to 60 days"
                      ],
                      [
                        "1CQS550APL0135335",
                        "CIARAMA MAQUINAS LTDA",
                        "3/23/2023",
                        "1795.8",
                        "16 to 60 days"
                      ],
                      [
                        "1CQS550APM0135529",
                        "CIARAMA MAQUINAS LTDA",
                        "8/25/2022",
                        "1073.2",
                        "61 to 365 days"
                      ],
                      [
                        "1CQS550APN0140778",
                        "CIARAMA MAQUINAS LTDA",
                        "4/20/2023",
                        "463.5",
                        "Last 15 days"
                      ],
                      [
                        "1CQS550APP0145756",
                        "CIARAMA MAQUINAS LTDA",
                        "4/17/2023",
                        "4.0",
                        "Last 15 days"
                      ],
                      [
                        "1CQS550ATH0120131",
                        "CIARAMA MAQUINAS LTDA",
                        "3/17/2022",
                        "1331.5",
                        "365+ days"
                      ],
                      [
                        "1CQS550ATK0125594",
                        "CIARAMA MAQUINAS LTDA",
                        "3/31/2023",
                        "2373.9",
                        "16 to 60 days"
                      ],
                      [
                        "1CQS550ATM0135612",
                        "CIARAMA MAQUINAS LTDA",
                        "4/20/2023",
                        "1218.25",
                        "Last 15 days"
                      ],
                      [
                        "1CQS550ATN0140648",
                        "CIARAMA MAQUINAS LTDA",
                        "3/31/2023",
                        "1020.4",
                        "16 to 60 days"
                      ],
                      [
                        "1CQS550ATP0145786",
                        "CIARAMA MAQUINAS LTDA",
                        "3/31/2023",
                        "4.6",
                        "16 to 60 days"
                      ],
                      [
                        "1CQS550ATP0145867",
                        "CIARAMA MAQUINAS LTDA",
                        "4/21/2023",
                        "3.5",
                        "Last 15 days"
                      ],
                      [
                        "1CQS550AVH0120153",
                        "CIARAMA MAQUINAS LTDA",
                        "9/26/2019",
                        "",
                        "365+ days"
                      ],
                      [
                        "1CQS550AVH0120217",
                        "CIARAMA MAQUINAS LTDA",
                        "7/30/2022",
                        "2530.05",
                        "61 to 365 days"
                      ],
                      [
                        "1CQS550AVJ0125357",
                        "CIARAMA MAQUINAS LTDA",
                        "3/22/2023",
                        "1886.2",
                        "16 to 60 days"
                      ],
                      [
                        "1CQS550AVJ0125455",
                        "CIARAMA MAQUINAS LTDA",
                        "3/19/2023",
                        "3356.9",
                        "16 to 60 days"
                      ],
                      [
                        "1CQS550AVJ0125469",
                        "CIARAMA MAQUINAS LTDA",
                        "4/6/2023",
                        "2811.2",
                        "16 to 60 days"
                      ],
                      [
                        "1CQS550AVK0130317",
                        "CIARAMA MAQUINAS LTDA",
                        "8/8/2020",
                        "3.4",
                        "365+ days"
                      ],
                      [
                        "1CQS550AVM0135665",
                        "CIARAMA MAQUINAS LTDA",
                        "4/11/2023",
                        "1627.25",
                        "Last 15 days"
                      ],
                      [
                        "1CQS550AVN0140866",
                        "CIARAMA MAQUINAS LTDA",
                        "4/23/2023",
                        "229.05",
                        "Last 15 days"
                      ],
                      [
                        "1CQS550AVN0145338",
                        "CIARAMA MAQUINAS LTDA",
                        "4/7/2023",
                        "297.65",
                        "16 to 60 days"
                      ],
                      [
                        "1CQS550AVN0145596",
                        "CIARAMA MAQUINAS LTDA",
                        "4/20/2023",
                        "204.65",
                        "Last 15 days"
                      ],
                      [
                        "1CQS660ACE0090312",
                        "CIARAMA MAQUINAS LTDA",
                        "4/19/2023",
                        "5783.2",
                        "Last 15 days"
                      ],
                      [
                        "1CQS660ACJ0120542",
                        "CIARAMA MAQUINAS LTDA",
                        "4/24/2023",
                        "4661.9",
                        "Last 15 days"
                      ],
                      [
                        "1CQS660ACJ0125280",
                        "CIARAMA MAQUINAS LTDA",
                        "3/31/2020",
                        "1018.35",
                        "365+ days"
                      ],
                      [
                        "1CQS660ACJ0125313",
                        "CIARAMA MAQUINAS LTDA",
                        "4/21/2023",
                        "2978.2",
                        "Last 15 days"
                      ],
                      [
                        "1CQS660ACK0125578",
                        "CIARAMA MAQUINAS LTDA",
                        "4/1/2023",
                        "2058.95",
                        "16 to 60 days"
                      ],
                      [
                        "1CQS660ACK0125628",
                        "CIARAMA MAQUINAS LTDA",
                        "3/23/2023",
                        "1318.35",
                        "16 to 60 days"
                      ],
                      [
                        "1CQS660AEK0125515",
                        "CIARAMA MAQUINAS LTDA",
                        "4/7/2023",
                        "1540.45",
                        "16 to 60 days"
                      ],
                      [
                        "1CQS660AJJ0120546",
                        "CIARAMA MAQUINAS LTDA",
                        "2/6/2023",
                        "2021.85",
                        "61 to 365 days"
                      ],
                      [
                        "1CQS660ALE0090122",
                        "CIARAMA MAQUINAS LTDA",
                        "4/24/2023",
                        "5801.2",
                        "Last 15 days"
                      ],
                      [
                        "1CQS660ALH0120255",
                        "CIARAMA MAQUINAS LTDA",
                        "4/17/2019",
                        "",
                        "365+ days"
                      ],
                      [
                        "1CQS660ALJ0120522",
                        "CIARAMA MAQUINAS LTDA",
                        "6/12/2020",
                        "516.05",
                        "365+ days"
                      ],
                      [
                        "1CQS660ALJ0120536",
                        "CIARAMA MAQUINAS LTDA",
                        "3/13/2021",
                        "",
                        "365+ days"
                      ],
                      [
                        "1CQS660APJ0125307",
                        "CIARAMA MAQUINAS LTDA",
                        "4/13/2023",
                        "2379.2",
                        "Last 15 days"
                      ],
                      [
                        "1CQS660APJ0125419",
                        "CIARAMA MAQUINAS LTDA",
                        "8/11/2021",
                        "736.55",
                        "365+ days"
                      ],
                      [
                        "1CQS660ATJ0125368",
                        "CIARAMA MAQUINAS LTDA",
                        "4/9/2021",
                        "",
                        "365+ days"
                      ],
                      [
                        "1CQS660ATJ0125502",
                        "CIARAMA MAQUINAS LTDA",
                        "4/2/2023",
                        "2159.2",
                        "16 to 60 days"
                      ],
                      [
                        "1CQS660AVJ0125443",
                        "CIARAMA MAQUINAS LTDA",
                        "8/28/2020",
                        "642.5",
                        "365+ days"
                      ],
                      [
                        "1CQS660AVJ0125460",
                        "CIARAMA MAQUINAS LTDA",
                        "7/21/2021",
                        "530.15",
                        "365+ days"
                      ],
                      [
                        "1CQS670AAE0090058",
                        "CIARAMA MAQUINAS LTDA",
                        "8/16/2022",
                        "0.0",
                        "61 to 365 days"
                      ],
                      [
                        "1CQS670AAH0120356",
                        "CIARAMA MAQUINAS LTDA",
                        "9/27/2021",
                        "1629.5",
                        "365+ days"
                      ],
                      [
                        "1CQS670AAJ0120508",
                        "CIARAMA MAQUINAS LTDA",
                        "4/20/2023",
                        "2321.0",
                        "Last 15 days"
                      ],
                      [
                        "1CQS670AAK0125533",
                        "CIARAMA MAQUINAS LTDA",
                        "4/21/2023",
                        "1556.55",
                        "Last 15 days"
                      ],
                      [
                        "1CQS670ACH0120371",
                        "CIARAMA MAQUINAS LTDA",
                        "4/24/2023",
                        "3046.75",
                        "Last 15 days"
                      ],
                      [
                        "1CQS670ACJ0125388",
                        "CIARAMA MAQUINAS LTDA",
                        "4/24/2023",
                        "1827.55",
                        "Last 15 days"
                      ],
                      [
                        "1CQS670ACJ0125396",
                        "CIARAMA MAQUINAS LTDA",
                        "3/23/2023",
                        "3364.6",
                        "16 to 60 days"
                      ],
                      [
                        "1CQS670ACJ0125432",
                        "CIARAMA MAQUINAS LTDA",
                        "8/12/2021",
                        "1455.95",
                        "365+ days"
                      ],
                      [
                        "1CQS670ACJ0125477",
                        "CIARAMA MAQUINAS LTDA",
                        "2/18/2023",
                        "2485.75",
                        "61 to 365 days"
                      ],
                      [
                        "1CQS670ACK0125562",
                        "CIARAMA MAQUINAS LTDA",
                        "4/6/2023",
                        "2133.05",
                        "16 to 60 days"
                      ],
                      [
                        "1CQS670AEH0120247",
                        "CIARAMA MAQUINAS LTDA",
                        "7/12/2022",
                        "2824.95",
                        "61 to 365 days"
                      ],
                      [
                        "1CQS670AEH0120359",
                        "CIARAMA MAQUINAS LTDA",
                        "7/15/2022",
                        "2225.65",
                        "61 to 365 days"
                      ],
                      [
                        "1CQS670AEJ0125227",
                        "CIARAMA MAQUINAS LTDA",
                        "11/7/2021",
                        "963.7",
                        "365+ days"
                      ],
                      [
                        "1CQS670AEJ0125387",
                        "CIARAMA MAQUINAS LTDA",
                        "4/24/2023",
                        "1540.9",
                        "Last 15 days"
                      ],
                      [
                        "1CQS670AHH0120215",
                        "CIARAMA MAQUINAS LTDA",
                        "9/5/2022",
                        "726.35",
                        "61 to 365 days"
                      ],
                      [
                        "1CQS670AHJ0120494",
                        "CIARAMA MAQUINAS LTDA",
                        "10/4/2022",
                        "1867.3",
                        "61 to 365 days"
                      ],
                      [
                        "1CQS670AHJ0125310",
                        "CIARAMA MAQUINAS LTDA",
                        "3/24/2023",
                        "2211.55",
                        "16 to 60 days"
                      ],
                      [
                        "1CQS670AHJ0125484",
                        "CIARAMA MAQUINAS LTDA",
                        "4/21/2023",
                        "2245.6",
                        "Last 15 days"
                      ],
                      [
                        "1CQS670AJE0090069",
                        "CIARAMA MAQUINAS LTDA",
                        "4/24/2023",
                        "2524.6",
                        "Last 15 days"
                      ],
                      [
                        "1CQS670AJJ0125395",
                        "CIARAMA MAQUINAS LTDA",
                        "10/14/2021",
                        "1437.55",
                        "365+ days"
                      ],
                      [
                        "1CQS670AJK0125513",
                        "CIARAMA MAQUINAS LTDA",
                        "4/18/2023",
                        "1634.0",
                        "Last 15 days"
                      ],
                      [
                        "1CQS670AKJ0125105",
                        "CIARAMA MAQUINAS LTDA",
                        "2/6/2023",
                        "1691.8",
                        "61 to 365 days"
                      ],
                      [
                        "1CQS670AKJ0125394",
                        "CIARAMA MAQUINAS LTDA",
                        "4/22/2023",
                        "3429.5",
                        "Last 15 days"
                      ],
                      [
                        "1CQS670AKK0125655",
                        "CIARAMA MAQUINAS LTDA",
                        "3/18/2023",
                        "1624.0",
                        "16 to 60 days"
                      ],
                      [
                        "1CQS670ALH0120357",
                        "CIARAMA MAQUINAS LTDA",
                        "5/24/2022",
                        "2094.3",
                        "61 to 365 days"
                      ],
                      [
                        "1CQS670ALJ0120509",
                        "CIARAMA MAQUINAS LTDA",
                        "4/4/2019",
                        "199.8",
                        "365+ days"
                      ],
                      [
                        "1CQS670ALJ0125144",
                        "CIARAMA MAQUINAS LTDA",
                        "4/24/2023",
                        "2214.25",
                        "Last 15 days"
                      ],
                      [
                        "1CQS670ALJ0125385",
                        "CIARAMA MAQUINAS LTDA",
                        "3/22/2023",
                        "1307.7",
                        "16 to 60 days"
                      ],
                      [
                        "1CQS670ALJ0125497",
                        "CIARAMA MAQUINAS LTDA",
                        "7/23/2022",
                        "334.5",
                        "61 to 365 days"
                      ],
                      [
                        "1CQS670APE0090313",
                        "CIARAMA MAQUINAS LTDA",
                        "3/19/2023",
                        "4588.55",
                        "16 to 60 days"
                      ],
                      [
                        "1CQS670APJ0120498",
                        "CIARAMA MAQUINAS LTDA",
                        "7/6/2022",
                        "2835.7",
                        "61 to 365 days"
                      ],
                      [
                        "1CQS670APK0125511",
                        "CIARAMA MAQUINAS LTDA",
                        "7/7/2022",
                        "",
                        "61 to 365 days"
                      ],
                      [
                        "1CQS670APK0125654",
                        "CIARAMA MAQUINAS LTDA",
                        "4/24/2023",
                        "1804.8",
                        "Last 15 days"
                      ],
                      [
                        "1CQS670ATH0120378",
                        "CIARAMA MAQUINAS LTDA",
                        "3/19/2020",
                        "",
                        "365+ days"
                      ],
                      [
                        "1CQS670ATJ0125487",
                        "CIARAMA MAQUINAS LTDA",
                        "6/11/2020",
                        "",
                        "365+ days"
                      ],
                      [
                        "1CQS670AVJ0120510",
                        "CIARAMA MAQUINAS LTDA",
                        "6/24/2022",
                        "2770.4",
                        "61 to 365 days"
                      ],
                      [
                        "1CQS670AVJ0125223",
                        "CIARAMA MAQUINAS LTDA",
                        "3/30/2023",
                        "1007.75",
                        "16 to 60 days"
                      ],
                      [
                        "1CQS680ACH0120182",
                        "CIARAMA MAQUINAS LTDA",
                        "2/22/2022",
                        "1737.8",
                        "365+ days"
                      ],
                      [
                        "1CQS690ACJ0125161",
                        "CIARAMA MAQUINAS LTDA",
                        "4/24/2023",
                        "2378.85",
                        "Last 15 days"
                      ],
                      [
                        "1CQS690ACJ0125166",
                        "CIARAMA MAQUINAS LTDA",
                        "4/21/2023",
                        "2328.1",
                        "Last 15 days"
                      ],
                      [
                        "1CQS690AEJ0125160",
                        "CIARAMA MAQUINAS LTDA",
                        "4/24/2023",
                        "2056.2",
                        "Last 15 days"
                      ],
                      [
                        "1CQS690AJJ0125165",
                        "CIARAMA MAQUINAS LTDA",
                        "8/27/2020",
                        "947.95",
                        "365+ days"
                      ],
                      [
                        "1CQS760AAM0135571",
                        "CIARAMA MAQUINAS LTDA",
                        "8/8/2021",
                        "",
                        "365+ days"
                      ],
                      [
                        "1CQS760AAP0145523",
                        "CIARAMA MAQUINAS LTDA",
                        "4/24/2023",
                        "51.55",
                        "Last 15 days"
                      ],
                      [
                        "1CQS760ACL0135159",
                        "CIARAMA MAQUINAS LTDA",
                        "4/24/2023",
                        "1573.85",
                        "Last 15 days"
                      ],
                      [
                        "1CQS760ACN0140459",
                        "CIARAMA MAQUINAS LTDA",
                        "3/29/2023",
                        "552.4",
                        "16 to 60 days"
                      ],
                      [
                        "1CQS760ACN0145208",
                        "CIARAMA MAQUINAS LTDA",
                        "4/6/2023",
                        "417.95",
                        "16 to 60 days"
                      ],
                      [
                        "1CQS760ACN0145340",
                        "CIARAMA MAQUINAS LTDA",
                        "3/13/2023",
                        "152.0",
                        "16 to 60 days"
                      ],
                      [
                        "1CQS760AEK0130372",
                        "CIARAMA MAQUINAS LTDA",
                        "3/21/2023",
                        "1463.65",
                        "16 to 60 days"
                      ],
                      [
                        "1CQS760AEL0130406",
                        "CIARAMA MAQUINAS LTDA",
                        "2/23/2023",
                        "1755.45",
                        "16 to 60 days"
                      ],
                      [
                        "1CQS760AEM0140192",
                        "CIARAMA MAQUINAS LTDA",
                        "4/24/2023",
                        "1217.95",
                        "Last 15 days"
                      ],
                      [
                        "1CQS760AEN0145362",
                        "CIARAMA MAQUINAS LTDA",
                        "3/29/2023",
                        "163.45",
                        "16 to 60 days"
                      ],
                      [
                        "1CQS760AHM0135461",
                        "CIARAMA MAQUINAS LTDA",
                        "11/8/2021",
                        "519.7",
                        "365+ days"
                      ],
                      [
                        "1CQS760AHM0135590",
                        "CIARAMA MAQUINAS LTDA",
                        "3/25/2023",
                        "6.45",
                        "16 to 60 days"
                      ],
                      [
                        "1CQS760AHN0145134",
                        "CIARAMA MAQUINAS LTDA",
                        "2/1/2023",
                        "50.0",
                        "61 to 365 days"
                      ],
                      [
                        "1CQS760AHN0145280",
                        "CIARAMA MAQUINAS LTDA",
                        "3/17/2023",
                        "233.15",
                        "16 to 60 days"
                      ],
                      [
                        "1CQS760AJK0130363",
                        "CIARAMA MAQUINAS LTDA",
                        "4/24/2023",
                        "1472.15",
                        "Last 15 days"
                      ],
                      [
                        "1CQS760AJL0135158",
                        "CIARAMA MAQUINAS LTDA",
                        "4/24/2023",
                        "928.85",
                        "Last 15 days"
                      ],
                      [
                        "1CQS760AJL0135242",
                        "CIARAMA MAQUINAS LTDA",
                        "3/9/2023",
                        "1355.85",
                        "16 to 60 days"
                      ],
                      [
                        "1CQS760AJM0135520",
                        "CIARAMA MAQUINAS LTDA",
                        "3/29/2021",
                        "3.5",
                        "365+ days"
                      ],
                      [
                        "1CQS760AJN0145370",
                        "CIARAMA MAQUINAS LTDA",
                        "4/22/2023",
                        "8.05",
                        "Last 15 days"
                      ],
                      [
                        "1CQS760AKK0130197",
                        "CIARAMA MAQUINAS LTDA",
                        "4/27/2021",
                        "964.6",
                        "365+ days"
                      ],
                      [
                        "1CQS760AKM0140408",
                        "CIARAMA MAQUINAS LTDA",
                        "3/12/2022",
                        "186.1",
                        "365+ days"
                      ],
                      [
                        "1CQS760AKN0145318",
                        "CIARAMA MAQUINAS LTDA",
                        "3/17/2023",
                        "111.1",
                        "16 to 60 days"
                      ],
                      [
                        "1CQS760ALK0130160",
                        "CIARAMA MAQUINAS LTDA",
                        "3/25/2023",
                        "1328.1",
                        "16 to 60 days"
                      ],
                      [
                        "1CQS760ALK0130188",
                        "CIARAMA MAQUINAS LTDA",
                        "4/21/2023",
                        "1138.75",
                        "Last 15 days"
                      ],
                      [
                        "1CQS760ALK0130367",
                        "CIARAMA MAQUINAS LTDA",
                        "4/24/2023",
                        "1188.9",
                        "Last 15 days"
                      ],
                      [
                        "1CQS760ALN0140630",
                        "CIARAMA MAQUINAS LTDA",
                        "3/24/2023",
                        "4.85",
                        "16 to 60 days"
                      ],
                      [
                        "1CQS760ALN0145195",
                        "CIARAMA MAQUINAS LTDA",
                        "4/19/2023",
                        "343.25",
                        "Last 15 days"
                      ],
                      [
                        "1CQS760APM0135448",
                        "CIARAMA MAQUINAS LTDA",
                        "3/20/2023",
                        "426.65",
                        "16 to 60 days"
                      ],
                      [
                        "1CQS760APM0135451",
                        "CIARAMA MAQUINAS LTDA",
                        "9/10/2021",
                        "172.1",
                        "365+ days"
                      ],
                      [
                        "1CQS760APM0140357",
                        "CIARAMA MAQUINAS LTDA",
                        "4/20/2023",
                        "344.5",
                        "Last 15 days"
                      ],
                      [
                        "1CQS760APN0145124",
                        "CIARAMA MAQUINAS LTDA",
                        "4/20/2023",
                        "323.45",
                        "Last 15 days"
                      ],
                      [
                        "1CQS760APN0145267",
                        "CIARAMA MAQUINAS LTDA",
                        "4/19/2023",
                        "199.3",
                        "Last 15 days"
                      ],
                      [
                        "1CQS760ATL0135236",
                        "CIARAMA MAQUINAS LTDA",
                        "4/20/2023",
                        "1071.45",
                        "Last 15 days"
                      ],
                      [
                        "1CQS760ATN0140617",
                        "CIARAMA MAQUINAS LTDA",
                        "4/24/2023",
                        "779.25",
                        "Last 15 days"
                      ],
                      [
                        "1CQS760ATP0145478",
                        "CIARAMA MAQUINAS LTDA",
                        "4/24/2023",
                        "110.5",
                        "Last 15 days"
                      ],
                      [
                        "1CQS760AVM0135391",
                        "CIARAMA MAQUINAS LTDA",
                        "4/21/2023",
                        "1644.95",
                        "Last 15 days"
                      ],
                      [
                        "1CQS760AVM0135438",
                        "CIARAMA MAQUINAS LTDA",
                        "4/4/2023",
                        "1389.55",
                        "16 to 60 days"
                      ],
                      [
                        "1CQS760AVM0135522",
                        "CIARAMA MAQUINAS LTDA",
                        "4/18/2023",
                        "952.7",
                        "Last 15 days"
                      ],
                      [
                        "1CQS760AVM0140297",
                        "CIARAMA MAQUINAS LTDA",
                        "4/24/2023",
                        "835.45",
                        "Last 15 days"
                      ],
                      [
                        "1CQS760AVM0140302",
                        "CIARAMA MAQUINAS LTDA",
                        "3/31/2023",
                        "600.55",
                        "16 to 60 days"
                      ],
                      [
                        "1CQS760AVN0145128",
                        "CIARAMA MAQUINAS LTDA",
                        "4/24/2023",
                        "882.5",
                        "Last 15 days"
                      ],
                      [
                        "1CQS760AVN0145159",
                        "CIARAMA MAQUINAS LTDA",
                        "9/3/2022",
                        "4.55",
                        "61 to 365 days"
                      ],
                      [
                        "1CQS760AVN0145162",
                        "CIARAMA MAQUINAS LTDA",
                        "3/26/2023",
                        "416.05",
                        "16 to 60 days"
                      ],
                      [
                        "1CQS760AVN0145209",
                        "CIARAMA MAQUINAS LTDA",
                        "8/29/2022",
                        "4.55",
                        "61 to 365 days"
                      ],
                      [
                        "1CQS770AAK0130227",
                        "CIARAMA MAQUINAS LTDA",
                        "7/5/2022",
                        "",
                        "61 to 365 days"
                      ],
                      [
                        "1CQS770AAL0135350",
                        "CIARAMA MAQUINAS LTDA",
                        "4/22/2023",
                        "981.45",
                        "Last 15 days"
                      ],
                      [
                        "1CQS770AAM0135446",
                        "CIARAMA MAQUINAS LTDA",
                        "3/24/2023",
                        "1615.0",
                        "16 to 60 days"
                      ],
                      [
                        "1CQS770AAM0140288",
                        "CIARAMA MAQUINAS LTDA",
                        "11/22/2021",
                        "5.4",
                        "365+ days"
                      ],
                      [
                        "1CQS770AAN0145699",
                        "CIARAMA MAQUINAS LTDA",
                        "3/27/2023",
                        "318.55",
                        "16 to 60 days"
                      ],
                      [
                        "1CQS770ACL0135113",
                        "CIARAMA MAQUINAS LTDA",
                        "4/24/2023",
                        "1695.4",
                        "Last 15 days"
                      ],
                      [
                        "1CQS770ACL0135144",
                        "CIARAMA MAQUINAS LTDA",
                        "1/13/2021",
                        "105.45",
                        "365+ days"
                      ],
                      [
                        "1CQS770ACL0135192",
                        "CIARAMA MAQUINAS LTDA",
                        "4/21/2023",
                        "1025.2",
                        "Last 15 days"
                      ],
                      [
                        "1CQS770ACM0135405",
                        "CIARAMA MAQUINAS LTDA",
                        "7/19/2021",
                        "261.55",
                        "365+ days"
                      ],
                      [
                        "1CQS770ACM0135419",
                        "CIARAMA MAQUINAS LTDA",
                        "4/23/2023",
                        "1183.95",
                        "Last 15 days"
                      ],
                      [
                        "1CQS770ACM0140286",
                        "CIARAMA MAQUINAS LTDA",
                        "4/23/2023",
                        "1001.7",
                        "Last 15 days"
                      ],
                      [
                        "1CQS770ACM0140507",
                        "CIARAMA MAQUINAS LTDA",
                        "4/24/2023",
                        "1268.65",
                        "Last 15 days"
                      ],
                      [
                        "1CQS770ACN0140550",
                        "CIARAMA MAQUINAS LTDA",
                        "3/12/2023",
                        "608.5",
                        "16 to 60 days"
                      ],
                      [
                        "1CQS770ACN0140606",
                        "CIARAMA MAQUINAS LTDA",
                        "4/24/2023",
                        "648.2",
                        "Last 15 days"
                      ],
                      [
                        "1CQS770ACN0140693",
                        "CIARAMA MAQUINAS LTDA",
                        "4/22/2023",
                        "462.9",
                        "Last 15 days"
                      ],
                      [
                        "1CQS770ACN0145201",
                        "CIARAMA MAQUINAS LTDA",
                        "3/21/2023",
                        "222.5",
                        "16 to 60 days"
                      ],
                      [
                        "1CQS770ACN0145375",
                        "CIARAMA MAQUINAS LTDA",
                        "4/17/2023",
                        "209.7",
                        "Last 15 days"
                      ],
                      [
                        "1CQS770ACN0145523",
                        "CIARAMA MAQUINAS LTDA",
                        "4/14/2023",
                        "204.95",
                        "Last 15 days"
                      ],
                      [
                        "1CQS770ACN0145675",
                        "CIARAMA MAQUINAS LTDA",
                        "3/10/2023",
                        "87.3",
                        "16 to 60 days"
                      ],
                      [
                        "1CQS770ACN0145702",
                        "CIARAMA MAQUINAS LTDA",
                        "4/12/2023",
                        "321.75",
                        "Last 15 days"
                      ],
                      [
                        "1CQS770ACP0145718",
                        "CIARAMA MAQUINAS LTDA",
                        "3/25/2023",
                        "316.65",
                        "16 to 60 days"
                      ],
                      [
                        "1CQS770ACP0145721",
                        "CIARAMA MAQUINAS LTDA",
                        "3/18/2023",
                        "244.15",
                        "16 to 60 days"
                      ],
                      [
                        "1CQS770AEK0130183",
                        "CIARAMA MAQUINAS LTDA",
                        "4/3/2023",
                        "1983.35",
                        "16 to 60 days"
                      ],
                      [
                        "1CQS770AEK0130362",
                        "CIARAMA MAQUINAS LTDA",
                        "4/22/2023",
                        "1203.25",
                        "Last 15 days"
                      ],
                      [
                        "1CQS770AEM0135421",
                        "CIARAMA MAQUINAS LTDA",
                        "12/10/2021",
                        "1336.65",
                        "365+ days"
                      ],
                      [
                        "1CQS770AEM0135502",
                        "CIARAMA MAQUINAS LTDA",
                        "3/8/2023",
                        "897.7",
                        "16 to 60 days"
                      ],
                      [
                        "1CQS770AEM0140442",
                        "CIARAMA MAQUINAS LTDA",
                        "8/12/2022",
                        "6.6",
                        "61 to 365 days"
                      ],
                      [
                        "1CQS770AEN0140734",
                        "CIARAMA MAQUINAS LTDA",
                        "3/13/2023",
                        "428.1",
                        "16 to 60 days"
                      ],
                      [
                        "1CQS770AHK0130232",
                        "CIARAMA MAQUINAS LTDA",
                        "4/20/2023",
                        "1383.15",
                        "Last 15 days"
                      ],
                      [
                        "1CQS770AHM0135420",
                        "CIARAMA MAQUINAS LTDA",
                        "4/19/2023",
                        "1122.65",
                        "Last 15 days"
                      ],
                      [
                        "1CQS770AHM0140293",
                        "CIARAMA MAQUINAS LTDA",
                        "4/15/2023",
                        "763.4",
                        "Last 15 days"
                      ],
                      [
                        "1CQS770AHP0145773",
                        "CIARAMA MAQUINAS LTDA",
                        "4/20/2023",
                        "4.0",
                        "Last 15 days"
                      ],
                      [
                        "1CQS770AJK0130112",
                        "CIARAMA MAQUINAS LTDA",
                        "4/22/2023",
                        "1929.2",
                        "Last 15 days"
                      ],
                      [
                        "1CQS770AJL0135134",
                        "CIARAMA MAQUINAS LTDA",
                        "4/19/2023",
                        "1104.4",
                        "Last 15 days"
                      ],
                      [
                        "1CQS770AJL0135201",
                        "CIARAMA MAQUINAS LTDA",
                        "3/21/2023",
                        "1663.45",
                        "16 to 60 days"
                      ],
                      [
                        "1CQS770AJM0135569",
                        "CIARAMA MAQUINAS LTDA",
                        "4/17/2023",
                        "572.6",
                        "Last 15 days"
                      ],
                      [
                        "1CQS770AJM0140366",
                        "CIARAMA MAQUINAS LTDA",
                        "1/21/2022",
                        "4.1",
                        "365+ days"
                      ],
                      [
                        "1CQS770AJN0145150",
                        "CIARAMA MAQUINAS LTDA",
                        "4/15/2023",
                        "230.95",
                        "Last 15 days"
                      ],
                      [
                        "1CQS770AJP0145863",
                        "CIARAMA MAQUINAS LTDA",
                        "3/17/2023",
                        "4.4",
                        "16 to 60 days"
                      ],
                      [
                        "1CQS770AJP0145880",
                        "CIARAMA MAQUINAS LTDA",
                        "4/19/2023",
                        "3.2",
                        "Last 15 days"
                      ],
                      [
                        "1CQS770AJP0145894",
                        "CIARAMA MAQUINAS LTDA",
                        "4/20/2023",
                        "3.95",
                        "Last 15 days"
                      ],
                      [
                        "1CQS770AKM0135389",
                        "CIARAMA MAQUINAS LTDA",
                        "4/17/2023",
                        "672.85",
                        "Last 15 days"
                      ],
                      [
                        "1CQS770AKN0140559",
                        "CIARAMA MAQUINAS LTDA",
                        "4/24/2023",
                        "1289.35",
                        "Last 15 days"
                      ],
                      [
                        "1CQS770AKN0140562",
                        "CIARAMA MAQUINAS LTDA",
                        "4/14/2023",
                        "558.85",
                        "Last 15 days"
                      ],
                      [
                        "1CQS770AKN0140769",
                        "CIARAMA MAQUINAS LTDA",
                        "4/23/2023",
                        "509.3",
                        "Last 15 days"
                      ],
                      [
                        "1CQS770AKN0145373",
                        "CIARAMA MAQUINAS LTDA",
                        "4/12/2023",
                        "408.75",
                        "Last 15 days"
                      ],
                      [
                        "1CQS770AKN0145664",
                        "CIARAMA MAQUINAS LTDA",
                        "4/24/2023",
                        "277.05",
                        "Last 15 days"
                      ],
                      [
                        "1CQS770ALM0140261",
                        "CIARAMA MAQUINAS LTDA",
                        "4/24/2023",
                        "912.45",
                        "Last 15 days"
                      ],
                      [
                        "1CQS770ALM0140308",
                        "CIARAMA MAQUINAS LTDA",
                        "4/23/2023",
                        "1107.65",
                        "Last 15 days"
                      ],
                      [
                        "1CQS770ALM0140518",
                        "CIARAMA MAQUINAS LTDA",
                        "1/27/2023",
                        "865.6",
                        "61 to 365 days"
                      ],
                      [
                        "1CQS770ALN0140598",
                        "CIARAMA MAQUINAS LTDA",
                        "4/14/2023",
                        "714.3",
                        "Last 15 days"
                      ],
                      [
                        "1CQS770ALN0140620",
                        "CIARAMA MAQUINAS LTDA",
                        "9/24/2022",
                        "413.1",
                        "61 to 365 days"
                      ],
                      [
                        "1CQS770ALP0145867",
                        "CIARAMA MAQUINAS LTDA",
                        "4/21/2023",
                        "256.75",
                        "Last 15 days"
                      ],
                      [
                        "1CQS770APK0130107",
                        "CIARAMA MAQUINAS LTDA",
                        "3/28/2023",
                        "1667.75",
                        "16 to 60 days"
                      ],
                      [
                        "1CQS770APK0130334",
                        "CIARAMA MAQUINAS LTDA",
                        "4/20/2023",
                        "1200.7",
                        "Last 15 days"
                      ],
                      [
                        "1CQS770APL0135230",
                        "CIARAMA MAQUINAS LTDA",
                        "4/21/2023",
                        "1645.6",
                        "Last 15 days"
                      ],
                      [
                        "1CQS770APL0135342",
                        "CIARAMA MAQUINAS LTDA",
                        "4/24/2023",
                        "1542.15",
                        "Last 15 days"
                      ],
                      [
                        "1CQS770APM0135424",
                        "CIARAMA MAQUINAS LTDA",
                        "2/12/2021",
                        "",
                        "365+ days"
                      ],
                      [
                        "1CQS770APM0135486",
                        "CIARAMA MAQUINAS LTDA",
                        "4/15/2023",
                        "961.1",
                        "Last 15 days"
                      ],
                      [
                        "1CQS770APM0140283",
                        "CIARAMA MAQUINAS LTDA",
                        "4/24/2023",
                        "907.85",
                        "Last 15 days"
                      ],
                      [
                        "1CQS770APM0140509",
                        "CIARAMA MAQUINAS LTDA",
                        "3/23/2023",
                        "1152.25",
                        "16 to 60 days"
                      ],
                      [
                        "1CQS770APN0140558",
                        "CIARAMA MAQUINAS LTDA",
                        "3/21/2022",
                        "108.35",
                        "365+ days"
                      ],
                      [
                        "1CQS770APN0145243",
                        "CIARAMA MAQUINAS LTDA",
                        "4/11/2023",
                        "392.8",
                        "Last 15 days"
                      ],
                      [
                        "1CQS770APN0145405",
                        "CIARAMA MAQUINAS LTDA",
                        "4/24/2023",
                        "213.75",
                        "Last 15 days"
                      ],
                      [
                        "1CQS770APN0145453",
                        "CIARAMA MAQUINAS LTDA",
                        "4/22/2023",
                        "193.5",
                        "Last 15 days"
                      ],
                      [
                        "1CQS770APP0145732",
                        "CIARAMA MAQUINAS LTDA",
                        "4/20/2023",
                        "313.0",
                        "Last 15 days"
                      ],
                      [
                        "1CQS770APP0145925",
                        "CIARAMA MAQUINAS LTDA",
                        "4/22/2023",
                        "3.8",
                        "Last 15 days"
                      ],
                      [
                        "1CQS770ATM0140427",
                        "CIARAMA MAQUINAS LTDA",
                        "4/24/2023",
                        "1058.65",
                        "Last 15 days"
                      ],
                      [
                        "1CQS770ATN0145256",
                        "CIARAMA MAQUINAS LTDA",
                        "3/17/2023",
                        "41.55",
                        "16 to 60 days"
                      ],
                      [
                        "1CQS770ATN0145550",
                        "CIARAMA MAQUINAS LTDA",
                        "3/7/2023",
                        "130.15",
                        "16 to 60 days"
                      ],
                      [
                        "1CQS770AVK0130193",
                        "CIARAMA MAQUINAS LTDA",
                        "4/15/2023",
                        "2374.7",
                        "Last 15 days"
                      ],
                      [
                        "1CQS770AVL0135198",
                        "CIARAMA MAQUINAS LTDA",
                        "7/29/2022",
                        "851.2",
                        "61 to 365 days"
                      ],
                      [
                        "1CQS770AVL0135203",
                        "CIARAMA MAQUINAS LTDA",
                        "4/21/2023",
                        "1174.25",
                        "Last 15 days"
                      ],
                      [
                        "1CQS770AVL0135220",
                        "CIARAMA MAQUINAS LTDA",
                        "4/24/2023",
                        "2148.5",
                        "Last 15 days"
                      ],
                      [
                        "1CQS770AVM0135428",
                        "CIARAMA MAQUINAS LTDA",
                        "4/15/2023",
                        "856.45",
                        "Last 15 days"
                      ],
                      [
                        "1CQS770AVN0145216",
                        "CIARAMA MAQUINAS LTDA",
                        "4/13/2023",
                        "281.6",
                        "Last 15 days"
                      ],
                      [
                        "1CQS770AVN0145412",
                        "CIARAMA MAQUINAS LTDA",
                        "3/27/2023",
                        "130.9",
                        "16 to 60 days"
                      ],
                      [
                        "1CQS770AVN0145684",
                        "CIARAMA MAQUINAS LTDA",
                        "4/24/2023",
                        "274.9",
                        "Last 15 days"
                      ],
                      [
                        "1CQS780AAM0135310",
                        "CIARAMA MAQUINAS LTDA",
                        "4/24/2023",
                        "1057.65",
                        "Last 15 days"
                      ],
                      [
                        "1CQS780ACK0130272",
                        "CIARAMA MAQUINAS LTDA",
                        "4/6/2023",
                        "1418.8",
                        "16 to 60 days"
                      ],
                      [
                        "1CQS780AEK0130271",
                        "CIARAMA MAQUINAS LTDA",
                        "5/19/2022",
                        "1377.8",
                        "61 to 365 days"
                      ],
                      [
                        "1CQS780AJJ0130101",
                        "CIARAMA MAQUINAS LTDA",
                        "4/18/2023",
                        "1327.4",
                        "Last 15 days"
                      ],
                      [
                        "1CQS780AJN0140472",
                        "CIARAMA MAQUINAS LTDA",
                        "2/7/2022",
                        "",
                        "365+ days"
                      ],
                      [
                        "1CQS780ATK0130273",
                        "CIARAMA MAQUINAS LTDA",
                        "2/14/2023",
                        "1050.75",
                        "61 to 365 days"
                      ],
                      [
                        "1CQS780ATL0135247",
                        "CIARAMA MAQUINAS LTDA",
                        "2/21/2021",
                        "",
                        "365+ days"
                      ],
                      [
                        "1CQS780AVM0140263",
                        "CIARAMA MAQUINAS LTDA",
                        "3/8/2023",
                        "237.9",
                        "16 to 60 days"
                      ],
                      [
                        "1CQS790ACN0145176",
                        "CIARAMA MAQUINAS LTDA",
                        "4/21/2023",
                        "280.35",
                        "Last 15 days"
                      ],
                      [
                        "1CQS790AHN0140212",
                        "CIARAMA MAQUINAS LTDA",
                        "4/12/2023",
                        "162.35",
                        "Last 15 days"
                      ],
                      [
                        "1CQS790ALL0135121",
                        "CIARAMA MAQUINAS LTDA",
                        "6/6/2022",
                        "972.8",
                        "61 to 365 days"
                      ],
                      [
                        "1CQS790ATM0140147",
                        "CIARAMA MAQUINAS LTDA",
                        "4/20/2023",
                        "581.3",
                        "Last 15 days"
                      ],
                      [
                        "1CQS790AVL0135147",
                        "CIARAMA MAQUINAS LTDA",
                        "4/13/2023",
                        "1453.7",
                        "Last 15 days"
                      ],
                      [
                        "1N04630XKC0018926",
                        "CIARAMA MAQUINAS LTDA",
                        "4/24/2023",
                        "0.55",
                        "Last 15 days"
                      ],
                      [
                        "1N04630XLC0019162",
                        "CIARAMA MAQUINAS LTDA",
                        "4/24/2023",
                        "5109.55",
                        "Last 15 days"
                      ],
                      [
                        "1N04630XPC0023011",
                        "CIARAMA MAQUINAS LTDA",
                        "3/9/2022",
                        "2868.55",
                        "365+ days"
                      ],
                      [
                        "1N04730XCA0013070",
                        "CIARAMA MAQUINAS LTDA",
                        "7/15/2022",
                        "12465.55",
                        "61 to 365 days"
                      ],
                      [
                        "1N04730XTA0013023",
                        "CIARAMA MAQUINAS LTDA",
                        "8/26/2022",
                        "11565.8",
                        "61 to 365 days"
                      ],
                      [
                        "1N04940XHE0029014",
                        "CIARAMA MAQUINAS LTDA",
                        "4/21/2023",
                        "11630.8",
                        "Last 15 days"
                      ],
                      [
                        "1NW4025MAKF190200",
                        "CIARAMA MAQUINAS LTDA",
                        "4/20/2023",
                        "3237.9",
                        "Last 15 days"
                      ],
                      [
                        "1NW4025MAL0200082",
                        "CIARAMA MAQUINAS LTDA",
                        "4/24/2023",
                        "2676.8",
                        "Last 15 days"
                      ],
                      [
                        "1NW4025MAN0230248",
                        "CIARAMA MAQUINAS LTDA",
                        "4/24/2023",
                        "344.1",
                        "Last 15 days"
                      ],
                      [
                        "1NW4025MAPF230525",
                        "CIARAMA MAQUINAS LTDA",
                        "4/12/2023",
                        "3.4",
                        "Last 15 days"
                      ],
                      [
                        "1NW4025MCK0190021",
                        "CIARAMA MAQUINAS LTDA",
                        "4/24/2023",
                        "4287.05",
                        "Last 15 days"
                      ],
                      [
                        "1NW4025MCKF190395",
                        "CIARAMA MAQUINAS LTDA",
                        "11/6/2020",
                        "11.4",
                        "365+ days"
                      ],
                      [
                        "1NW4025MCL0200029",
                        "CIARAMA MAQUINAS LTDA",
                        "9/11/2021",
                        "796.65",
                        "365+ days"
                      ],
                      [
                        "1NW4025MCMF210025",
                        "CIARAMA MAQUINAS LTDA",
                        "4/8/2023",
                        "1744.5",
                        "16 to 60 days"
                      ],
                      [
                        "1NW4025MCN0230070",
                        "CIARAMA MAQUINAS LTDA",
                        "4/1/2023",
                        "888.3",
                        "16 to 60 days"
                      ],
                      [
                        "1NW4025MCNF210320",
                        "CIARAMA MAQUINAS LTDA",
                        "4/24/2023",
                        "1192.05",
                        "Last 15 days"
                      ],
                      [
                        "1NW4025MEK0190141",
                        "CIARAMA MAQUINAS LTDA",
                        "3/17/2023",
                        "1299.3",
                        "16 to 60 days"
                      ],
                      [
                        "1NW4025MEKF190167",
                        "CIARAMA MAQUINAS LTDA",
                        "12/11/2021",
                        "1606.4",
                        "365+ days"
                      ],
                      [
                        "1NW4025MEP0230497",
                        "CIARAMA MAQUINAS LTDA",
                        "4/6/2023",
                        "4.85",
                        "16 to 60 days"
                      ],
                      [
                        "1NW4025MHN0210388",
                        "CIARAMA MAQUINAS LTDA",
                        "4/23/2023",
                        "3384.4",
                        "Last 15 days"
                      ],
                      [
                        "1NW4025MHPF230527",
                        "CIARAMA MAQUINAS LTDA",
                        "4/10/2023",
                        "",
                        "Last 15 days"
                      ],
                      [
                        "1NW4025MJKF190015",
                        "CIARAMA MAQUINAS LTDA",
                        "4/11/2023",
                        "1641.1",
                        "Last 15 days"
                      ],
                      [
                        "1NW4025MJL0190455",
                        "CIARAMA MAQUINAS LTDA",
                        "4/23/2023",
                        "10622.15",
                        "Last 15 days"
                      ],
                      [
                        "1NW4025MJM0200239",
                        "CIARAMA MAQUINAS LTDA",
                        "4/24/2023",
                        "5867.15",
                        "Last 15 days"
                      ],
                      [
                        "1NW4025MJP0230443",
                        "CIARAMA MAQUINAS LTDA",
                        "4/20/2023",
                        "10.1",
                        "Last 15 days"
                      ],
                      [
                        "1NW4025MKL0200190",
                        "CIARAMA MAQUINAS LTDA",
                        "10/31/2020",
                        "",
                        "365+ days"
                      ],
                      [
                        "1NW4025MKLF200025",
                        "CIARAMA MAQUINAS LTDA",
                        "4/15/2023",
                        "1602.8",
                        "Last 15 days"
                      ],
                      [
                        "1NW4025MKM0200238",
                        "CIARAMA MAQUINAS LTDA",
                        "4/24/2023",
                        "5880.15",
                        "Last 15 days"
                      ],
                      [
                        "1NW4025MKM0200269",
                        "CIARAMA MAQUINAS LTDA",
                        "4/24/2023",
                        "1067.05",
                        "Last 15 days"
                      ],
                      [
                        "1NW4025MKM0210056",
                        "CIARAMA MAQUINAS LTDA",
                        "11/14/2022",
                        "342.4",
                        "61 to 365 days"
                      ],
                      [
                        "1NW4025MKMF200284",
                        "CIARAMA MAQUINAS LTDA",
                        "4/23/2023",
                        "1021.4",
                        "Last 15 days"
                      ],
                      [
                        "1NW4025MKPF230504",
                        "CIARAMA MAQUINAS LTDA",
                        "4/19/2023",
                        "",
                        "Last 15 days"
                      ],
                      [
                        "1NW4025MLL0200231",
                        "CIARAMA MAQUINAS LTDA",
                        "4/17/2023",
                        "1615.05",
                        "Last 15 days"
                      ],
                      [
                        "1NW4025MLM0210033",
                        "CIARAMA MAQUINAS LTDA",
                        "4/18/2023",
                        "963.55",
                        "Last 15 days"
                      ],
                      [
                        "1NW4025MLN0210387",
                        "CIARAMA MAQUINAS LTDA",
                        "4/11/2023",
                        "3136.75",
                        "Last 15 days"
                      ],
                      [
                        "1NW4025MLN0230204",
                        "CIARAMA MAQUINAS LTDA",
                        "4/24/2023",
                        "1093.15",
                        "Last 15 days"
                      ],
                      [
                        "1NW4025MPL0190453",
                        "CIARAMA MAQUINAS LTDA",
                        "4/24/2023",
                        "9946.8",
                        "Last 15 days"
                      ],
                      [
                        "1NW4025MPMF200283",
                        "CIARAMA MAQUINAS LTDA",
                        "4/20/2023",
                        "1029.8",
                        "Last 15 days"
                      ],
                      [
                        "1NW4025MTK0190143",
                        "CIARAMA MAQUINAS LTDA",
                        "2/7/2023",
                        "659.8",
                        "61 to 365 days"
                      ],
                      [
                        "1NW4025MTKF190317",
                        "CIARAMA MAQUINAS LTDA",
                        "4/21/2023",
                        "1244.2",
                        "Last 15 days"
                      ],
                      [
                        "1NW4025MTNF210330",
                        "CIARAMA MAQUINAS LTDA",
                        "4/23/2023",
                        "1069.1",
                        "Last 15 days"
                      ],
                      [
                        "1NW4025MVK0190019",
                        "CIARAMA MAQUINAS LTDA",
                        "4/24/2023",
                        "2104.75",
                        "Last 15 days"
                      ],
                      [
                        "1NW4025MVL0190457",
                        "CIARAMA MAQUINAS LTDA",
                        "4/24/2023",
                        "10082.2",
                        "Last 15 days"
                      ],
                      [
                        "1NW4025MVL0190460",
                        "CIARAMA MAQUINAS LTDA",
                        "4/24/2023",
                        "9746.15",
                        "Last 15 days"
                      ],
                      [
                        "1NW4030MAK0190049",
                        "CIARAMA MAQUINAS LTDA",
                        "4/21/2023",
                        "5025.6",
                        "Last 15 days"
                      ],
                      [
                        "1NW4030MAKF190050",
                        "CIARAMA MAQUINAS LTDA",
                        "4/24/2023",
                        "5441.7",
                        "Last 15 days"
                      ],
                      [
                        "1NW4030MAKF190078",
                        "CIARAMA MAQUINAS LTDA",
                        "4/23/2023",
                        "4753.1",
                        "Last 15 days"
                      ],
                      [
                        "1NW4030MALF200268",
                        "CIARAMA MAQUINAS LTDA",
                        "4/6/2023",
                        "2240.1",
                        "16 to 60 days"
                      ],
                      [
                        "1NW4030MAM0200498",
                        "CIARAMA MAQUINAS LTDA",
                        "4/14/2023",
                        "3253.95",
                        "Last 15 days"
                      ],
                      [
                        "1NW4030MAM0210545",
                        "CIARAMA MAQUINAS LTDA",
                        "4/20/2023",
                        "1335.75",
                        "Last 15 days"
                      ],
                      [
                        "1NW4030MAMF200501",
                        "CIARAMA MAQUINAS LTDA",
                        "4/16/2023",
                        "1539.9",
                        "Last 15 days"
                      ],
                      [
                        "1NW4030MAN0210742",
                        "CIARAMA MAQUINAS LTDA",
                        "4/24/2023",
                        "1312.3",
                        "Last 15 days"
                      ],
                      [
                        "1NW4030MAN0230148",
                        "CIARAMA MAQUINAS LTDA",
                        "4/20/2023",
                        "8.8",
                        "Last 15 days"
                      ],
                      [
                        "1NW4030MAN0230781",
                        "CIARAMA MAQUINAS LTDA",
                        "2/17/2023",
                        "4.983",
                        "61 to 365 days"
                      ],
                      [
                        "1NW4030MAP0230847",
                        "CIARAMA MAQUINAS LTDA",
                        "4/5/2023",
                        "5.85",
                        "16 to 60 days"
                      ],
                      [
                        "1NW4030MCK0190106",
                        "CIARAMA MAQUINAS LTDA",
                        "4/24/2023",
                        "3667.85",
                        "Last 15 days"
                      ],
                      [
                        "1NW4030MCKF190322",
                        "CIARAMA MAQUINAS LTDA",
                        "4/24/2023",
                        "2534.0",
                        "Last 15 days"
                      ],
                      [
                        "1NW4030MCLF200073",
                        "CIARAMA MAQUINAS LTDA",
                        "4/22/2023",
                        "2566.8",
                        "Last 15 days"
                      ],
                      [
                        "1NW4030MCM0200555",
                        "CIARAMA MAQUINAS LTDA",
                        "4/24/2023",
                        "2004.45",
                        "Last 15 days"
                      ],
                      [
                        "1NW4030MCN0210925",
                        "CIARAMA MAQUINAS LTDA",
                        "4/24/2023",
                        "600.95",
                        "Last 15 days"
                      ],
                      [
                        "1NW4030MCN0211007",
                        "CIARAMA MAQUINAS LTDA",
                        "4/21/2023",
                        "428.6",
                        "Last 15 days"
                      ],
                      [
                        "1NW4030MCNF230184",
                        "CIARAMA MAQUINAS LTDA",
                        "4/24/2023",
                        "1223.5",
                        "Last 15 days"
                      ],
                      [
                        "1NW4030MCNF230198",
                        "CIARAMA MAQUINAS LTDA",
                        "4/24/2023",
                        "688.85",
                        "Last 15 days"
                      ],
                      [
                        "1NW4030MCP0230806",
                        "CIARAMA MAQUINAS LTDA",
                        "4/24/2023",
                        "77.5",
                        "Last 15 days"
                      ],
                      [
                        "1NW4030MCP0230845",
                        "CIARAMA MAQUINAS LTDA",
                        "2/28/2023",
                        "4.55",
                        "16 to 60 days"
                      ],
                      [
                        "1NW4030MEK0190069",
                        "CIARAMA MAQUINAS LTDA",
                        "4/21/2023",
                        "1108.05",
                        "Last 15 days"
                      ],
                      [
                        "1NW4030MEK0190475",
                        "CIARAMA MAQUINAS LTDA",
                        "10/9/2021",
                        "",
                        "365+ days"
                      ],
                      [
                        "1NW4030MEM0210100",
                        "CIARAMA MAQUINAS LTDA",
                        "3/17/2023",
                        "1034.9",
                        "16 to 60 days"
                      ],
                      [
                        "1NW4030MEM0210405",
                        "CIARAMA MAQUINAS LTDA",
                        "4/24/2023",
                        "937.3",
                        "Last 15 days"
                      ],
                      [
                        "1NW4030MEM0210680",
                        "CIARAMA MAQUINAS LTDA",
                        "4/21/2023",
                        "1217.0",
                        "Last 15 days"
                      ],
                      [
                        "1NW4030MENF230619",
                        "CIARAMA MAQUINAS LTDA",
                        "4/24/2023",
                        "969.4",
                        "Last 15 days"
                      ],
                      [
                        "1NW4030MENF230622",
                        "CIARAMA MAQUINAS LTDA",
                        "4/24/2023",
                        "982.6",
                        "Last 15 days"
                      ],
                      [
                        "1NW4030MHK0190104",
                        "CIARAMA MAQUINAS LTDA",
                        "4/24/2023",
                        "3234.9",
                        "Last 15 days"
                      ],
                      [
                        "1NW4030MHK0190426",
                        "CIARAMA MAQUINAS LTDA",
                        "4/23/2023",
                        "3968.4",
                        "Last 15 days"
                      ],
                      [
                        "1NW4030MHK0190474",
                        "CIARAMA MAQUINAS LTDA",
                        "3/9/2023",
                        "1362.4",
                        "16 to 60 days"
                      ],
                      [
                        "1NW4030MHLF200466",
                        "CIARAMA MAQUINAS LTDA",
                        "4/24/2023",
                        "2404.4",
                        "Last 15 days"
                      ],
                      [
                        "1NW4030MHMF200503",
                        "CIARAMA MAQUINAS LTDA",
                        "4/24/2023",
                        "2240.65",
                        "Last 15 days"
                      ],
                      [
                        "1NW4030MHN0210789",
                        "CIARAMA MAQUINAS LTDA",
                        "3/28/2023",
                        "1373.8",
                        "16 to 60 days"
                      ],
                      [
                        "1NW4030MHN0210811",
                        "CIARAMA MAQUINAS LTDA",
                        "4/24/2023",
                        "1384.9",
                        "Last 15 days"
                      ],
                      [
                        "1NW4030MHP0230849",
                        "CIARAMA MAQUINAS LTDA",
                        "3/17/2023",
                        "5.05",
                        "16 to 60 days"
                      ],
                      [
                        "1NW4030MJLF200265",
                        "CIARAMA MAQUINAS LTDA",
                        "4/24/2023",
                        "2978.4",
                        "Last 15 days"
                      ],
                      [
                        "1NW4030MJM0200545",
                        "CIARAMA MAQUINAS LTDA",
                        "4/5/2023",
                        "2369.5",
                        "16 to 60 days"
                      ],
                      [
                        "1NW4030MJM0210105",
                        "CIARAMA MAQUINAS LTDA",
                        "4/24/2023",
                        "883.7",
                        "Last 15 days"
                      ],
                      [
                        "1NW4030MJN0230100",
                        "CIARAMA MAQUINAS LTDA",
                        "4/23/2023",
                        "9.35",
                        "Last 15 days"
                      ],
                      [
                        "1NW4030MJNF210863",
                        "CIARAMA MAQUINAS LTDA",
                        "4/21/2023",
                        "483.35",
                        "Last 15 days"
                      ],
                      [
                        "1NW4030MJNF230126",
                        "CIARAMA MAQUINAS LTDA",
                        "4/23/2023",
                        "1248.85",
                        "Last 15 days"
                      ],
                      [
                        "1NW4030MKK0190319",
                        "CIARAMA MAQUINAS LTDA",
                        "4/24/2023",
                        "5822.6",
                        "Last 15 days"
                      ],
                      [
                        "1NW4030MKK0190448",
                        "CIARAMA MAQUINAS LTDA",
                        "4/22/2023",
                        "4038.9",
                        "Last 15 days"
                      ],
                      [
                        "1NW4030MKLF200023",
                        "CIARAMA MAQUINAS LTDA",
                        "3/18/2023",
                        "2553.1",
                        "16 to 60 days"
                      ],
                      [
                        "1NW4030MKM0210166",
                        "CIARAMA MAQUINAS LTDA",
                        "4/24/2023",
                        "1901.6",
                        "Last 15 days"
                      ],
                      [
                        "1NW4030MKMF200573",
                        "CIARAMA MAQUINAS LTDA",
                        "4/24/2023",
                        "760.15",
                        "Last 15 days"
                      ],
                      [
                        "1NW4030MKMF210343",
                        "CIARAMA MAQUINAS LTDA",
                        "4/22/2023",
                        "791.8",
                        "Last 15 days"
                      ],
                      [
                        "1NW4030MKMF210486",
                        "CIARAMA MAQUINAS LTDA",
                        "4/24/2023",
                        "982.95",
                        "Last 15 days"
                      ],
                      [
                        "1NW4030MKN0230435",
                        "CIARAMA MAQUINAS LTDA",
                        "4/21/2023",
                        "485.7",
                        "Last 15 days"
                      ],
                      [
                        "1NW4030MKN0230452",
                        "CIARAMA MAQUINAS LTDA",
                        "4/3/2023",
                        "722.55",
                        "16 to 60 days"
                      ],
                      [
                        "1NW4030MLKF190017",
                        "CIARAMA MAQUINAS LTDA",
                        "1/10/2023",
                        "2922.05",
                        "61 to 365 days"
                      ],
                      [
                        "1NW4030MLKF190048",
                        "CIARAMA MAQUINAS LTDA",
                        "4/24/2023",
                        "5578.5",
                        "Last 15 days"
                      ],
                      [
                        "1NW4030MLL0200128",
                        "CIARAMA MAQUINAS LTDA",
                        "4/20/2023",
                        "3848.75",
                        "Last 15 days"
                      ],
                      [
                        "1NW4030MLM0210305",
                        "CIARAMA MAQUINAS LTDA",
                        "4/21/2023",
                        "1076.05",
                        "Last 15 days"
                      ],
                      [
                        "1NW4030MLM0210403",
                        "CIARAMA MAQUINAS LTDA",
                        "4/24/2023",
                        "1254.95",
                        "Last 15 days"
                      ],
                      [
                        "1NW4030MLM0210496",
                        "CIARAMA MAQUINAS LTDA",
                        "4/24/2023",
                        "1684.9",
                        "Last 15 days"
                      ],
                      [
                        "1NW4030MPK0190500",
                        "CIARAMA MAQUINAS LTDA",
                        "4/24/2023",
                        "3149.4",
                        "Last 15 days"
                      ],
                      [
                        "1NW4030MPLF200098",
                        "CIARAMA MAQUINAS LTDA",
                        "4/24/2023",
                        "2814.95",
                        "Last 15 days"
                      ],
                      [
                        "1NW4030MPLF200103",
                        "CIARAMA MAQUINAS LTDA",
                        "4/23/2023",
                        "1788.45",
                        "Last 15 days"
                      ],
                      [
                        "1NW4030MPMF200507",
                        "CIARAMA MAQUINAS LTDA",
                        "4/11/2023",
                        "1902.6",
                        "Last 15 days"
                      ],
                      [
                        "1NW4030MPMF210051",
                        "CIARAMA MAQUINAS LTDA",
                        "4/24/2023",
                        "982.85",
                        "Last 15 days"
                      ],
                      [
                        "1NW4030MPNF230575",
                        "CIARAMA MAQUINAS LTDA",
                        "4/21/2023",
                        "135.9",
                        "Last 15 days"
                      ],
                      [
                        "1NW4030MTK0190026",
                        "CIARAMA MAQUINAS LTDA",
                        "4/22/2023",
                        "5271.8",
                        "Last 15 days"
                      ],
                      [
                        "1NW4030MTK0190396",
                        "CIARAMA MAQUINAS LTDA",
                        "1/27/2022",
                        "773.6",
                        "365+ days"
                      ],
                      [
                        "1NW4030MTM0200556",
                        "CIARAMA MAQUINAS LTDA",
                        "12/19/2022",
                        "621.1",
                        "61 to 365 days"
                      ],
                      [
                        "1NW4030MTM0210164",
                        "CIARAMA MAQUINAS LTDA",
                        "4/22/2023",
                        "2668.85",
                        "Last 15 days"
                      ],
                      [
                        "1NW4030MTN0210800",
                        "CIARAMA MAQUINAS LTDA",
                        "4/24/2023",
                        "805.35",
                        "Last 15 days"
                      ],
                      [
                        "1NW4030MTN0210845",
                        "CIARAMA MAQUINAS LTDA",
                        "4/24/2023",
                        "846.5",
                        "Last 15 days"
                      ],
                      [
                        "1NW4030MTN0230254",
                        "CIARAMA MAQUINAS LTDA",
                        "4/24/2023",
                        "208.35",
                        "Last 15 days"
                      ],
                      [
                        "1NW4030MTNF210860",
                        "CIARAMA MAQUINAS LTDA",
                        "4/21/2023",
                        "552.55",
                        "Last 15 days"
                      ],
                      [
                        "1NW4030MTNF230011",
                        "CIARAMA MAQUINAS LTDA",
                        "4/22/2023",
                        "1148.35",
                        "Last 15 days"
                      ],
                      [
                        "1NW4030MTNF230624",
                        "CIARAMA MAQUINAS LTDA",
                        "4/24/2023",
                        "1023.85",
                        "Last 15 days"
                      ],
                      [
                        "1NW4030MVKF190046",
                        "CIARAMA MAQUINAS LTDA",
                        "3/28/2023",
                        "1507.05",
                        "16 to 60 days"
                      ],
                      [
                        "1NW4030MVKF190371",
                        "CIARAMA MAQUINAS LTDA",
                        "4/22/2023",
                        "2749.0",
                        "Last 15 days"
                      ],
                      [
                        "1NW4030MVL0200465",
                        "CIARAMA MAQUINAS LTDA",
                        "11/29/2022",
                        "",
                        "61 to 365 days"
                      ],
                      [
                        "1NW4030MVM0210432",
                        "CIARAMA MAQUINAS LTDA",
                        "4/21/2023",
                        "1658.8",
                        "Last 15 days"
                      ],
                      [
                        "1NW4030MVM0210690",
                        "CIARAMA MAQUINAS LTDA",
                        "4/21/2023",
                        "1249.35",
                        "Last 15 days"
                      ],
                      [
                        "1NW4030MVPF230858",
                        "CIARAMA MAQUINAS LTDA",
                        "3/30/2023",
                        "5.5",
                        "16 to 60 days"
                      ],
                      [
                        "1NW4030MVPF230942",
                        "CIARAMA MAQUINAS LTDA",
                        "4/11/2023",
                        "5.35",
                        "Last 15 days"
                      ],
                      [
                        "1NW4040DAM0210065",
                        "CIARAMA MAQUINAS LTDA",
                        "4/23/2023",
                        "1574.65",
                        "Last 15 days"
                      ],
                      [
                        "1NW4040DAP0230384",
                        "CIARAMA MAQUINAS LTDA",
                        "4/12/2023",
                        "3.55",
                        "Last 15 days"
                      ],
                      [
                        "1NW4040DHM0200073",
                        "CIARAMA MAQUINAS LTDA",
                        "4/24/2023",
                        "1360.35",
                        "Last 15 days"
                      ],
                      [
                        "1NW4040DHM0210019",
                        "CIARAMA MAQUINAS LTDA",
                        "4/24/2023",
                        "1705.15",
                        "Last 15 days"
                      ],
                      [
                        "1NW4040DHN0230093",
                        "CIARAMA MAQUINAS LTDA",
                        "4/22/2023",
                        "73.8",
                        "Last 15 days"
                      ],
                      [
                        "1NW4040DHN0230157",
                        "CIARAMA MAQUINAS LTDA",
                        "4/13/2023",
                        "136.1",
                        "Last 15 days"
                      ],
                      [
                        "1NW4040DHN0230188",
                        "CIARAMA MAQUINAS LTDA",
                        "4/24/2023",
                        "112.2",
                        "Last 15 days"
                      ],
                      [
                        "1NW4040DJL0200033",
                        "CIARAMA MAQUINAS LTDA",
                        "4/24/2023",
                        "1279.75",
                        "Last 15 days"
                      ],
                      [
                        "1NW4040DJM0210112",
                        "CIARAMA MAQUINAS LTDA",
                        "4/20/2023",
                        "698.35",
                        "Last 15 days"
                      ],
                      [
                        "1NW4040DKN0210207",
                        "CIARAMA MAQUINAS LTDA",
                        "3/28/2023",
                        "99.7",
                        "16 to 60 days"
                      ],
                      [
                        "1NW4040DKP0230332",
                        "CIARAMA MAQUINAS LTDA",
                        "4/24/2023",
                        "222.8",
                        "Last 15 days"
                      ],
                      [
                        "1NW4040DPL0200059",
                        "CIARAMA MAQUINAS LTDA",
                        "4/5/2023",
                        "1459.55",
                        "16 to 60 days"
                      ],
                      [
                        "1NW4040DTM0210073",
                        "CIARAMA MAQUINAS LTDA",
                        "4/24/2023",
                        "159.85",
                        "Last 15 days"
                      ],
                      [
                        "1NW4040DTP0230358",
                        "CIARAMA MAQUINAS LTDA",
                        "2/27/2023",
                        "3.25",
                        "16 to 60 days"
                      ],
                      [
                        "1NW4040DVN0210227",
                        "CIARAMA MAQUINAS LTDA",
                        "4/24/2023",
                        "532.25",
                        "Last 15 days"
                      ],
                      [
                        "1NW4040MAKF190023",
                        "CIARAMA MAQUINAS LTDA",
                        "4/16/2023",
                        "3954.05",
                        "Last 15 days"
                      ],
                      [
                        "1NW4040MALF200048",
                        "CIARAMA MAQUINAS LTDA",
                        "4/17/2023",
                        "1595.95",
                        "Last 15 days"
                      ],
                      [
                        "1NW4040MCKF190052",
                        "CIARAMA MAQUINAS LTDA",
                        "4/24/2023",
                        "2879.75",
                        "Last 15 days"
                      ],
                      [
                        "1NW4040MCKF190066",
                        "CIARAMA MAQUINAS LTDA",
                        "4/23/2023",
                        "3522.45",
                        "Last 15 days"
                      ],
                      [
                        "1NW4040MCKF190223",
                        "CIARAMA MAQUINAS LTDA",
                        "4/24/2023",
                        "2870.75",
                        "Last 15 days"
                      ],
                      [
                        "1NW4040MCMF210030",
                        "CIARAMA MAQUINAS LTDA",
                        "3/28/2023",
                        "1671.0",
                        "16 to 60 days"
                      ],
                      [
                        "1NW4040MCNF210501",
                        "CIARAMA MAQUINAS LTDA",
                        "4/24/2023",
                        "682.8",
                        "Last 15 days"
                      ],
                      [
                        "1NW4040MENF230089",
                        "CIARAMA MAQUINAS LTDA",
                        "4/24/2023",
                        "359.65",
                        "Last 15 days"
                      ],
                      [
                        "1NW4040MHLF200053",
                        "CIARAMA MAQUINAS LTDA",
                        "4/24/2023",
                        "2982.85",
                        "Last 15 days"
                      ],
                      [
                        "1NW4040MHMF200216",
                        "CIARAMA MAQUINAS LTDA",
                        "4/24/2023",
                        "3741.6",
                        "Last 15 days"
                      ],
                      [
                        "1NW4040MHNF230009",
                        "CIARAMA MAQUINAS LTDA",
                        "4/24/2023",
                        "596.65",
                        "Last 15 days"
                      ],
                      [
                        "1NW4040MLKF190024",
                        "CIARAMA MAQUINAS LTDA",
                        "2/2/2022",
                        "2491.55",
                        "365+ days"
                      ],
                      [
                        "1NW4040MLPF230223",
                        "CIARAMA MAQUINAS LTDA",
                        "4/19/2023",
                        "6.0",
                        "Last 15 days"
                      ],
                      [
                        "1NW4040MPKF190046",
                        "CIARAMA MAQUINAS LTDA",
                        "4/13/2023",
                        "6800.75",
                        "Last 15 days"
                      ],
                      [
                        "1NW4040MPL0200059",
                        "CIARAMA MAQUINAS LTDA",
                        "3/31/2023",
                        "3826.8",
                        "16 to 60 days"
                      ],
                      [
                        "1NW4040MPMF200271",
                        "CIARAMA MAQUINAS LTDA",
                        "4/24/2023",
                        "1748.6",
                        "Last 15 days"
                      ],
                      [
                        "1NW4040MPPF230231",
                        "CIARAMA MAQUINAS LTDA",
                        "4/18/2023",
                        "5.7",
                        "Last 15 days"
                      ],
                      [
                        "1NW4040MTKF190045",
                        "CIARAMA MAQUINAS LTDA",
                        "4/23/2023",
                        "3915.85",
                        "Last 15 days"
                      ],
                      [
                        "1NW4040MTL0200061",
                        "CIARAMA MAQUINAS LTDA",
                        "4/21/2023",
                        "4601.8",
                        "Last 15 days"
                      ],
                      [
                        "1NW4040MTMF210166",
                        "CIARAMA MAQUINAS LTDA",
                        "8/15/2022",
                        "548.35",
                        "61 to 365 days"
                      ],
                      [
                        "1NW4040MTPF230194",
                        "CIARAMA MAQUINAS LTDA",
                        "3/17/2023",
                        "7.5",
                        "16 to 60 days"
                      ],
                      [
                        "1NW4040MVKF190053",
                        "CIARAMA MAQUINAS LTDA",
                        "4/24/2023",
                        "2422.2",
                        "Last 15 days"
                      ],
                      [
                        "1NW4040MVKF190067",
                        "CIARAMA MAQUINAS LTDA",
                        "4/13/2023",
                        "6180.2",
                        "Last 15 days"
                      ],
                      [
                        "1NW4040MVKF190084",
                        "CIARAMA MAQUINAS LTDA",
                        "4/24/2023",
                        "1849.55",
                        "Last 15 days"
                      ],
                      [
                        "1NW4040MVN0230087",
                        "CIARAMA MAQUINAS LTDA",
                        "4/24/2023",
                        "887.5",
                        "Last 15 days"
                      ],
                      [
                        "1NW4630XAF0001138",
                        "CIARAMA MAQUINAS LTDA",
                        "4/24/2023",
                        "4435.55",
                        "Last 15 days"
                      ],
                      [
                        "1NW4630XAH0055025",
                        "CIARAMA MAQUINAS LTDA",
                        "4/24/2023",
                        "2402.4",
                        "Last 15 days"
                      ],
                      [
                        "1NW4630XAJ0055371",
                        "CIARAMA MAQUINAS LTDA",
                        "3/20/2023",
                        "1924.9",
                        "16 to 60 days"
                      ],
                      [
                        "1NW4630XAJS055259",
                        "CIARAMA MAQUINAS LTDA",
                        "12/26/2022",
                        "12636.25",
                        "61 to 365 days"
                      ],
                      [
                        "1NW4630XAN0230062",
                        "CIARAMA MAQUINAS LTDA",
                        "4/24/2023",
                        "540.0",
                        "Last 15 days"
                      ],
                      [
                        "1NW4630XCH0055233",
                        "CIARAMA MAQUINAS LTDA",
                        "11/23/2022",
                        "4160.85",
                        "61 to 365 days"
                      ],
                      [
                        "1NW4630XCJ0055271",
                        "CIARAMA MAQUINAS LTDA",
                        "4/24/2023",
                        "3510.75",
                        "Last 15 days"
                      ],
                      [
                        "1NW4630XCJS055260",
                        "CIARAMA MAQUINAS LTDA",
                        "12/26/2022",
                        "12269.9",
                        "61 to 365 days"
                      ],
                      [
                        "1NW4630XCK0055491",
                        "CIARAMA MAQUINAS LTDA",
                        "4/24/2023",
                        "1873.7",
                        "Last 15 days"
                      ],
                      [
                        "1NW4630XEM0200059",
                        "CIARAMA MAQUINAS LTDA",
                        "4/24/2023",
                        "959.0",
                        "Last 15 days"
                      ],
                      [
                        "1NW4630XEN0230017",
                        "CIARAMA MAQUINAS LTDA",
                        "4/1/2023",
                        "",
                        "16 to 60 days"
                      ],
                      [
                        "1NW4630XJD0000290",
                        "CIARAMA MAQUINAS LTDA",
                        "2/7/2023",
                        "6704.15",
                        "61 to 365 days"
                      ],
                      [
                        "1NW4630XJE0000310",
                        "CIARAMA MAQUINAS LTDA",
                        "4/3/2023",
                        "8456.55",
                        "16 to 60 days"
                      ],
                      [
                        "1NW4630XLGS050086",
                        "CIARAMA MAQUINAS LTDA",
                        "2/10/2021",
                        "8406.8",
                        "365+ days"
                      ],
                      [
                        "1NW4630XLJ0055372",
                        "CIARAMA MAQUINAS LTDA",
                        "8/19/2022",
                        "3273.95",
                        "61 to 365 days"
                      ],
                      [
                        "1NW4630XLJS055263",
                        "CIARAMA MAQUINAS LTDA",
                        "1/26/2023",
                        "12623.4",
                        "61 to 365 days"
                      ],
                      [
                        "1NW4630XVH0055167",
                        "CIARAMA MAQUINAS LTDA",
                        "4/24/2023",
                        "5040.4",
                        "Last 15 days"
                      ],
                      [
                        "1NW4630XVJS055261",
                        "CIARAMA MAQUINAS LTDA",
                        "1/17/2023",
                        "11813.9",
                        "61 to 365 days"
                      ],
                      [
                        "1NW4730XAE0001216",
                        "CIARAMA MAQUINAS LTDA",
                        "4/22/2023",
                        "10576.05",
                        "Last 15 days"
                      ],
                      [
                        "1NW4730XAH0055586",
                        "CIARAMA MAQUINAS LTDA",
                        "9/18/2022",
                        "7892.4",
                        "61 to 365 days"
                      ],
                      [
                        "1NW4730XAH0055703",
                        "CIARAMA MAQUINAS LTDA",
                        "4/24/2023",
                        "6515.6",
                        "Last 15 days"
                      ],
                      [
                        "1NW4730XCD0000619",
                        "CIARAMA MAQUINAS LTDA",
                        "2/6/2023",
                        "8963.25",
                        "61 to 365 days"
                      ],
                      [
                        "1NW4730XCE0001416",
                        "CIARAMA MAQUINAS LTDA",
                        "4/19/2023",
                        "3023.6",
                        "Last 15 days"
                      ],
                      [
                        "1NW4730XCH0055268",
                        "CIARAMA MAQUINAS LTDA",
                        "12/9/2022",
                        "4988.65",
                        "61 to 365 days"
                      ],
                      [
                        "1NW4730XCH0055407",
                        "CIARAMA MAQUINAS LTDA",
                        "7/12/2022",
                        "4511.1",
                        "61 to 365 days"
                      ],
                      [
                        "1NW4730XCH0055584",
                        "CIARAMA MAQUINAS LTDA",
                        "9/21/2022",
                        "7466.45",
                        "61 to 365 days"
                      ],
                      [
                        "1NW4730XCJ0055882",
                        "CIARAMA MAQUINAS LTDA",
                        "7/22/2022",
                        "5870.95",
                        "61 to 365 days"
                      ],
                      [
                        "1NW4730XCJ0055888",
                        "CIARAMA MAQUINAS LTDA",
                        "4/22/2023",
                        "4738.5",
                        "Last 15 days"
                      ],
                      [
                        "1NW4730XCJ0056269",
                        "CIARAMA MAQUINAS LTDA",
                        "7/9/2022",
                        "4463.65",
                        "61 to 365 days"
                      ],
                      [
                        "1NW4730XCJ0056627",
                        "CIARAMA MAQUINAS LTDA",
                        "4/24/2023",
                        "4854.5",
                        "Last 15 days"
                      ],
                      [
                        "1NW4730XEE0001642",
                        "CIARAMA MAQUINAS LTDA",
                        "4/24/2023",
                        "9004.6",
                        "Last 15 days"
                      ],
                      [
                        "1NW4730XEH0055625",
                        "CIARAMA MAQUINAS LTDA",
                        "6/22/2021",
                        "2008.5",
                        "365+ days"
                      ],
                      [
                        "1NW4730XEJ0055971",
                        "CIARAMA MAQUINAS LTDA",
                        "5/24/2022",
                        "1939.6",
                        "61 to 365 days"
                      ],
                      [
                        "1NW4730XHC0000163",
                        "CIARAMA MAQUINAS LTDA",
                        "3/5/2021",
                        "6510.4",
                        "365+ days"
                      ],
                      [
                        "1NW4730XHD0000617",
                        "CIARAMA MAQUINAS LTDA",
                        "5/12/2022",
                        "7902.05",
                        "61 to 365 days"
                      ],
                      [
                        "1NW4730XHJ0056505",
                        "CIARAMA MAQUINAS LTDA",
                        "4/21/2023",
                        "3504.75",
                        "Last 15 days"
                      ],
                      [
                        "1NW4730XJE0001485",
                        "CIARAMA MAQUINAS LTDA",
                        "4/22/2023",
                        "9806.0",
                        "Last 15 days"
                      ],
                      [
                        "1NW4730XJF0002251",
                        "CIARAMA MAQUINAS LTDA",
                        "4/22/2023",
                        "5748.55",
                        "Last 15 days"
                      ],
                      [
                        "1NW4730XJH0055583",
                        "CIARAMA MAQUINAS LTDA",
                        "3/27/2023",
                        "8276.75",
                        "16 to 60 days"
                      ],
                      [
                        "1NW4730XKH0055274",
                        "CIARAMA MAQUINAS LTDA",
                        "4/24/2023",
                        "5440.95",
                        "Last 15 days"
                      ],
                      [
                        "1NW4730XLF0002188",
                        "CIARAMA MAQUINAS LTDA",
                        "2/21/2022",
                        "",
                        "365+ days"
                      ],
                      [
                        "1NW4730XLG0050436",
                        "CIARAMA MAQUINAS LTDA",
                        "4/24/2023",
                        "5669.05",
                        "Last 15 days"
                      ],
                      [
                        "1NW4730XLH0055301",
                        "CIARAMA MAQUINAS LTDA",
                        "5/29/2020",
                        "1069.5",
                        "365+ days"
                      ],
                      [
                        "1NW4730XLJ0055966",
                        "CIARAMA MAQUINAS LTDA",
                        "3/23/2021",
                        "1952.15",
                        "365+ days"
                      ],
                      [
                        "1NW4730XLJ0056258",
                        "CIARAMA MAQUINAS LTDA",
                        "9/2/2022",
                        "6653.75",
                        "61 to 365 days"
                      ],
                      [
                        "1NW4730XLJ0056468",
                        "CIARAMA MAQUINAS LTDA",
                        "9/5/2022",
                        "3948.25",
                        "61 to 365 days"
                      ],
                      [
                        "1NW4730XPE0001337",
                        "CIARAMA MAQUINAS LTDA",
                        "4/21/2023",
                        "10484.75",
                        "Last 15 days"
                      ],
                      [
                        "1NW4730XPE0001483",
                        "CIARAMA MAQUINAS LTDA",
                        "4/24/2023",
                        "10649.65",
                        "Last 15 days"
                      ],
                      [
                        "1NW4730XPH0055774",
                        "CIARAMA MAQUINAS LTDA",
                        "4/12/2023",
                        "8017.65",
                        "Last 15 days"
                      ],
                      [
                        "1NW4730XVE0001456",
                        "CIARAMA MAQUINAS LTDA",
                        "3/21/2023",
                        "3973.0",
                        "16 to 60 days"
                      ],
                      [
                        "1NW4730XVH0055277",
                        "CIARAMA MAQUINAS LTDA",
                        "4/18/2023",
                        "7971.2",
                        "Last 15 days"
                      ],
                      [
                        "1NW4730XVJ0056094",
                        "CIARAMA MAQUINAS LTDA",
                        "2/24/2022",
                        "4898.3",
                        "365+ days"
                      ],
                      [
                        "1NW4730XVJ0056466",
                        "CIARAMA MAQUINAS LTDA",
                        "12/7/2020",
                        "1903.75",
                        "365+ days"
                      ],
                      [
                        "1NWC570HAGT160255",
                        "CIARAMA MAQUINAS LTDA",
                        "4/22/2023",
                        "18666.25",
                        "Last 15 days"
                      ],
                      [
                        "1NWC570HCJT190022",
                        "CIARAMA MAQUINAS LTDA",
                        "4/23/2023",
                        "14218.0",
                        "Last 15 days"
                      ],
                      [
                        "1NWC570HCLT200107",
                        "CIARAMA MAQUINAS LTDA",
                        "4/22/2023",
                        "12602.15",
                        "Last 15 days"
                      ],
                      [
                        "1NWC570HCLT200110",
                        "CIARAMA MAQUINAS LTDA",
                        "4/24/2023",
                        "12360.15",
                        "Last 15 days"
                      ],
                      [
                        "1NWC570HCLT200401",
                        "CIARAMA MAQUINAS LTDA",
                        "4/1/2023",
                        "7144.75",
                        "16 to 60 days"
                      ],
                      [
                        "1NWC570HCMT210063",
                        "CIARAMA MAQUINAS LTDA",
                        "4/24/2023",
                        "8485.6",
                        "Last 15 days"
                      ],
                      [
                        "1NWC570HCMT210136",
                        "CIARAMA MAQUINAS LTDA",
                        "4/22/2023",
                        "5163.9",
                        "Last 15 days"
                      ],
                      [
                        "1NWC570HCMT210502",
                        "CIARAMA MAQUINAS LTDA",
                        "4/24/2023",
                        "4938.6",
                        "Last 15 days"
                      ],
                      [
                        "1NWC570HCNT220397",
                        "CIARAMA MAQUINAS LTDA",
                        "1/12/2023",
                        "6.4",
                        "61 to 365 days"
                      ],
                      [
                        "1NWC570HEKT190157",
                        "CIARAMA MAQUINAS LTDA",
                        "4/11/2023",
                        "10135.6",
                        "Last 15 days"
                      ],
                      [
                        "1NWC570HELT200106",
                        "CIARAMA MAQUINAS LTDA",
                        "4/24/2023",
                        "11400.45",
                        "Last 15 days"
                      ],
                      [
                        "1NWC570HEMT210135",
                        "CIARAMA MAQUINAS LTDA",
                        "4/24/2023",
                        "6255.25",
                        "Last 15 days"
                      ],
                      [
                        "1NWC570HEMT210524",
                        "CIARAMA MAQUINAS LTDA",
                        "3/2/2023",
                        "4224.8",
                        "16 to 60 days"
                      ],
                      [
                        "1NWC570HHKT190156",
                        "CIARAMA MAQUINAS LTDA",
                        "4/23/2023",
                        "10905.5",
                        "Last 15 days"
                      ],
                      [
                        "1NWC570HHLT200105",
                        "CIARAMA MAQUINAS LTDA",
                        "4/24/2023",
                        "11740.65",
                        "Last 15 days"
                      ],
                      [
                        "1NWC570HJJT190021",
                        "CIARAMA MAQUINAS LTDA",
                        "4/22/2023",
                        "11648.95",
                        "Last 15 days"
                      ],
                      [
                        "1NWC570HJLT200114",
                        "CIARAMA MAQUINAS LTDA",
                        "3/27/2023",
                        "10413.1",
                        "16 to 60 days"
                      ],
                      [
                        "1NWC570HJLT210013",
                        "CIARAMA MAQUINAS LTDA",
                        "4/23/2023",
                        "6049.5",
                        "Last 15 days"
                      ],
                      [
                        "1NWC570HJMT220025",
                        "CIARAMA MAQUINAS LTDA",
                        "4/22/2023",
                        "2131.6",
                        "Last 15 days"
                      ],
                      [
                        "1NWC570HKJT190020",
                        "CIARAMA MAQUINAS LTDA",
                        "12/7/2022",
                        "10049.15",
                        "61 to 365 days"
                      ],
                      [
                        "1NWC570HKLT200399",
                        "CIARAMA MAQUINAS LTDA",
                        "4/10/2023",
                        "8128.85",
                        "Last 15 days"
                      ],
                      [
                        "1NWC570HKMT210089",
                        "CIARAMA MAQUINAS LTDA",
                        "4/24/2023",
                        "8505.7",
                        "Last 15 days"
                      ],
                      [
                        "1NWC570HLMT210522",
                        "CIARAMA MAQUINAS LTDA",
                        "4/10/2023",
                        "4843.8",
                        "Last 15 days"
                      ],
                      [
                        "1NWC570HPLT200109",
                        "CIARAMA MAQUINAS LTDA",
                        "4/24/2023",
                        "11563.1",
                        "Last 15 days"
                      ],
                      [
                        "1NWC570HTKT190176",
                        "CIARAMA MAQUINAS LTDA",
                        "4/24/2023",
                        "11102.05",
                        "Last 15 days"
                      ],
                      [
                        "1NWC570HTLT200237",
                        "CIARAMA MAQUINAS LTDA",
                        "3/29/2023",
                        "6232.45",
                        "16 to 60 days"
                      ],
                      [
                        "1NWC570HTMT210137",
                        "CIARAMA MAQUINAS LTDA",
                        "2/16/2023",
                        "5387.5",
                        "61 to 365 days"
                      ],
                      [
                        "1NWC570HTMT210509",
                        "CIARAMA MAQUINAS LTDA",
                        "4/24/2023",
                        "5001.4",
                        "Last 15 days"
                      ],
                      [
                        "1NWC570HTNT220149",
                        "CIARAMA MAQUINAS LTDA",
                        "4/24/2023",
                        "3520.4",
                        "Last 15 days"
                      ],
                      [
                        "1NWC570HVMT210064",
                        "CIARAMA MAQUINAS LTDA",
                        "4/24/2023",
                        "8502.85",
                        "Last 15 days"
                      ],
                      [
                        "1NWC570HVMT210498",
                        "CIARAMA MAQUINAS LTDA",
                        "4/24/2023",
                        "4982.9",
                        "Last 15 days"
                      ],
                      [
                        "1NWC570HVNT220398",
                        "CIARAMA MAQUINAS LTDA",
                        "4/23/2023",
                        "541.95",
                        "Last 15 days"
                      ],
                      [
                        "1NWC950HCMT210217",
                        "CIARAMA MAQUINAS LTDA",
                        "4/24/2023",
                        "6450.0",
                        "Last 15 days"
                      ],
                      [
                        "1NWC950HCMT210226",
                        "CIARAMA MAQUINAS LTDA",
                        "4/24/2023",
                        "6485.5",
                        "Last 15 days"
                      ],
                      [
                        "1NWC950HCNT220358",
                        "CIARAMA MAQUINAS LTDA",
                        "4/21/2023",
                        "1518.6",
                        "Last 15 days"
                      ],
                      [
                        "1NWC950HCNT220367",
                        "CIARAMA MAQUINAS LTDA",
                        "4/17/2023",
                        "1475.0",
                        "Last 15 days"
                      ],
                      [
                        "1NWC950HEMT210225",
                        "CIARAMA MAQUINAS LTDA",
                        "4/24/2023",
                        "6413.25",
                        "Last 15 days"
                      ],
                      [
                        "1NWC950HENT220366",
                        "CIARAMA MAQUINAS LTDA",
                        "4/16/2023",
                        "1437.1",
                        "Last 15 days"
                      ],
                      [
                        "1NWC950HHMT210224",
                        "CIARAMA MAQUINAS LTDA",
                        "4/24/2023",
                        "6147.6",
                        "Last 15 days"
                      ],
                      [
                        "1NWC950HJNT220374",
                        "CIARAMA MAQUINAS LTDA",
                        "4/20/2023",
                        "2031.1",
                        "Last 15 days"
                      ],
                      [
                        "1NWC950HKKT210003",
                        "CIARAMA MAQUINAS LTDA",
                        "4/24/2023",
                        "4319.25",
                        "Last 15 days"
                      ],
                      [
                        "1NWC950HKLT210102",
                        "CIARAMA MAQUINAS LTDA",
                        "4/21/2023",
                        "8751.4",
                        "Last 15 days"
                      ],
                      [
                        "1NWC950HPLT210101",
                        "CIARAMA MAQUINAS LTDA",
                        "4/16/2023",
                        "9162.9",
                        "Last 15 days"
                      ],
                      [
                        "1NWC950HPLT210115",
                        "CIARAMA MAQUINAS LTDA",
                        "4/10/2023",
                        "8125.55",
                        "Last 15 days"
                      ],
                      [
                        "1NWC950HPNT220369",
                        "CIARAMA MAQUINAS LTDA",
                        "4/23/2023",
                        "1790.4",
                        "Last 15 days"
                      ],
                      [
                        "1NWC950HTLT210114",
                        "CIARAMA MAQUINAS LTDA",
                        "4/23/2023",
                        "8551.9",
                        "Last 15 days"
                      ],
                      [
                        "1NWC950HTMT210230",
                        "CIARAMA MAQUINAS LTDA",
                        "4/1/2023",
                        "5599.05",
                        "16 to 60 days"
                      ],
                      [
                        "1NWC950HTNT220368",
                        "CIARAMA MAQUINAS LTDA",
                        "4/23/2023",
                        "1799.3",
                        "Last 15 days"
                      ],
                      [
                        "1NWC950HVMT210218",
                        "CIARAMA MAQUINAS LTDA",
                        "4/23/2023",
                        "6090.15",
                        "Last 15 days"
                      ],
                      [
                        "1NWC950HVNT220314",
                        "CIARAMA MAQUINAS LTDA",
                        "4/17/2023",
                        "1455.55",
                        "Last 15 days"
                      ],
                      [
                        "1NWC950HVNT220376",
                        "CIARAMA MAQUINAS LTDA",
                        "4/23/2023",
                        "2006.8",
                        "Last 15 days"
                      ],
                      [
                        "1RW8260RKCP059078",
                        "CIARAMA MAQUINAS LTDA",
                        "3/3/2023",
                        "11504.7",
                        "16 to 60 days"
                      ],
                      [
                        "1RW8335RACP056000",
                        "CIARAMA MAQUINAS LTDA",
                        "4/22/2023",
                        "1069.5",
                        "Last 15 days"
                      ],
                      [
                        "1RW8335RCCP060559",
                        "CIARAMA MAQUINAS LTDA",
                        "3/25/2023",
                        "8457.7",
                        "16 to 60 days"
                      ],
                      [
                        "1RW8335RCCP060772",
                        "CIARAMA MAQUINAS LTDA",
                        "7/29/2022",
                        "5020.55",
                        "61 to 365 days"
                      ],
                      [
                        "1RW8335RCCP065261",
                        "CIARAMA MAQUINAS LTDA",
                        "12/23/2022",
                        "13118.65",
                        "61 to 365 days"
                      ],
                      [
                        "1RW8335REDP072946",
                        "CIARAMA MAQUINAS LTDA",
                        "4/21/2023",
                        "6889.95",
                        "Last 15 days"
                      ],
                      [
                        "1RW8335REEP085083",
                        "CIARAMA MAQUINAS LTDA",
                        "2/25/2023",
                        "12438.9",
                        "16 to 60 days"
                      ],
                      [
                        "1RW8335RVDP072259",
                        "CIARAMA MAQUINAS LTDA",
                        "10/27/2021",
                        "5465.85",
                        "365+ days"
                      ],
                      [
                        "1RW9490DJNA075924",
                        "CIARAMA MAQUINAS LTDA",
                        "4/24/2023",
                        "174.9",
                        "Last 15 days"
                      ],
                      [
                        "1RW9520RCMP066601",
                        "CIARAMA MAQUINAS LTDA",
                        "4/24/2023",
                        "2844.2",
                        "Last 15 days"
                      ],
                      [
                        "1RW9520RKKP062386",
                        "CIARAMA MAQUINAS LTDA",
                        "7/15/2021",
                        "2583.25",
                        "365+ days"
                      ],
                      [
                        "1RW9520RKMP067221",
                        "CIARAMA MAQUINAS LTDA",
                        "12/4/2022",
                        "673.55",
                        "61 to 365 days"
                      ],
                      [
                        "1RW9520RVJP060883",
                        "CIARAMA MAQUINAS LTDA",
                        "10/24/2022",
                        "2379.75",
                        "61 to 365 days"
                      ],
                      [
                        "1RW9540DCNA075858",
                        "CIARAMA MAQUINAS LTDA",
                        "4/13/2023",
                        "264.3",
                        "Last 15 days"
                      ],
                      [
                        "1RW9540DHNA080225",
                        "CIARAMA MAQUINAS LTDA",
                        "4/19/2023",
                        "3.067",
                        "Last 15 days"
                      ],
                      [
                        "1RW9590DANA080221",
                        "CIARAMA MAQUINAS LTDA",
                        "3/7/2023",
                        "3.25",
                        "16 to 60 days"
                      ],
                      [
                        "1YF0125JPMH000888",
                        "CIARAMA MAQUINAS LTDA",
                        "2/7/2022",
                        "",
                        "365+ days"
                      ],
                      [
                        "1YF0125JVMH000850",
                        "CIARAMA MAQUINAS LTDA",
                        "12/7/2022",
                        "4059.167",
                        "61 to 365 days"
                      ],
                      [
                        "BM7230J007837",
                        "CIARAMA MAQUINAS LTDA",
                        "7/22/2022",
                        "2.7",
                        "61 to 365 days"
                      ],
                      [
                        "N04730X004215",
                        "CIARAMA MAQUINAS LTDA",
                        "3/15/2023",
                        "7889.9",
                        "16 to 60 days"
                      ],
                      [
                        "N04730X004272",
                        "CIARAMA MAQUINAS LTDA",
                        "8/23/2022",
                        "8335.5",
                        "61 to 365 days"
                      ]
                    ]
                  }
                ]
              }
            },
            "_embedded": true,
            "_init_error": "",
            "_model_module": "powerbi-jupyter-client",
            "_model_module_version": "3.0.0",
            "_model_name": "QuickVisualizeModel",
            "_token_expired": false,
            "_view_count": null,
            "_view_module": "powerbi-jupyter-client",
            "_view_module_version": "3.0.0",
            "_view_name": "QuickVisualizeView",
            "container_height": 0,
            "container_width": 0,
            "layout": "IPY_MODEL_118b511636234711b86a2984d31e2c49"
          }
        },
        "118b511636234711b86a2984d31e2c49": {
          "model_module": "@jupyter-widgets/base",
          "model_name": "LayoutModel",
          "model_module_version": "1.2.0",
          "state": {
            "_model_module": "@jupyter-widgets/base",
            "_model_module_version": "1.2.0",
            "_model_name": "LayoutModel",
            "_view_count": null,
            "_view_module": "@jupyter-widgets/base",
            "_view_module_version": "1.2.0",
            "_view_name": "LayoutView",
            "align_content": null,
            "align_items": null,
            "align_self": null,
            "border": null,
            "bottom": null,
            "display": null,
            "flex": null,
            "flex_flow": null,
            "grid_area": null,
            "grid_auto_columns": null,
            "grid_auto_flow": null,
            "grid_auto_rows": null,
            "grid_column": null,
            "grid_gap": null,
            "grid_row": null,
            "grid_template_areas": null,
            "grid_template_columns": null,
            "grid_template_rows": null,
            "height": null,
            "justify_content": null,
            "justify_items": null,
            "left": null,
            "margin": null,
            "max_height": null,
            "max_width": null,
            "min_height": null,
            "min_width": null,
            "object_fit": null,
            "object_position": null,
            "order": null,
            "overflow": null,
            "overflow_x": null,
            "overflow_y": null,
            "padding": null,
            "right": null,
            "top": null,
            "visibility": null,
            "width": null
          }
        }
      }
    }
  },
  "nbformat": 4,
  "nbformat_minor": 0
}